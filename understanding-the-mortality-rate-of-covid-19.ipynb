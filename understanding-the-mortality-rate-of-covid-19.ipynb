{
 "cells": [
  {
   "cell_type": "markdown",
   "metadata": {
    "id": "eBy7dFwzGwXU"
   },
   "source": [
    "# **Understanding the Mortality Rate of COVID-19**"
   ]
  },
  {
   "cell_type": "markdown",
   "metadata": {
    "id": "vO2iS7jzIKvy"
   },
   "source": [
    "Following the CRISP-DM Process (Cross Industry Process for Data Mining), this study will be divided in 5 sections: 1. Business Understanding, 2. Data Understanding, 3. Prepare Data, 4. Data Modeling, 5. Evaluate the Results, and 6. Deploy."
   ]
  },
  {
   "cell_type": "markdown",
   "metadata": {
    "id": "TY5MZJzBGq6-"
   },
   "source": [
    "## **1. Business Understanding**"
   ]
  },
  {
   "cell_type": "markdown",
   "metadata": {
    "id": "65vnf3WXJr4x"
   },
   "source": [
    "This study aims to find the causes of the different mortality rates of COVID-19, comparing some aspects that can affect its lethality in countries, such as economy, corruption, education, health, and government regime\n",
    "\n",
    "In this post, we will try to explain some issues:\n",
    "\n",
    "1. Do richer countries perform better against the virus than emerging countries?\n",
    "2. Do the most corrupt countries have more deaths?\n",
    "3. Are countries with the most investments in public health coping better with the pandemic?\n",
    "4. Does the quality of education interfere with the mortality rate?\n",
    "5. Is democracy more prepared to save lives than authoritarian regimes?\n",
    "6. What are the predominant characteristics of countries with the highest and lowest mortality rates?"
   ]
  },
  {
   "cell_type": "markdown",
   "metadata": {
    "id": "uj4SA2xpJ6vJ"
   },
   "source": [
    "## **2: Data Understanding**"
   ]
  },
  {
   "cell_type": "markdown",
   "metadata": {},
   "source": [
    "**Data Source**\n",
    "\n",
    "1. Coronavirus (COVID-19) Deaths (Our World in Data): https://ourworldindata.org/covid-deaths/\n",
    "2. Gross domestic product — GDP (The World Bank): https://data.worldbank.org/indicator/NY.GDP.MKTP.CD\n",
    "3. Corruption Perception Index 2020 (Transparency International): https://www.transparency.org/en/cpi/2020/index/bra\n",
    "4. Education Index (Human Development Reports): http://hdr.undp.org/en/indicators/103706\n",
    "5. The 2021 STC Health Index (Hudson's Global Residence Index): https://globalresidenceindex.com/hnwi-index/health-index/\n",
    "6. Democracy Index 2020 (The Economist Intelligence Unit): https://www.eiu.com/n/campaigns/democracy-index-2020/"
   ]
  },
  {
   "cell_type": "markdown",
   "metadata": {
    "id": "hxNdhWRWDUth"
   },
   "source": [
    "**Importing libraries**"
   ]
  },
  {
   "cell_type": "code",
   "execution_count": 1,
   "metadata": {
    "id": "hz6vwTIFF3bU"
   },
   "outputs": [],
   "source": [
    "import pandas as pd\n",
    "import numpy as np\n",
    "import seaborn as sns\n",
    "import matplotlib.pyplot as plt\n",
    "import matplotlib as mpl\n",
    "from cycler import cycler\n",
    "plt.style.use('ggplot')\n",
    "data = np.random.randn(50)"
   ]
  },
  {
   "cell_type": "code",
   "execution_count": 2,
   "metadata": {},
   "outputs": [
    {
     "name": "stdout",
     "output_type": "stream",
     "text": [
      "['Solarize_Light2', '_classic_test_patch', 'bmh', 'classic', 'dark_background', 'fast', 'fivethirtyeight', 'ggplot', 'grayscale', 'seaborn', 'seaborn-bright', 'seaborn-colorblind', 'seaborn-dark', 'seaborn-dark-palette', 'seaborn-darkgrid', 'seaborn-deep', 'seaborn-muted', 'seaborn-notebook', 'seaborn-paper', 'seaborn-pastel', 'seaborn-poster', 'seaborn-talk', 'seaborn-ticks', 'seaborn-white', 'seaborn-whitegrid', 'tableau-colorblind10']\n"
     ]
    }
   ],
   "source": [
    "print(plt.style.available)"
   ]
  },
  {
   "cell_type": "code",
   "execution_count": 174,
   "metadata": {},
   "outputs": [],
   "source": [
    "plt.style.use('seaborn-notebook')"
   ]
  },
  {
   "cell_type": "markdown",
   "metadata": {
    "id": "mV13G7bnDyOn"
   },
   "source": [
    "**Loading .csv files**"
   ]
  },
  {
   "cell_type": "code",
   "execution_count": 4,
   "metadata": {
    "id": "Tzln0EAmSgRI"
   },
   "outputs": [],
   "source": [
    "df = pd.read_csv(\"covid.csv\", encoding = 'utf8', parse_dates=True)\n",
    "df_gdp = pd.read_csv(\"gdp.csv\", encoding = 'utf8', sep=\",\")\n",
    "df_cpi = pd.read_csv(\"cpi.csv\", encoding = 'utf8', sep=\";\")\n",
    "df_edu = pd.read_csv(\"edu.csv\", encoding = 'utf8', sep=\";\")\n",
    "df_health = pd.read_csv(\"health.csv\", encoding = 'utf8', sep=\";\")\n",
    "df_demo = pd.read_csv(\"demo.csv\", encoding = 'utf8', sep=\";\")"
   ]
  },
  {
   "cell_type": "markdown",
   "metadata": {},
   "source": [
    "### COVID-19"
   ]
  },
  {
   "cell_type": "code",
   "execution_count": 5,
   "metadata": {},
   "outputs": [
    {
     "data": {
      "text/html": [
       "<div>\n",
       "<style scoped>\n",
       "    .dataframe tbody tr th:only-of-type {\n",
       "        vertical-align: middle;\n",
       "    }\n",
       "\n",
       "    .dataframe tbody tr th {\n",
       "        vertical-align: top;\n",
       "    }\n",
       "\n",
       "    .dataframe thead th {\n",
       "        text-align: right;\n",
       "    }\n",
       "</style>\n",
       "<table border=\"1\" class=\"dataframe\">\n",
       "  <thead>\n",
       "    <tr style=\"text-align: right;\">\n",
       "      <th></th>\n",
       "      <th>iso_code</th>\n",
       "      <th>continent</th>\n",
       "      <th>location</th>\n",
       "      <th>date</th>\n",
       "      <th>total_cases</th>\n",
       "      <th>new_cases</th>\n",
       "      <th>new_cases_smoothed</th>\n",
       "      <th>total_deaths</th>\n",
       "      <th>new_deaths</th>\n",
       "      <th>new_deaths_smoothed</th>\n",
       "      <th>...</th>\n",
       "      <th>extreme_poverty</th>\n",
       "      <th>cardiovasc_death_rate</th>\n",
       "      <th>diabetes_prevalence</th>\n",
       "      <th>female_smokers</th>\n",
       "      <th>male_smokers</th>\n",
       "      <th>handwashing_facilities</th>\n",
       "      <th>hospital_beds_per_thousand</th>\n",
       "      <th>life_expectancy</th>\n",
       "      <th>human_development_index</th>\n",
       "      <th>excess_mortality</th>\n",
       "    </tr>\n",
       "  </thead>\n",
       "  <tbody>\n",
       "    <tr>\n",
       "      <th>0</th>\n",
       "      <td>AFG</td>\n",
       "      <td>Asia</td>\n",
       "      <td>Afghanistan</td>\n",
       "      <td>2020-02-24</td>\n",
       "      <td>1.0</td>\n",
       "      <td>1.0</td>\n",
       "      <td>NaN</td>\n",
       "      <td>NaN</td>\n",
       "      <td>NaN</td>\n",
       "      <td>NaN</td>\n",
       "      <td>...</td>\n",
       "      <td>NaN</td>\n",
       "      <td>597.029</td>\n",
       "      <td>9.59</td>\n",
       "      <td>NaN</td>\n",
       "      <td>NaN</td>\n",
       "      <td>37.746</td>\n",
       "      <td>0.5</td>\n",
       "      <td>64.83</td>\n",
       "      <td>0.511</td>\n",
       "      <td>NaN</td>\n",
       "    </tr>\n",
       "    <tr>\n",
       "      <th>1</th>\n",
       "      <td>AFG</td>\n",
       "      <td>Asia</td>\n",
       "      <td>Afghanistan</td>\n",
       "      <td>2020-02-25</td>\n",
       "      <td>1.0</td>\n",
       "      <td>0.0</td>\n",
       "      <td>NaN</td>\n",
       "      <td>NaN</td>\n",
       "      <td>NaN</td>\n",
       "      <td>NaN</td>\n",
       "      <td>...</td>\n",
       "      <td>NaN</td>\n",
       "      <td>597.029</td>\n",
       "      <td>9.59</td>\n",
       "      <td>NaN</td>\n",
       "      <td>NaN</td>\n",
       "      <td>37.746</td>\n",
       "      <td>0.5</td>\n",
       "      <td>64.83</td>\n",
       "      <td>0.511</td>\n",
       "      <td>NaN</td>\n",
       "    </tr>\n",
       "    <tr>\n",
       "      <th>2</th>\n",
       "      <td>AFG</td>\n",
       "      <td>Asia</td>\n",
       "      <td>Afghanistan</td>\n",
       "      <td>2020-02-26</td>\n",
       "      <td>1.0</td>\n",
       "      <td>0.0</td>\n",
       "      <td>NaN</td>\n",
       "      <td>NaN</td>\n",
       "      <td>NaN</td>\n",
       "      <td>NaN</td>\n",
       "      <td>...</td>\n",
       "      <td>NaN</td>\n",
       "      <td>597.029</td>\n",
       "      <td>9.59</td>\n",
       "      <td>NaN</td>\n",
       "      <td>NaN</td>\n",
       "      <td>37.746</td>\n",
       "      <td>0.5</td>\n",
       "      <td>64.83</td>\n",
       "      <td>0.511</td>\n",
       "      <td>NaN</td>\n",
       "    </tr>\n",
       "    <tr>\n",
       "      <th>3</th>\n",
       "      <td>AFG</td>\n",
       "      <td>Asia</td>\n",
       "      <td>Afghanistan</td>\n",
       "      <td>2020-02-27</td>\n",
       "      <td>1.0</td>\n",
       "      <td>0.0</td>\n",
       "      <td>NaN</td>\n",
       "      <td>NaN</td>\n",
       "      <td>NaN</td>\n",
       "      <td>NaN</td>\n",
       "      <td>...</td>\n",
       "      <td>NaN</td>\n",
       "      <td>597.029</td>\n",
       "      <td>9.59</td>\n",
       "      <td>NaN</td>\n",
       "      <td>NaN</td>\n",
       "      <td>37.746</td>\n",
       "      <td>0.5</td>\n",
       "      <td>64.83</td>\n",
       "      <td>0.511</td>\n",
       "      <td>NaN</td>\n",
       "    </tr>\n",
       "    <tr>\n",
       "      <th>4</th>\n",
       "      <td>AFG</td>\n",
       "      <td>Asia</td>\n",
       "      <td>Afghanistan</td>\n",
       "      <td>2020-02-28</td>\n",
       "      <td>1.0</td>\n",
       "      <td>0.0</td>\n",
       "      <td>NaN</td>\n",
       "      <td>NaN</td>\n",
       "      <td>NaN</td>\n",
       "      <td>NaN</td>\n",
       "      <td>...</td>\n",
       "      <td>NaN</td>\n",
       "      <td>597.029</td>\n",
       "      <td>9.59</td>\n",
       "      <td>NaN</td>\n",
       "      <td>NaN</td>\n",
       "      <td>37.746</td>\n",
       "      <td>0.5</td>\n",
       "      <td>64.83</td>\n",
       "      <td>0.511</td>\n",
       "      <td>NaN</td>\n",
       "    </tr>\n",
       "  </tbody>\n",
       "</table>\n",
       "<p>5 rows × 60 columns</p>\n",
       "</div>"
      ],
      "text/plain": [
       "  iso_code continent     location        date  total_cases  new_cases  \\\n",
       "0      AFG      Asia  Afghanistan  2020-02-24          1.0        1.0   \n",
       "1      AFG      Asia  Afghanistan  2020-02-25          1.0        0.0   \n",
       "2      AFG      Asia  Afghanistan  2020-02-26          1.0        0.0   \n",
       "3      AFG      Asia  Afghanistan  2020-02-27          1.0        0.0   \n",
       "4      AFG      Asia  Afghanistan  2020-02-28          1.0        0.0   \n",
       "\n",
       "   new_cases_smoothed  total_deaths  new_deaths  new_deaths_smoothed  ...  \\\n",
       "0                 NaN           NaN         NaN                  NaN  ...   \n",
       "1                 NaN           NaN         NaN                  NaN  ...   \n",
       "2                 NaN           NaN         NaN                  NaN  ...   \n",
       "3                 NaN           NaN         NaN                  NaN  ...   \n",
       "4                 NaN           NaN         NaN                  NaN  ...   \n",
       "\n",
       "   extreme_poverty  cardiovasc_death_rate  diabetes_prevalence  \\\n",
       "0              NaN                597.029                 9.59   \n",
       "1              NaN                597.029                 9.59   \n",
       "2              NaN                597.029                 9.59   \n",
       "3              NaN                597.029                 9.59   \n",
       "4              NaN                597.029                 9.59   \n",
       "\n",
       "   female_smokers  male_smokers  handwashing_facilities  \\\n",
       "0             NaN           NaN                  37.746   \n",
       "1             NaN           NaN                  37.746   \n",
       "2             NaN           NaN                  37.746   \n",
       "3             NaN           NaN                  37.746   \n",
       "4             NaN           NaN                  37.746   \n",
       "\n",
       "   hospital_beds_per_thousand  life_expectancy  human_development_index  \\\n",
       "0                         0.5            64.83                    0.511   \n",
       "1                         0.5            64.83                    0.511   \n",
       "2                         0.5            64.83                    0.511   \n",
       "3                         0.5            64.83                    0.511   \n",
       "4                         0.5            64.83                    0.511   \n",
       "\n",
       "   excess_mortality  \n",
       "0               NaN  \n",
       "1               NaN  \n",
       "2               NaN  \n",
       "3               NaN  \n",
       "4               NaN  \n",
       "\n",
       "[5 rows x 60 columns]"
      ]
     },
     "execution_count": 5,
     "metadata": {},
     "output_type": "execute_result"
    }
   ],
   "source": [
    "df.head(5)"
   ]
  },
  {
   "cell_type": "code",
   "execution_count": 6,
   "metadata": {},
   "outputs": [
    {
     "data": {
      "text/plain": [
       "iso_code                                      0\n",
       "continent                                  4750\n",
       "location                                      0\n",
       "date                                          0\n",
       "total_cases                                3757\n",
       "new_cases                                  3760\n",
       "new_cases_smoothed                         4770\n",
       "total_deaths                              13952\n",
       "new_deaths                                13796\n",
       "new_deaths_smoothed                        4770\n",
       "total_cases_per_million                    4277\n",
       "new_cases_per_million                      4280\n",
       "new_cases_smoothed_per_million             5285\n",
       "total_deaths_per_million                  14459\n",
       "new_deaths_per_million                    14303\n",
       "new_deaths_smoothed_per_million            5285\n",
       "reproduction_rate                         19690\n",
       "icu_patients                              91301\n",
       "icu_patients_per_million                  91301\n",
       "hosp_patients                             88822\n",
       "hosp_patients_per_million                 88822\n",
       "weekly_icu_admissions                    100620\n",
       "weekly_icu_admissions_per_million        100620\n",
       "weekly_hosp_admissions                    99958\n",
       "weekly_hosp_admissions_per_million        99958\n",
       "new_tests                                 56030\n",
       "total_tests                               56362\n",
       "total_tests_per_thousand                  56362\n",
       "new_tests_per_thousand                    56030\n",
       "new_tests_smoothed                        48576\n",
       "new_tests_smoothed_per_thousand           48576\n",
       "positive_rate                             52037\n",
       "tests_per_case                            52635\n",
       "tests_units                               46891\n",
       "total_vaccinations                        83969\n",
       "people_vaccinated                         84815\n",
       "people_fully_vaccinated                   87690\n",
       "new_vaccinations                          86886\n",
       "new_vaccinations_smoothed                 70977\n",
       "total_vaccinations_per_hundred            83969\n",
       "people_vaccinated_per_hundred             84815\n",
       "people_fully_vaccinated_per_hundred       87690\n",
       "new_vaccinations_smoothed_per_million     70977\n",
       "stringency_index                          16733\n",
       "population                                  654\n",
       "population_density                         7219\n",
       "median_age                                10863\n",
       "aged_65_older                             11881\n",
       "aged_70_older                             11364\n",
       "gdp_per_capita                            10507\n",
       "extreme_poverty                           40134\n",
       "cardiovasc_death_rate                     10494\n",
       "diabetes_prevalence                        8130\n",
       "female_smokers                            30347\n",
       "male_smokers                              31386\n",
       "handwashing_facilities                    55794\n",
       "hospital_beds_per_thousand                18623\n",
       "life_expectancy                            5119\n",
       "human_development_index                   10355\n",
       "excess_mortality                          97976\n",
       "dtype: int64"
      ]
     },
     "execution_count": 6,
     "metadata": {},
     "output_type": "execute_result"
    }
   ],
   "source": [
    "np.sum(df.isnull())"
   ]
  },
  {
   "cell_type": "code",
   "execution_count": 7,
   "metadata": {},
   "outputs": [
    {
     "data": {
      "text/plain": [
       "iso_code                                  True\n",
       "continent                                False\n",
       "location                                  True\n",
       "date                                      True\n",
       "total_cases                              False\n",
       "new_cases                                False\n",
       "new_cases_smoothed                       False\n",
       "total_deaths                             False\n",
       "new_deaths                               False\n",
       "new_deaths_smoothed                      False\n",
       "total_cases_per_million                  False\n",
       "new_cases_per_million                    False\n",
       "new_cases_smoothed_per_million           False\n",
       "total_deaths_per_million                 False\n",
       "new_deaths_per_million                   False\n",
       "new_deaths_smoothed_per_million          False\n",
       "reproduction_rate                        False\n",
       "icu_patients                             False\n",
       "icu_patients_per_million                 False\n",
       "hosp_patients                            False\n",
       "hosp_patients_per_million                False\n",
       "weekly_icu_admissions                    False\n",
       "weekly_icu_admissions_per_million        False\n",
       "weekly_hosp_admissions                   False\n",
       "weekly_hosp_admissions_per_million       False\n",
       "new_tests                                False\n",
       "total_tests                              False\n",
       "total_tests_per_thousand                 False\n",
       "new_tests_per_thousand                   False\n",
       "new_tests_smoothed                       False\n",
       "new_tests_smoothed_per_thousand          False\n",
       "positive_rate                            False\n",
       "tests_per_case                           False\n",
       "tests_units                              False\n",
       "total_vaccinations                       False\n",
       "people_vaccinated                        False\n",
       "people_fully_vaccinated                  False\n",
       "new_vaccinations                         False\n",
       "new_vaccinations_smoothed                False\n",
       "total_vaccinations_per_hundred           False\n",
       "people_vaccinated_per_hundred            False\n",
       "people_fully_vaccinated_per_hundred      False\n",
       "new_vaccinations_smoothed_per_million    False\n",
       "stringency_index                         False\n",
       "population                               False\n",
       "population_density                       False\n",
       "median_age                               False\n",
       "aged_65_older                            False\n",
       "aged_70_older                            False\n",
       "gdp_per_capita                           False\n",
       "extreme_poverty                          False\n",
       "cardiovasc_death_rate                    False\n",
       "diabetes_prevalence                      False\n",
       "female_smokers                           False\n",
       "male_smokers                             False\n",
       "handwashing_facilities                   False\n",
       "hospital_beds_per_thousand               False\n",
       "life_expectancy                          False\n",
       "human_development_index                  False\n",
       "excess_mortality                         False\n",
       "dtype: bool"
      ]
     },
     "execution_count": 7,
     "metadata": {},
     "output_type": "execute_result"
    }
   ],
   "source": [
    "np.sum(df.isnull()) == 0"
   ]
  },
  {
   "cell_type": "code",
   "execution_count": 8,
   "metadata": {},
   "outputs": [
    {
     "data": {
      "text/plain": [
       "Index(['iso_code', 'location', 'date'], dtype='object')"
      ]
     },
     "execution_count": 8,
     "metadata": {},
     "output_type": "execute_result"
    }
   ],
   "source": [
    "df.columns[np.sum(df.isnull()) == 0]"
   ]
  },
  {
   "cell_type": "code",
   "execution_count": 9,
   "metadata": {},
   "outputs": [],
   "source": [
    "no_nulls = set(df.columns[np.sum(df.isnull()) == 0])"
   ]
  },
  {
   "cell_type": "code",
   "execution_count": 10,
   "metadata": {},
   "outputs": [
    {
     "data": {
      "text/plain": [
       "{'date', 'iso_code', 'location'}"
      ]
     },
     "execution_count": 10,
     "metadata": {},
     "output_type": "execute_result"
    }
   ],
   "source": [
    "no_nulls"
   ]
  },
  {
   "cell_type": "markdown",
   "metadata": {},
   "source": [
    "**df**"
   ]
  },
  {
   "cell_type": "code",
   "execution_count": 11,
   "metadata": {},
   "outputs": [
    {
     "data": {
      "text/html": [
       "<div>\n",
       "<style scoped>\n",
       "    .dataframe tbody tr th:only-of-type {\n",
       "        vertical-align: middle;\n",
       "    }\n",
       "\n",
       "    .dataframe tbody tr th {\n",
       "        vertical-align: top;\n",
       "    }\n",
       "\n",
       "    .dataframe thead th {\n",
       "        text-align: right;\n",
       "    }\n",
       "</style>\n",
       "<table border=\"1\" class=\"dataframe\">\n",
       "  <thead>\n",
       "    <tr style=\"text-align: right;\">\n",
       "      <th></th>\n",
       "      <th>iso_code</th>\n",
       "      <th>continent</th>\n",
       "      <th>location</th>\n",
       "      <th>date</th>\n",
       "      <th>total_cases</th>\n",
       "      <th>new_cases</th>\n",
       "      <th>new_cases_smoothed</th>\n",
       "      <th>total_deaths</th>\n",
       "      <th>new_deaths</th>\n",
       "      <th>new_deaths_smoothed</th>\n",
       "      <th>...</th>\n",
       "      <th>extreme_poverty</th>\n",
       "      <th>cardiovasc_death_rate</th>\n",
       "      <th>diabetes_prevalence</th>\n",
       "      <th>female_smokers</th>\n",
       "      <th>male_smokers</th>\n",
       "      <th>handwashing_facilities</th>\n",
       "      <th>hospital_beds_per_thousand</th>\n",
       "      <th>life_expectancy</th>\n",
       "      <th>human_development_index</th>\n",
       "      <th>excess_mortality</th>\n",
       "    </tr>\n",
       "  </thead>\n",
       "  <tbody>\n",
       "    <tr>\n",
       "      <th>0</th>\n",
       "      <td>AFG</td>\n",
       "      <td>Asia</td>\n",
       "      <td>Afghanistan</td>\n",
       "      <td>2020-02-24</td>\n",
       "      <td>1.0</td>\n",
       "      <td>1.0</td>\n",
       "      <td>NaN</td>\n",
       "      <td>NaN</td>\n",
       "      <td>NaN</td>\n",
       "      <td>NaN</td>\n",
       "      <td>...</td>\n",
       "      <td>NaN</td>\n",
       "      <td>597.029</td>\n",
       "      <td>9.59</td>\n",
       "      <td>NaN</td>\n",
       "      <td>NaN</td>\n",
       "      <td>37.746</td>\n",
       "      <td>0.5</td>\n",
       "      <td>64.83</td>\n",
       "      <td>0.511</td>\n",
       "      <td>NaN</td>\n",
       "    </tr>\n",
       "    <tr>\n",
       "      <th>1</th>\n",
       "      <td>AFG</td>\n",
       "      <td>Asia</td>\n",
       "      <td>Afghanistan</td>\n",
       "      <td>2020-02-25</td>\n",
       "      <td>1.0</td>\n",
       "      <td>0.0</td>\n",
       "      <td>NaN</td>\n",
       "      <td>NaN</td>\n",
       "      <td>NaN</td>\n",
       "      <td>NaN</td>\n",
       "      <td>...</td>\n",
       "      <td>NaN</td>\n",
       "      <td>597.029</td>\n",
       "      <td>9.59</td>\n",
       "      <td>NaN</td>\n",
       "      <td>NaN</td>\n",
       "      <td>37.746</td>\n",
       "      <td>0.5</td>\n",
       "      <td>64.83</td>\n",
       "      <td>0.511</td>\n",
       "      <td>NaN</td>\n",
       "    </tr>\n",
       "    <tr>\n",
       "      <th>2</th>\n",
       "      <td>AFG</td>\n",
       "      <td>Asia</td>\n",
       "      <td>Afghanistan</td>\n",
       "      <td>2020-02-26</td>\n",
       "      <td>1.0</td>\n",
       "      <td>0.0</td>\n",
       "      <td>NaN</td>\n",
       "      <td>NaN</td>\n",
       "      <td>NaN</td>\n",
       "      <td>NaN</td>\n",
       "      <td>...</td>\n",
       "      <td>NaN</td>\n",
       "      <td>597.029</td>\n",
       "      <td>9.59</td>\n",
       "      <td>NaN</td>\n",
       "      <td>NaN</td>\n",
       "      <td>37.746</td>\n",
       "      <td>0.5</td>\n",
       "      <td>64.83</td>\n",
       "      <td>0.511</td>\n",
       "      <td>NaN</td>\n",
       "    </tr>\n",
       "    <tr>\n",
       "      <th>3</th>\n",
       "      <td>AFG</td>\n",
       "      <td>Asia</td>\n",
       "      <td>Afghanistan</td>\n",
       "      <td>2020-02-27</td>\n",
       "      <td>1.0</td>\n",
       "      <td>0.0</td>\n",
       "      <td>NaN</td>\n",
       "      <td>NaN</td>\n",
       "      <td>NaN</td>\n",
       "      <td>NaN</td>\n",
       "      <td>...</td>\n",
       "      <td>NaN</td>\n",
       "      <td>597.029</td>\n",
       "      <td>9.59</td>\n",
       "      <td>NaN</td>\n",
       "      <td>NaN</td>\n",
       "      <td>37.746</td>\n",
       "      <td>0.5</td>\n",
       "      <td>64.83</td>\n",
       "      <td>0.511</td>\n",
       "      <td>NaN</td>\n",
       "    </tr>\n",
       "    <tr>\n",
       "      <th>4</th>\n",
       "      <td>AFG</td>\n",
       "      <td>Asia</td>\n",
       "      <td>Afghanistan</td>\n",
       "      <td>2020-02-28</td>\n",
       "      <td>1.0</td>\n",
       "      <td>0.0</td>\n",
       "      <td>NaN</td>\n",
       "      <td>NaN</td>\n",
       "      <td>NaN</td>\n",
       "      <td>NaN</td>\n",
       "      <td>...</td>\n",
       "      <td>NaN</td>\n",
       "      <td>597.029</td>\n",
       "      <td>9.59</td>\n",
       "      <td>NaN</td>\n",
       "      <td>NaN</td>\n",
       "      <td>37.746</td>\n",
       "      <td>0.5</td>\n",
       "      <td>64.83</td>\n",
       "      <td>0.511</td>\n",
       "      <td>NaN</td>\n",
       "    </tr>\n",
       "    <tr>\n",
       "      <th>...</th>\n",
       "      <td>...</td>\n",
       "      <td>...</td>\n",
       "      <td>...</td>\n",
       "      <td>...</td>\n",
       "      <td>...</td>\n",
       "      <td>...</td>\n",
       "      <td>...</td>\n",
       "      <td>...</td>\n",
       "      <td>...</td>\n",
       "      <td>...</td>\n",
       "      <td>...</td>\n",
       "      <td>...</td>\n",
       "      <td>...</td>\n",
       "      <td>...</td>\n",
       "      <td>...</td>\n",
       "      <td>...</td>\n",
       "      <td>...</td>\n",
       "      <td>...</td>\n",
       "      <td>...</td>\n",
       "      <td>...</td>\n",
       "      <td>...</td>\n",
       "    </tr>\n",
       "    <tr>\n",
       "      <th>101542</th>\n",
       "      <td>ZWE</td>\n",
       "      <td>Africa</td>\n",
       "      <td>Zimbabwe</td>\n",
       "      <td>2021-07-06</td>\n",
       "      <td>57963.0</td>\n",
       "      <td>1949.0</td>\n",
       "      <td>1347.143</td>\n",
       "      <td>1939.0</td>\n",
       "      <td>28.0</td>\n",
       "      <td>25.429</td>\n",
       "      <td>...</td>\n",
       "      <td>21.4</td>\n",
       "      <td>307.846</td>\n",
       "      <td>1.82</td>\n",
       "      <td>1.6</td>\n",
       "      <td>30.7</td>\n",
       "      <td>36.791</td>\n",
       "      <td>1.7</td>\n",
       "      <td>61.49</td>\n",
       "      <td>0.571</td>\n",
       "      <td>NaN</td>\n",
       "    </tr>\n",
       "    <tr>\n",
       "      <th>101543</th>\n",
       "      <td>ZWE</td>\n",
       "      <td>Africa</td>\n",
       "      <td>Zimbabwe</td>\n",
       "      <td>2021-07-07</td>\n",
       "      <td>60227.0</td>\n",
       "      <td>2264.0</td>\n",
       "      <td>1480.429</td>\n",
       "      <td>1973.0</td>\n",
       "      <td>34.0</td>\n",
       "      <td>26.286</td>\n",
       "      <td>...</td>\n",
       "      <td>21.4</td>\n",
       "      <td>307.846</td>\n",
       "      <td>1.82</td>\n",
       "      <td>1.6</td>\n",
       "      <td>30.7</td>\n",
       "      <td>36.791</td>\n",
       "      <td>1.7</td>\n",
       "      <td>61.49</td>\n",
       "      <td>0.571</td>\n",
       "      <td>NaN</td>\n",
       "    </tr>\n",
       "    <tr>\n",
       "      <th>101544</th>\n",
       "      <td>ZWE</td>\n",
       "      <td>Africa</td>\n",
       "      <td>Zimbabwe</td>\n",
       "      <td>2021-07-08</td>\n",
       "      <td>62383.0</td>\n",
       "      <td>2156.0</td>\n",
       "      <td>1594.571</td>\n",
       "      <td>2029.0</td>\n",
       "      <td>56.0</td>\n",
       "      <td>31.571</td>\n",
       "      <td>...</td>\n",
       "      <td>21.4</td>\n",
       "      <td>307.846</td>\n",
       "      <td>1.82</td>\n",
       "      <td>1.6</td>\n",
       "      <td>30.7</td>\n",
       "      <td>36.791</td>\n",
       "      <td>1.7</td>\n",
       "      <td>61.49</td>\n",
       "      <td>0.571</td>\n",
       "      <td>NaN</td>\n",
       "    </tr>\n",
       "    <tr>\n",
       "      <th>101545</th>\n",
       "      <td>ZWE</td>\n",
       "      <td>Africa</td>\n",
       "      <td>Zimbabwe</td>\n",
       "      <td>2021-07-09</td>\n",
       "      <td>65066.0</td>\n",
       "      <td>2683.0</td>\n",
       "      <td>1771.857</td>\n",
       "      <td>2084.0</td>\n",
       "      <td>55.0</td>\n",
       "      <td>34.714</td>\n",
       "      <td>...</td>\n",
       "      <td>21.4</td>\n",
       "      <td>307.846</td>\n",
       "      <td>1.82</td>\n",
       "      <td>1.6</td>\n",
       "      <td>30.7</td>\n",
       "      <td>36.791</td>\n",
       "      <td>1.7</td>\n",
       "      <td>61.49</td>\n",
       "      <td>0.571</td>\n",
       "      <td>NaN</td>\n",
       "    </tr>\n",
       "    <tr>\n",
       "      <th>101546</th>\n",
       "      <td>ZWE</td>\n",
       "      <td>Africa</td>\n",
       "      <td>Zimbabwe</td>\n",
       "      <td>2021-07-10</td>\n",
       "      <td>66853.0</td>\n",
       "      <td>1787.0</td>\n",
       "      <td>1884.000</td>\n",
       "      <td>2126.0</td>\n",
       "      <td>42.0</td>\n",
       "      <td>38.143</td>\n",
       "      <td>...</td>\n",
       "      <td>21.4</td>\n",
       "      <td>307.846</td>\n",
       "      <td>1.82</td>\n",
       "      <td>1.6</td>\n",
       "      <td>30.7</td>\n",
       "      <td>36.791</td>\n",
       "      <td>1.7</td>\n",
       "      <td>61.49</td>\n",
       "      <td>0.571</td>\n",
       "      <td>NaN</td>\n",
       "    </tr>\n",
       "  </tbody>\n",
       "</table>\n",
       "<p>101547 rows × 60 columns</p>\n",
       "</div>"
      ],
      "text/plain": [
       "       iso_code continent     location        date  total_cases  new_cases  \\\n",
       "0           AFG      Asia  Afghanistan  2020-02-24          1.0        1.0   \n",
       "1           AFG      Asia  Afghanistan  2020-02-25          1.0        0.0   \n",
       "2           AFG      Asia  Afghanistan  2020-02-26          1.0        0.0   \n",
       "3           AFG      Asia  Afghanistan  2020-02-27          1.0        0.0   \n",
       "4           AFG      Asia  Afghanistan  2020-02-28          1.0        0.0   \n",
       "...         ...       ...          ...         ...          ...        ...   \n",
       "101542      ZWE    Africa     Zimbabwe  2021-07-06      57963.0     1949.0   \n",
       "101543      ZWE    Africa     Zimbabwe  2021-07-07      60227.0     2264.0   \n",
       "101544      ZWE    Africa     Zimbabwe  2021-07-08      62383.0     2156.0   \n",
       "101545      ZWE    Africa     Zimbabwe  2021-07-09      65066.0     2683.0   \n",
       "101546      ZWE    Africa     Zimbabwe  2021-07-10      66853.0     1787.0   \n",
       "\n",
       "        new_cases_smoothed  total_deaths  new_deaths  new_deaths_smoothed  \\\n",
       "0                      NaN           NaN         NaN                  NaN   \n",
       "1                      NaN           NaN         NaN                  NaN   \n",
       "2                      NaN           NaN         NaN                  NaN   \n",
       "3                      NaN           NaN         NaN                  NaN   \n",
       "4                      NaN           NaN         NaN                  NaN   \n",
       "...                    ...           ...         ...                  ...   \n",
       "101542            1347.143        1939.0        28.0               25.429   \n",
       "101543            1480.429        1973.0        34.0               26.286   \n",
       "101544            1594.571        2029.0        56.0               31.571   \n",
       "101545            1771.857        2084.0        55.0               34.714   \n",
       "101546            1884.000        2126.0        42.0               38.143   \n",
       "\n",
       "        ...  extreme_poverty  cardiovasc_death_rate  diabetes_prevalence  \\\n",
       "0       ...              NaN                597.029                 9.59   \n",
       "1       ...              NaN                597.029                 9.59   \n",
       "2       ...              NaN                597.029                 9.59   \n",
       "3       ...              NaN                597.029                 9.59   \n",
       "4       ...              NaN                597.029                 9.59   \n",
       "...     ...              ...                    ...                  ...   \n",
       "101542  ...             21.4                307.846                 1.82   \n",
       "101543  ...             21.4                307.846                 1.82   \n",
       "101544  ...             21.4                307.846                 1.82   \n",
       "101545  ...             21.4                307.846                 1.82   \n",
       "101546  ...             21.4                307.846                 1.82   \n",
       "\n",
       "        female_smokers  male_smokers  handwashing_facilities  \\\n",
       "0                  NaN           NaN                  37.746   \n",
       "1                  NaN           NaN                  37.746   \n",
       "2                  NaN           NaN                  37.746   \n",
       "3                  NaN           NaN                  37.746   \n",
       "4                  NaN           NaN                  37.746   \n",
       "...                ...           ...                     ...   \n",
       "101542             1.6          30.7                  36.791   \n",
       "101543             1.6          30.7                  36.791   \n",
       "101544             1.6          30.7                  36.791   \n",
       "101545             1.6          30.7                  36.791   \n",
       "101546             1.6          30.7                  36.791   \n",
       "\n",
       "        hospital_beds_per_thousand  life_expectancy  human_development_index  \\\n",
       "0                              0.5            64.83                    0.511   \n",
       "1                              0.5            64.83                    0.511   \n",
       "2                              0.5            64.83                    0.511   \n",
       "3                              0.5            64.83                    0.511   \n",
       "4                              0.5            64.83                    0.511   \n",
       "...                            ...              ...                      ...   \n",
       "101542                         1.7            61.49                    0.571   \n",
       "101543                         1.7            61.49                    0.571   \n",
       "101544                         1.7            61.49                    0.571   \n",
       "101545                         1.7            61.49                    0.571   \n",
       "101546                         1.7            61.49                    0.571   \n",
       "\n",
       "        excess_mortality  \n",
       "0                    NaN  \n",
       "1                    NaN  \n",
       "2                    NaN  \n",
       "3                    NaN  \n",
       "4                    NaN  \n",
       "...                  ...  \n",
       "101542               NaN  \n",
       "101543               NaN  \n",
       "101544               NaN  \n",
       "101545               NaN  \n",
       "101546               NaN  \n",
       "\n",
       "[101547 rows x 60 columns]"
      ]
     },
     "execution_count": 11,
     "metadata": {},
     "output_type": "execute_result"
    }
   ],
   "source": [
    "df"
   ]
  },
  {
   "cell_type": "code",
   "execution_count": 12,
   "metadata": {},
   "outputs": [],
   "source": [
    "df = df[['location','date','total_deaths_per_million']]"
   ]
  },
  {
   "cell_type": "code",
   "execution_count": 13,
   "metadata": {},
   "outputs": [],
   "source": [
    "df = df[df['date'] == '2021-07-10'].drop(columns=['date'])"
   ]
  },
  {
   "cell_type": "code",
   "execution_count": 14,
   "metadata": {},
   "outputs": [],
   "source": [
    "df = df[['location','total_deaths_per_million']]"
   ]
  },
  {
   "cell_type": "code",
   "execution_count": 15,
   "metadata": {},
   "outputs": [
    {
     "data": {
      "text/html": [
       "<div>\n",
       "<style scoped>\n",
       "    .dataframe tbody tr th:only-of-type {\n",
       "        vertical-align: middle;\n",
       "    }\n",
       "\n",
       "    .dataframe tbody tr th {\n",
       "        vertical-align: top;\n",
       "    }\n",
       "\n",
       "    .dataframe thead th {\n",
       "        text-align: right;\n",
       "    }\n",
       "</style>\n",
       "<table border=\"1\" class=\"dataframe\">\n",
       "  <thead>\n",
       "    <tr style=\"text-align: right;\">\n",
       "      <th></th>\n",
       "      <th>location</th>\n",
       "      <th>total_deaths_per_million</th>\n",
       "    </tr>\n",
       "  </thead>\n",
       "  <tbody>\n",
       "    <tr>\n",
       "      <th>502</th>\n",
       "      <td>Afghanistan</td>\n",
       "      <td>142.852</td>\n",
       "    </tr>\n",
       "    <tr>\n",
       "      <th>1016</th>\n",
       "      <td>Africa</td>\n",
       "      <td>112.767</td>\n",
       "    </tr>\n",
       "    <tr>\n",
       "      <th>1518</th>\n",
       "      <td>Albania</td>\n",
       "      <td>853.430</td>\n",
       "    </tr>\n",
       "    <tr>\n",
       "      <th>2020</th>\n",
       "      <td>Algeria</td>\n",
       "      <td>87.204</td>\n",
       "    </tr>\n",
       "    <tr>\n",
       "      <th>2516</th>\n",
       "      <td>Andorra</td>\n",
       "      <td>1643.694</td>\n",
       "    </tr>\n",
       "    <tr>\n",
       "      <th>...</th>\n",
       "      <td>...</td>\n",
       "      <td>...</td>\n",
       "    </tr>\n",
       "    <tr>\n",
       "      <th>99489</th>\n",
       "      <td>Vietnam</td>\n",
       "      <td>1.151</td>\n",
       "    </tr>\n",
       "    <tr>\n",
       "      <th>100131</th>\n",
       "      <td>World</td>\n",
       "      <td>516.370</td>\n",
       "    </tr>\n",
       "    <tr>\n",
       "      <th>100588</th>\n",
       "      <td>Yemen</td>\n",
       "      <td>45.799</td>\n",
       "    </tr>\n",
       "    <tr>\n",
       "      <th>101068</th>\n",
       "      <td>Zambia</td>\n",
       "      <td>150.947</td>\n",
       "    </tr>\n",
       "    <tr>\n",
       "      <th>101546</th>\n",
       "      <td>Zimbabwe</td>\n",
       "      <td>143.040</td>\n",
       "    </tr>\n",
       "  </tbody>\n",
       "</table>\n",
       "<p>204 rows × 2 columns</p>\n",
       "</div>"
      ],
      "text/plain": [
       "           location  total_deaths_per_million\n",
       "502     Afghanistan                   142.852\n",
       "1016         Africa                   112.767\n",
       "1518        Albania                   853.430\n",
       "2020        Algeria                    87.204\n",
       "2516        Andorra                  1643.694\n",
       "...             ...                       ...\n",
       "99489       Vietnam                     1.151\n",
       "100131        World                   516.370\n",
       "100588        Yemen                    45.799\n",
       "101068       Zambia                   150.947\n",
       "101546     Zimbabwe                   143.040\n",
       "\n",
       "[204 rows x 2 columns]"
      ]
     },
     "execution_count": 15,
     "metadata": {},
     "output_type": "execute_result"
    }
   ],
   "source": [
    "df"
   ]
  },
  {
   "cell_type": "markdown",
   "metadata": {},
   "source": [
    "**df2020**"
   ]
  },
  {
   "cell_type": "code",
   "execution_count": 16,
   "metadata": {},
   "outputs": [],
   "source": [
    "df2020 = pd.read_csv(\"covid.csv\", encoding = 'utf8', parse_dates=True)"
   ]
  },
  {
   "cell_type": "code",
   "execution_count": 17,
   "metadata": {},
   "outputs": [],
   "source": [
    "df2020 = df2020[['location','date','total_deaths_per_million']]"
   ]
  },
  {
   "cell_type": "code",
   "execution_count": 18,
   "metadata": {},
   "outputs": [],
   "source": [
    "df2020 = df2020[df2020['date'] == '2020-12-31'].drop(columns=['date'])"
   ]
  },
  {
   "cell_type": "code",
   "execution_count": 19,
   "metadata": {},
   "outputs": [],
   "source": [
    "df2020 = df2020[['location','total_deaths_per_million']]"
   ]
  },
  {
   "cell_type": "code",
   "execution_count": 20,
   "metadata": {},
   "outputs": [
    {
     "data": {
      "text/html": [
       "<div>\n",
       "<style scoped>\n",
       "    .dataframe tbody tr th:only-of-type {\n",
       "        vertical-align: middle;\n",
       "    }\n",
       "\n",
       "    .dataframe tbody tr th {\n",
       "        vertical-align: top;\n",
       "    }\n",
       "\n",
       "    .dataframe thead th {\n",
       "        text-align: right;\n",
       "    }\n",
       "</style>\n",
       "<table border=\"1\" class=\"dataframe\">\n",
       "  <thead>\n",
       "    <tr style=\"text-align: right;\">\n",
       "      <th></th>\n",
       "      <th>location</th>\n",
       "      <th>total_deaths_per_million</th>\n",
       "    </tr>\n",
       "  </thead>\n",
       "  <tbody>\n",
       "    <tr>\n",
       "      <th>311</th>\n",
       "      <td>Afghanistan</td>\n",
       "      <td>56.283</td>\n",
       "    </tr>\n",
       "    <tr>\n",
       "      <th>825</th>\n",
       "      <td>Africa</td>\n",
       "      <td>48.835</td>\n",
       "    </tr>\n",
       "    <tr>\n",
       "      <th>1327</th>\n",
       "      <td>Albania</td>\n",
       "      <td>410.383</td>\n",
       "    </tr>\n",
       "    <tr>\n",
       "      <th>1829</th>\n",
       "      <td>Algeria</td>\n",
       "      <td>62.849</td>\n",
       "    </tr>\n",
       "    <tr>\n",
       "      <th>2325</th>\n",
       "      <td>Andorra</td>\n",
       "      <td>1087.168</td>\n",
       "    </tr>\n",
       "    <tr>\n",
       "      <th>...</th>\n",
       "      <td>...</td>\n",
       "      <td>...</td>\n",
       "    </tr>\n",
       "    <tr>\n",
       "      <th>99298</th>\n",
       "      <td>Vietnam</td>\n",
       "      <td>0.360</td>\n",
       "    </tr>\n",
       "    <tr>\n",
       "      <th>99940</th>\n",
       "      <td>World</td>\n",
       "      <td>241.238</td>\n",
       "    </tr>\n",
       "    <tr>\n",
       "      <th>100397</th>\n",
       "      <td>Yemen</td>\n",
       "      <td>20.452</td>\n",
       "    </tr>\n",
       "    <tr>\n",
       "      <th>100877</th>\n",
       "      <td>Zambia</td>\n",
       "      <td>21.105</td>\n",
       "    </tr>\n",
       "    <tr>\n",
       "      <th>101355</th>\n",
       "      <td>Zimbabwe</td>\n",
       "      <td>24.423</td>\n",
       "    </tr>\n",
       "  </tbody>\n",
       "</table>\n",
       "<p>200 rows × 2 columns</p>\n",
       "</div>"
      ],
      "text/plain": [
       "           location  total_deaths_per_million\n",
       "311     Afghanistan                    56.283\n",
       "825          Africa                    48.835\n",
       "1327        Albania                   410.383\n",
       "1829        Algeria                    62.849\n",
       "2325        Andorra                  1087.168\n",
       "...             ...                       ...\n",
       "99298       Vietnam                     0.360\n",
       "99940         World                   241.238\n",
       "100397        Yemen                    20.452\n",
       "100877       Zambia                    21.105\n",
       "101355     Zimbabwe                    24.423\n",
       "\n",
       "[200 rows x 2 columns]"
      ]
     },
     "execution_count": 20,
     "metadata": {},
     "output_type": "execute_result"
    }
   ],
   "source": [
    "df2020"
   ]
  },
  {
   "cell_type": "code",
   "execution_count": 21,
   "metadata": {},
   "outputs": [
    {
     "data": {
      "text/html": [
       "<div>\n",
       "<style scoped>\n",
       "    .dataframe tbody tr th:only-of-type {\n",
       "        vertical-align: middle;\n",
       "    }\n",
       "\n",
       "    .dataframe tbody tr th {\n",
       "        vertical-align: top;\n",
       "    }\n",
       "\n",
       "    .dataframe thead th {\n",
       "        text-align: right;\n",
       "    }\n",
       "</style>\n",
       "<table border=\"1\" class=\"dataframe\">\n",
       "  <thead>\n",
       "    <tr style=\"text-align: right;\">\n",
       "      <th></th>\n",
       "      <th>location</th>\n",
       "      <th>total_deaths_per_million</th>\n",
       "    </tr>\n",
       "  </thead>\n",
       "  <tbody>\n",
       "    <tr>\n",
       "      <th>502</th>\n",
       "      <td>Afghanistan</td>\n",
       "      <td>142.852</td>\n",
       "    </tr>\n",
       "    <tr>\n",
       "      <th>1016</th>\n",
       "      <td>Africa</td>\n",
       "      <td>112.767</td>\n",
       "    </tr>\n",
       "    <tr>\n",
       "      <th>1518</th>\n",
       "      <td>Albania</td>\n",
       "      <td>853.430</td>\n",
       "    </tr>\n",
       "    <tr>\n",
       "      <th>2020</th>\n",
       "      <td>Algeria</td>\n",
       "      <td>87.204</td>\n",
       "    </tr>\n",
       "    <tr>\n",
       "      <th>2516</th>\n",
       "      <td>Andorra</td>\n",
       "      <td>1643.694</td>\n",
       "    </tr>\n",
       "    <tr>\n",
       "      <th>...</th>\n",
       "      <td>...</td>\n",
       "      <td>...</td>\n",
       "    </tr>\n",
       "    <tr>\n",
       "      <th>99489</th>\n",
       "      <td>Vietnam</td>\n",
       "      <td>1.151</td>\n",
       "    </tr>\n",
       "    <tr>\n",
       "      <th>100131</th>\n",
       "      <td>World</td>\n",
       "      <td>516.370</td>\n",
       "    </tr>\n",
       "    <tr>\n",
       "      <th>100588</th>\n",
       "      <td>Yemen</td>\n",
       "      <td>45.799</td>\n",
       "    </tr>\n",
       "    <tr>\n",
       "      <th>101068</th>\n",
       "      <td>Zambia</td>\n",
       "      <td>150.947</td>\n",
       "    </tr>\n",
       "    <tr>\n",
       "      <th>101546</th>\n",
       "      <td>Zimbabwe</td>\n",
       "      <td>143.040</td>\n",
       "    </tr>\n",
       "  </tbody>\n",
       "</table>\n",
       "<p>204 rows × 2 columns</p>\n",
       "</div>"
      ],
      "text/plain": [
       "           location  total_deaths_per_million\n",
       "502     Afghanistan                   142.852\n",
       "1016         Africa                   112.767\n",
       "1518        Albania                   853.430\n",
       "2020        Algeria                    87.204\n",
       "2516        Andorra                  1643.694\n",
       "...             ...                       ...\n",
       "99489       Vietnam                     1.151\n",
       "100131        World                   516.370\n",
       "100588        Yemen                    45.799\n",
       "101068       Zambia                   150.947\n",
       "101546     Zimbabwe                   143.040\n",
       "\n",
       "[204 rows x 2 columns]"
      ]
     },
     "execution_count": 21,
     "metadata": {},
     "output_type": "execute_result"
    }
   ],
   "source": [
    "df"
   ]
  },
  {
   "cell_type": "code",
   "execution_count": 22,
   "metadata": {},
   "outputs": [],
   "source": [
    "df_death = df.merge(df2020,how = 'inner',left_on = 'location', right_on = 'location')"
   ]
  },
  {
   "cell_type": "code",
   "execution_count": 23,
   "metadata": {},
   "outputs": [],
   "source": [
    "df_death['deaths_2021'] = df_death['total_deaths_per_million_x'] - df_death['total_deaths_per_million_y']"
   ]
  },
  {
   "cell_type": "code",
   "execution_count": 24,
   "metadata": {},
   "outputs": [],
   "source": [
    "df_death = df_death.drop(columns=['total_deaths_per_million_x','total_deaths_per_million_y'])"
   ]
  },
  {
   "cell_type": "code",
   "execution_count": 25,
   "metadata": {},
   "outputs": [
    {
     "data": {
      "text/html": [
       "<div>\n",
       "<style scoped>\n",
       "    .dataframe tbody tr th:only-of-type {\n",
       "        vertical-align: middle;\n",
       "    }\n",
       "\n",
       "    .dataframe tbody tr th {\n",
       "        vertical-align: top;\n",
       "    }\n",
       "\n",
       "    .dataframe thead th {\n",
       "        text-align: right;\n",
       "    }\n",
       "</style>\n",
       "<table border=\"1\" class=\"dataframe\">\n",
       "  <thead>\n",
       "    <tr style=\"text-align: right;\">\n",
       "      <th></th>\n",
       "      <th>location</th>\n",
       "      <th>deaths_2021</th>\n",
       "    </tr>\n",
       "  </thead>\n",
       "  <tbody>\n",
       "    <tr>\n",
       "      <th>0</th>\n",
       "      <td>Afghanistan</td>\n",
       "      <td>86.569</td>\n",
       "    </tr>\n",
       "    <tr>\n",
       "      <th>1</th>\n",
       "      <td>Africa</td>\n",
       "      <td>63.932</td>\n",
       "    </tr>\n",
       "    <tr>\n",
       "      <th>2</th>\n",
       "      <td>Albania</td>\n",
       "      <td>443.047</td>\n",
       "    </tr>\n",
       "    <tr>\n",
       "      <th>3</th>\n",
       "      <td>Algeria</td>\n",
       "      <td>24.355</td>\n",
       "    </tr>\n",
       "    <tr>\n",
       "      <th>4</th>\n",
       "      <td>Andorra</td>\n",
       "      <td>556.526</td>\n",
       "    </tr>\n",
       "    <tr>\n",
       "      <th>...</th>\n",
       "      <td>...</td>\n",
       "      <td>...</td>\n",
       "    </tr>\n",
       "    <tr>\n",
       "      <th>194</th>\n",
       "      <td>Vietnam</td>\n",
       "      <td>0.791</td>\n",
       "    </tr>\n",
       "    <tr>\n",
       "      <th>195</th>\n",
       "      <td>World</td>\n",
       "      <td>275.132</td>\n",
       "    </tr>\n",
       "    <tr>\n",
       "      <th>196</th>\n",
       "      <td>Yemen</td>\n",
       "      <td>25.347</td>\n",
       "    </tr>\n",
       "    <tr>\n",
       "      <th>197</th>\n",
       "      <td>Zambia</td>\n",
       "      <td>129.842</td>\n",
       "    </tr>\n",
       "    <tr>\n",
       "      <th>198</th>\n",
       "      <td>Zimbabwe</td>\n",
       "      <td>118.617</td>\n",
       "    </tr>\n",
       "  </tbody>\n",
       "</table>\n",
       "<p>199 rows × 2 columns</p>\n",
       "</div>"
      ],
      "text/plain": [
       "        location  deaths_2021\n",
       "0    Afghanistan       86.569\n",
       "1         Africa       63.932\n",
       "2        Albania      443.047\n",
       "3        Algeria       24.355\n",
       "4        Andorra      556.526\n",
       "..           ...          ...\n",
       "194      Vietnam        0.791\n",
       "195        World      275.132\n",
       "196        Yemen       25.347\n",
       "197       Zambia      129.842\n",
       "198     Zimbabwe      118.617\n",
       "\n",
       "[199 rows x 2 columns]"
      ]
     },
     "execution_count": 25,
     "metadata": {},
     "output_type": "execute_result"
    }
   ],
   "source": [
    "df_death"
   ]
  },
  {
   "cell_type": "code",
   "execution_count": 26,
   "metadata": {
    "colab": {
     "base_uri": "https://localhost:8080/"
    },
    "id": "PvIhBQZ0Tukl",
    "outputId": "cd858821-ea79-4945-a86c-199b8a0cd3c6"
   },
   "outputs": [
    {
     "data": {
      "text/plain": [
       "Index(['location', 'total_deaths_per_million'], dtype='object')"
      ]
     },
     "execution_count": 26,
     "metadata": {},
     "output_type": "execute_result"
    }
   ],
   "source": [
    "#Column titles\n",
    "df.columns"
   ]
  },
  {
   "cell_type": "code",
   "execution_count": 27,
   "metadata": {
    "colab": {
     "base_uri": "https://localhost:8080/",
     "height": 319
    },
    "id": "1ZZLQ-ZAWjJt",
    "outputId": "01ecadde-f699-4d92-b0f9-371eefe91244"
   },
   "outputs": [
    {
     "data": {
      "text/html": [
       "<div>\n",
       "<style scoped>\n",
       "    .dataframe tbody tr th:only-of-type {\n",
       "        vertical-align: middle;\n",
       "    }\n",
       "\n",
       "    .dataframe tbody tr th {\n",
       "        vertical-align: top;\n",
       "    }\n",
       "\n",
       "    .dataframe thead th {\n",
       "        text-align: right;\n",
       "    }\n",
       "</style>\n",
       "<table border=\"1\" class=\"dataframe\">\n",
       "  <thead>\n",
       "    <tr style=\"text-align: right;\">\n",
       "      <th></th>\n",
       "      <th>total_deaths_per_million</th>\n",
       "    </tr>\n",
       "  </thead>\n",
       "  <tbody>\n",
       "    <tr>\n",
       "      <th>count</th>\n",
       "      <td>193.000000</td>\n",
       "    </tr>\n",
       "    <tr>\n",
       "      <th>mean</th>\n",
       "      <td>699.134228</td>\n",
       "    </tr>\n",
       "    <tr>\n",
       "      <th>std</th>\n",
       "      <td>863.602327</td>\n",
       "    </tr>\n",
       "    <tr>\n",
       "      <th>min</th>\n",
       "      <td>0.352000</td>\n",
       "    </tr>\n",
       "    <tr>\n",
       "      <th>25%</th>\n",
       "      <td>45.799000</td>\n",
       "    </tr>\n",
       "    <tr>\n",
       "      <th>50%</th>\n",
       "      <td>320.806000</td>\n",
       "    </tr>\n",
       "    <tr>\n",
       "      <th>75%</th>\n",
       "      <td>1173.443000</td>\n",
       "    </tr>\n",
       "    <tr>\n",
       "      <th>max</th>\n",
       "      <td>5860.454000</td>\n",
       "    </tr>\n",
       "  </tbody>\n",
       "</table>\n",
       "</div>"
      ],
      "text/plain": [
       "       total_deaths_per_million\n",
       "count                193.000000\n",
       "mean                 699.134228\n",
       "std                  863.602327\n",
       "min                    0.352000\n",
       "25%                   45.799000\n",
       "50%                  320.806000\n",
       "75%                 1173.443000\n",
       "max                 5860.454000"
      ]
     },
     "execution_count": 27,
     "metadata": {},
     "output_type": "execute_result"
    }
   ],
   "source": [
    "#Statistical summary of the DataFrame, with quartiles, median, etc.\n",
    "df.describe()"
   ]
  },
  {
   "cell_type": "code",
   "execution_count": 175,
   "metadata": {},
   "outputs": [
    {
     "data": {
      "text/plain": [
       "<AxesSubplot:xlabel='total_deaths_per_million', ylabel='Count'>"
      ]
     },
     "execution_count": 175,
     "metadata": {},
     "output_type": "execute_result"
    },
    {
     "data": {
      "image/png": "[encoded data removed]",
      "text/plain": [
       "<Figure size 460.8x316.8 with 1 Axes>"
      ]
     },
     "metadata": {},
     "output_type": "display_data"
    }
   ],
   "source": [
    "sns.histplot(data=df, x=\"total_deaths_per_million\")"
   ]
  },
  {
   "cell_type": "markdown",
   "metadata": {},
   "source": [
    "## 3. Prepare Data"
   ]
  },
  {
   "cell_type": "markdown",
   "metadata": {},
   "source": [
    "### GDP"
   ]
  },
  {
   "cell_type": "code",
   "execution_count": 29,
   "metadata": {},
   "outputs": [
    {
     "data": {
      "text/html": [
       "<div>\n",
       "<style scoped>\n",
       "    .dataframe tbody tr th:only-of-type {\n",
       "        vertical-align: middle;\n",
       "    }\n",
       "\n",
       "    .dataframe tbody tr th {\n",
       "        vertical-align: top;\n",
       "    }\n",
       "\n",
       "    .dataframe thead th {\n",
       "        text-align: right;\n",
       "    }\n",
       "</style>\n",
       "<table border=\"1\" class=\"dataframe\">\n",
       "  <thead>\n",
       "    <tr style=\"text-align: right;\">\n",
       "      <th></th>\n",
       "      <th>Country Name</th>\n",
       "      <th>Country Code</th>\n",
       "      <th>Indicator Name</th>\n",
       "      <th>Indicator Code</th>\n",
       "      <th>1960</th>\n",
       "      <th>1961</th>\n",
       "      <th>1962</th>\n",
       "      <th>1963</th>\n",
       "      <th>1964</th>\n",
       "      <th>1965</th>\n",
       "      <th>...</th>\n",
       "      <th>2012</th>\n",
       "      <th>2013</th>\n",
       "      <th>2014</th>\n",
       "      <th>2015</th>\n",
       "      <th>2016</th>\n",
       "      <th>2017</th>\n",
       "      <th>2018</th>\n",
       "      <th>2019</th>\n",
       "      <th>2020</th>\n",
       "      <th>Unnamed: 65</th>\n",
       "    </tr>\n",
       "  </thead>\n",
       "  <tbody>\n",
       "    <tr>\n",
       "      <th>0</th>\n",
       "      <td>Aruba</td>\n",
       "      <td>ABW</td>\n",
       "      <td>GDP (current US$)</td>\n",
       "      <td>NY.GDP.MKTP.CD</td>\n",
       "      <td>NaN</td>\n",
       "      <td>NaN</td>\n",
       "      <td>NaN</td>\n",
       "      <td>NaN</td>\n",
       "      <td>NaN</td>\n",
       "      <td>NaN</td>\n",
       "      <td>...</td>\n",
       "      <td>2.534637e+09</td>\n",
       "      <td>2.727850e+09</td>\n",
       "      <td>2.790849e+09</td>\n",
       "      <td>2.962905e+09</td>\n",
       "      <td>2.983637e+09</td>\n",
       "      <td>3.092430e+09</td>\n",
       "      <td>3.202189e+09</td>\n",
       "      <td>NaN</td>\n",
       "      <td>NaN</td>\n",
       "      <td>NaN</td>\n",
       "    </tr>\n",
       "    <tr>\n",
       "      <th>1</th>\n",
       "      <td>Africa Eastern and Southern</td>\n",
       "      <td>AFE</td>\n",
       "      <td>GDP (current US$)</td>\n",
       "      <td>NY.GDP.MKTP.CD</td>\n",
       "      <td>1.670151e+10</td>\n",
       "      <td>1.748822e+10</td>\n",
       "      <td>1.853584e+10</td>\n",
       "      <td>2.007325e+10</td>\n",
       "      <td>2.186583e+10</td>\n",
       "      <td>2.396287e+10</td>\n",
       "      <td>...</td>\n",
       "      <td>9.131974e+11</td>\n",
       "      <td>9.276555e+11</td>\n",
       "      <td>9.563187e+11</td>\n",
       "      <td>8.930997e+11</td>\n",
       "      <td>8.547519e+11</td>\n",
       "      <td>9.622690e+11</td>\n",
       "      <td>9.840320e+11</td>\n",
       "      <td>9.778092e+11</td>\n",
       "      <td>8.984741e+11</td>\n",
       "      <td>NaN</td>\n",
       "    </tr>\n",
       "    <tr>\n",
       "      <th>2</th>\n",
       "      <td>Afghanistan</td>\n",
       "      <td>AFG</td>\n",
       "      <td>GDP (current US$)</td>\n",
       "      <td>NY.GDP.MKTP.CD</td>\n",
       "      <td>NaN</td>\n",
       "      <td>NaN</td>\n",
       "      <td>5.466667e+08</td>\n",
       "      <td>7.511112e+08</td>\n",
       "      <td>8.000000e+08</td>\n",
       "      <td>1.006667e+09</td>\n",
       "      <td>...</td>\n",
       "      <td>2.000160e+10</td>\n",
       "      <td>2.056107e+10</td>\n",
       "      <td>2.048489e+10</td>\n",
       "      <td>1.990711e+10</td>\n",
       "      <td>1.801775e+10</td>\n",
       "      <td>1.886995e+10</td>\n",
       "      <td>1.835388e+10</td>\n",
       "      <td>1.929110e+10</td>\n",
       "      <td>1.980707e+10</td>\n",
       "      <td>NaN</td>\n",
       "    </tr>\n",
       "    <tr>\n",
       "      <th>3</th>\n",
       "      <td>Africa Western and Central</td>\n",
       "      <td>AFW</td>\n",
       "      <td>GDP (current US$)</td>\n",
       "      <td>NY.GDP.MKTP.CD</td>\n",
       "      <td>1.040732e+10</td>\n",
       "      <td>1.113130e+10</td>\n",
       "      <td>1.194684e+10</td>\n",
       "      <td>1.268022e+10</td>\n",
       "      <td>1.384262e+10</td>\n",
       "      <td>1.486682e+10</td>\n",
       "      <td>...</td>\n",
       "      <td>7.169352e+11</td>\n",
       "      <td>8.078189e+11</td>\n",
       "      <td>8.469431e+11</td>\n",
       "      <td>7.574921e+11</td>\n",
       "      <td>6.874847e+11</td>\n",
       "      <td>6.809891e+11</td>\n",
       "      <td>7.381313e+11</td>\n",
       "      <td>7.920789e+11</td>\n",
       "      <td>7.865850e+11</td>\n",
       "      <td>NaN</td>\n",
       "    </tr>\n",
       "    <tr>\n",
       "      <th>4</th>\n",
       "      <td>Angola</td>\n",
       "      <td>AGO</td>\n",
       "      <td>GDP (current US$)</td>\n",
       "      <td>NY.GDP.MKTP.CD</td>\n",
       "      <td>NaN</td>\n",
       "      <td>NaN</td>\n",
       "      <td>NaN</td>\n",
       "      <td>NaN</td>\n",
       "      <td>NaN</td>\n",
       "      <td>NaN</td>\n",
       "      <td>...</td>\n",
       "      <td>1.280529e+11</td>\n",
       "      <td>1.367099e+11</td>\n",
       "      <td>1.457122e+11</td>\n",
       "      <td>1.161936e+11</td>\n",
       "      <td>1.011239e+11</td>\n",
       "      <td>1.221238e+11</td>\n",
       "      <td>1.013532e+11</td>\n",
       "      <td>8.941719e+10</td>\n",
       "      <td>6.230691e+10</td>\n",
       "      <td>NaN</td>\n",
       "    </tr>\n",
       "  </tbody>\n",
       "</table>\n",
       "<p>5 rows × 66 columns</p>\n",
       "</div>"
      ],
      "text/plain": [
       "                  Country Name Country Code     Indicator Name  \\\n",
       "0                        Aruba          ABW  GDP (current US$)   \n",
       "1  Africa Eastern and Southern          AFE  GDP (current US$)   \n",
       "2                  Afghanistan          AFG  GDP (current US$)   \n",
       "3   Africa Western and Central          AFW  GDP (current US$)   \n",
       "4                       Angola          AGO  GDP (current US$)   \n",
       "\n",
       "   Indicator Code          1960          1961          1962          1963  \\\n",
       "0  NY.GDP.MKTP.CD           NaN           NaN           NaN           NaN   \n",
       "1  NY.GDP.MKTP.CD  1.670151e+10  1.748822e+10  1.853584e+10  2.007325e+10   \n",
       "2  NY.GDP.MKTP.CD           NaN           NaN  5.466667e+08  7.511112e+08   \n",
       "3  NY.GDP.MKTP.CD  1.040732e+10  1.113130e+10  1.194684e+10  1.268022e+10   \n",
       "4  NY.GDP.MKTP.CD           NaN           NaN           NaN           NaN   \n",
       "\n",
       "           1964          1965  ...          2012          2013          2014  \\\n",
       "0           NaN           NaN  ...  2.534637e+09  2.727850e+09  2.790849e+09   \n",
       "1  2.186583e+10  2.396287e+10  ...  9.131974e+11  9.276555e+11  9.563187e+11   \n",
       "2  8.000000e+08  1.006667e+09  ...  2.000160e+10  2.056107e+10  2.048489e+10   \n",
       "3  1.384262e+10  1.486682e+10  ...  7.169352e+11  8.078189e+11  8.469431e+11   \n",
       "4           NaN           NaN  ...  1.280529e+11  1.367099e+11  1.457122e+11   \n",
       "\n",
       "           2015          2016          2017          2018          2019  \\\n",
       "0  2.962905e+09  2.983637e+09  3.092430e+09  3.202189e+09           NaN   \n",
       "1  8.930997e+11  8.547519e+11  9.622690e+11  9.840320e+11  9.778092e+11   \n",
       "2  1.990711e+10  1.801775e+10  1.886995e+10  1.835388e+10  1.929110e+10   \n",
       "3  7.574921e+11  6.874847e+11  6.809891e+11  7.381313e+11  7.920789e+11   \n",
       "4  1.161936e+11  1.011239e+11  1.221238e+11  1.013532e+11  8.941719e+10   \n",
       "\n",
       "           2020  Unnamed: 65  \n",
       "0           NaN          NaN  \n",
       "1  8.984741e+11          NaN  \n",
       "2  1.980707e+10          NaN  \n",
       "3  7.865850e+11          NaN  \n",
       "4  6.230691e+10          NaN  \n",
       "\n",
       "[5 rows x 66 columns]"
      ]
     },
     "execution_count": 29,
     "metadata": {},
     "output_type": "execute_result"
    }
   ],
   "source": [
    "df_gdp.head(5)"
   ]
  },
  {
   "cell_type": "code",
   "execution_count": 30,
   "metadata": {},
   "outputs": [
    {
     "data": {
      "text/plain": [
       "Country Name        0\n",
       "Country Code        0\n",
       "Indicator Name      0\n",
       "Indicator Code      0\n",
       "1960              161\n",
       "                 ... \n",
       "2017               12\n",
       "2018               12\n",
       "2019               19\n",
       "2020               43\n",
       "Unnamed: 65       266\n",
       "Length: 66, dtype: int64"
      ]
     },
     "execution_count": 30,
     "metadata": {},
     "output_type": "execute_result"
    }
   ],
   "source": [
    "np.sum(df_gdp.isnull())"
   ]
  },
  {
   "cell_type": "code",
   "execution_count": 31,
   "metadata": {},
   "outputs": [
    {
     "data": {
      "text/plain": [
       "array(['NY.GDP.MKTP.CD'], dtype=object)"
      ]
     },
     "execution_count": 31,
     "metadata": {},
     "output_type": "execute_result"
    }
   ],
   "source": [
    "df_gdp['Indicator Name'].unique()\n",
    "df_gdp['Indicator Code'].unique()"
   ]
  },
  {
   "cell_type": "code",
   "execution_count": 32,
   "metadata": {},
   "outputs": [
    {
     "data": {
      "text/plain": [
       "Country Name      266\n",
       "Country Code      266\n",
       "Indicator Name    266\n",
       "Indicator Code    266\n",
       "1960              105\n",
       "                 ... \n",
       "2017              254\n",
       "2018              254\n",
       "2019              247\n",
       "2020              223\n",
       "Unnamed: 65         0\n",
       "Length: 66, dtype: int64"
      ]
     },
     "execution_count": 32,
     "metadata": {},
     "output_type": "execute_result"
    }
   ],
   "source": [
    "df_gdp.count()"
   ]
  },
  {
   "cell_type": "code",
   "execution_count": 33,
   "metadata": {
    "colab": {
     "base_uri": "https://localhost:8080/",
     "height": 511
    },
    "id": "xwBrxvNLQy5U",
    "outputId": "c54c63b1-42b5-4bc4-dec8-cf1be7bfcddb"
   },
   "outputs": [],
   "source": [
    "columns_name = ['Country Name','Country Code','2020']\n",
    "df_gdp = df_gdp[['Country Name','Country Code','2020']]"
   ]
  },
  {
   "cell_type": "code",
   "execution_count": 34,
   "metadata": {},
   "outputs": [],
   "source": [
    "df_gdp = df_gdp[~df_gdp['2020'].isna()]"
   ]
  },
  {
   "cell_type": "code",
   "execution_count": 35,
   "metadata": {},
   "outputs": [],
   "source": [
    "df_gdp = df_gdp.rename(columns={'2020':'GDP'})"
   ]
  },
  {
   "cell_type": "code",
   "execution_count": 36,
   "metadata": {},
   "outputs": [],
   "source": [
    "df_gdp = df_gdp[['Country Name','GDP']]"
   ]
  },
  {
   "cell_type": "code",
   "execution_count": 37,
   "metadata": {},
   "outputs": [],
   "source": [
    "df_gdp = df_gdp.sort_values('GDP',ascending=False)"
   ]
  },
  {
   "cell_type": "code",
   "execution_count": 176,
   "metadata": {},
   "outputs": [
    {
     "data": {
      "text/plain": [
       "<AxesSubplot:xlabel='GDP', ylabel='Country Name'>"
      ]
     },
     "execution_count": 176,
     "metadata": {},
     "output_type": "execute_result"
    },
    {
     "data": {
      "image/png": "[encoded data removed]",
      "text/plain": [
       "<Figure size 460.8x316.8 with 1 Axes>"
      ]
     },
     "metadata": {},
     "output_type": "display_data"
    }
   ],
   "source": [
    "sns.barplot(x = 'GDP', y = 'Country Name', data = df_gdp[11:30])"
   ]
  },
  {
   "cell_type": "markdown",
   "metadata": {},
   "source": [
    "### Corruption"
   ]
  },
  {
   "cell_type": "code",
   "execution_count": 39,
   "metadata": {},
   "outputs": [
    {
     "data": {
      "text/html": [
       "<div>\n",
       "<style scoped>\n",
       "    .dataframe tbody tr th:only-of-type {\n",
       "        vertical-align: middle;\n",
       "    }\n",
       "\n",
       "    .dataframe tbody tr th {\n",
       "        vertical-align: top;\n",
       "    }\n",
       "\n",
       "    .dataframe thead th {\n",
       "        text-align: right;\n",
       "    }\n",
       "</style>\n",
       "<table border=\"1\" class=\"dataframe\">\n",
       "  <thead>\n",
       "    <tr style=\"text-align: right;\">\n",
       "      <th></th>\n",
       "      <th>Country</th>\n",
       "      <th>ISO3</th>\n",
       "      <th>Region</th>\n",
       "      <th>CPI score 2020</th>\n",
       "      <th>Rank 2020</th>\n",
       "      <th>Sources 2020</th>\n",
       "      <th>Standard error 2020</th>\n",
       "      <th>CPI score 2019</th>\n",
       "      <th>Rank 2019</th>\n",
       "      <th>Sources 2019</th>\n",
       "      <th>...</th>\n",
       "      <th>Standard error 2015</th>\n",
       "      <th>CPI score 2014</th>\n",
       "      <th>Sources 2014</th>\n",
       "      <th>Standard error 2014</th>\n",
       "      <th>CPI Score 2013</th>\n",
       "      <th>Sources 2013</th>\n",
       "      <th>Standard error 2013</th>\n",
       "      <th>CPI Score 2012</th>\n",
       "      <th>Sources 2012</th>\n",
       "      <th>Standard error 2012</th>\n",
       "    </tr>\n",
       "  </thead>\n",
       "  <tbody>\n",
       "    <tr>\n",
       "      <th>0</th>\n",
       "      <td>Denmark</td>\n",
       "      <td>DNK</td>\n",
       "      <td>WE/EU</td>\n",
       "      <td>88</td>\n",
       "      <td>1</td>\n",
       "      <td>8</td>\n",
       "      <td>1,78</td>\n",
       "      <td>87</td>\n",
       "      <td>1</td>\n",
       "      <td>8</td>\n",
       "      <td>...</td>\n",
       "      <td>2,16</td>\n",
       "      <td>92.0</td>\n",
       "      <td>7.0</td>\n",
       "      <td>2,04</td>\n",
       "      <td>91.0</td>\n",
       "      <td>7.0</td>\n",
       "      <td>2,2</td>\n",
       "      <td>90.0</td>\n",
       "      <td>7.0</td>\n",
       "      <td>2</td>\n",
       "    </tr>\n",
       "    <tr>\n",
       "      <th>1</th>\n",
       "      <td>New Zealand</td>\n",
       "      <td>NZL</td>\n",
       "      <td>AP</td>\n",
       "      <td>88</td>\n",
       "      <td>1</td>\n",
       "      <td>8</td>\n",
       "      <td>1,48</td>\n",
       "      <td>87</td>\n",
       "      <td>1</td>\n",
       "      <td>8</td>\n",
       "      <td>...</td>\n",
       "      <td>2,32</td>\n",
       "      <td>91.0</td>\n",
       "      <td>7.0</td>\n",
       "      <td>2,28</td>\n",
       "      <td>91.0</td>\n",
       "      <td>7.0</td>\n",
       "      <td>2,3</td>\n",
       "      <td>90.0</td>\n",
       "      <td>7.0</td>\n",
       "      <td>2,2</td>\n",
       "    </tr>\n",
       "    <tr>\n",
       "      <th>2</th>\n",
       "      <td>Finland</td>\n",
       "      <td>FIN</td>\n",
       "      <td>WE/EU</td>\n",
       "      <td>85</td>\n",
       "      <td>3</td>\n",
       "      <td>8</td>\n",
       "      <td>1,75</td>\n",
       "      <td>86</td>\n",
       "      <td>3</td>\n",
       "      <td>8</td>\n",
       "      <td>...</td>\n",
       "      <td>1,77</td>\n",
       "      <td>89.0</td>\n",
       "      <td>7.0</td>\n",
       "      <td>2,05</td>\n",
       "      <td>89.0</td>\n",
       "      <td>7.0</td>\n",
       "      <td>1,7</td>\n",
       "      <td>90.0</td>\n",
       "      <td>7.0</td>\n",
       "      <td>3</td>\n",
       "    </tr>\n",
       "    <tr>\n",
       "      <th>3</th>\n",
       "      <td>Singapore</td>\n",
       "      <td>SGP</td>\n",
       "      <td>AP</td>\n",
       "      <td>85</td>\n",
       "      <td>3</td>\n",
       "      <td>9</td>\n",
       "      <td>1,2</td>\n",
       "      <td>85</td>\n",
       "      <td>4</td>\n",
       "      <td>9</td>\n",
       "      <td>...</td>\n",
       "      <td>2,02</td>\n",
       "      <td>84.0</td>\n",
       "      <td>8.0</td>\n",
       "      <td>1,75</td>\n",
       "      <td>86.0</td>\n",
       "      <td>9.0</td>\n",
       "      <td>2,3</td>\n",
       "      <td>87.0</td>\n",
       "      <td>9.0</td>\n",
       "      <td>2,1</td>\n",
       "    </tr>\n",
       "    <tr>\n",
       "      <th>4</th>\n",
       "      <td>Sweden</td>\n",
       "      <td>SWE</td>\n",
       "      <td>WE/EU</td>\n",
       "      <td>85</td>\n",
       "      <td>3</td>\n",
       "      <td>8</td>\n",
       "      <td>1,3</td>\n",
       "      <td>85</td>\n",
       "      <td>4</td>\n",
       "      <td>8</td>\n",
       "      <td>...</td>\n",
       "      <td>1,71</td>\n",
       "      <td>87.0</td>\n",
       "      <td>7.0</td>\n",
       "      <td>3,41</td>\n",
       "      <td>89.0</td>\n",
       "      <td>7.0</td>\n",
       "      <td>2,3</td>\n",
       "      <td>88.0</td>\n",
       "      <td>7.0</td>\n",
       "      <td>1,9</td>\n",
       "    </tr>\n",
       "    <tr>\n",
       "      <th>...</th>\n",
       "      <td>...</td>\n",
       "      <td>...</td>\n",
       "      <td>...</td>\n",
       "      <td>...</td>\n",
       "      <td>...</td>\n",
       "      <td>...</td>\n",
       "      <td>...</td>\n",
       "      <td>...</td>\n",
       "      <td>...</td>\n",
       "      <td>...</td>\n",
       "      <td>...</td>\n",
       "      <td>...</td>\n",
       "      <td>...</td>\n",
       "      <td>...</td>\n",
       "      <td>...</td>\n",
       "      <td>...</td>\n",
       "      <td>...</td>\n",
       "      <td>...</td>\n",
       "      <td>...</td>\n",
       "      <td>...</td>\n",
       "      <td>...</td>\n",
       "    </tr>\n",
       "    <tr>\n",
       "      <th>175</th>\n",
       "      <td>Venezuela</td>\n",
       "      <td>VEN</td>\n",
       "      <td>AME</td>\n",
       "      <td>15</td>\n",
       "      <td>176</td>\n",
       "      <td>8</td>\n",
       "      <td>0,91</td>\n",
       "      <td>16</td>\n",
       "      <td>173</td>\n",
       "      <td>8</td>\n",
       "      <td>...</td>\n",
       "      <td>2,64</td>\n",
       "      <td>19.0</td>\n",
       "      <td>7.0</td>\n",
       "      <td>1,69</td>\n",
       "      <td>20.0</td>\n",
       "      <td>7.0</td>\n",
       "      <td>2,3</td>\n",
       "      <td>19.0</td>\n",
       "      <td>7.0</td>\n",
       "      <td>2,1</td>\n",
       "    </tr>\n",
       "    <tr>\n",
       "      <th>176</th>\n",
       "      <td>Yemen</td>\n",
       "      <td>YEM</td>\n",
       "      <td>MENA</td>\n",
       "      <td>15</td>\n",
       "      <td>176</td>\n",
       "      <td>7</td>\n",
       "      <td>1,33</td>\n",
       "      <td>15</td>\n",
       "      <td>177</td>\n",
       "      <td>7</td>\n",
       "      <td>...</td>\n",
       "      <td>2,66</td>\n",
       "      <td>19.0</td>\n",
       "      <td>6.0</td>\n",
       "      <td>2,37</td>\n",
       "      <td>18.0</td>\n",
       "      <td>6.0</td>\n",
       "      <td>2,6</td>\n",
       "      <td>23.0</td>\n",
       "      <td>6.0</td>\n",
       "      <td>2,2</td>\n",
       "    </tr>\n",
       "    <tr>\n",
       "      <th>177</th>\n",
       "      <td>Syria</td>\n",
       "      <td>SYR</td>\n",
       "      <td>MENA</td>\n",
       "      <td>14</td>\n",
       "      <td>178</td>\n",
       "      <td>5</td>\n",
       "      <td>1,58</td>\n",
       "      <td>13</td>\n",
       "      <td>178</td>\n",
       "      <td>5</td>\n",
       "      <td>...</td>\n",
       "      <td>5,66</td>\n",
       "      <td>20.0</td>\n",
       "      <td>4.0</td>\n",
       "      <td>5,31</td>\n",
       "      <td>17.0</td>\n",
       "      <td>4.0</td>\n",
       "      <td>3,8</td>\n",
       "      <td>26.0</td>\n",
       "      <td>5.0</td>\n",
       "      <td>2,7</td>\n",
       "    </tr>\n",
       "    <tr>\n",
       "      <th>178</th>\n",
       "      <td>Somalia</td>\n",
       "      <td>SOM</td>\n",
       "      <td>SSA</td>\n",
       "      <td>12</td>\n",
       "      <td>179</td>\n",
       "      <td>6</td>\n",
       "      <td>2,29</td>\n",
       "      <td>9</td>\n",
       "      <td>180</td>\n",
       "      <td>5</td>\n",
       "      <td>...</td>\n",
       "      <td>2,32</td>\n",
       "      <td>8.0</td>\n",
       "      <td>4.0</td>\n",
       "      <td>2,34</td>\n",
       "      <td>8.0</td>\n",
       "      <td>4.0</td>\n",
       "      <td>1,9</td>\n",
       "      <td>8.0</td>\n",
       "      <td>4.0</td>\n",
       "      <td>2,3</td>\n",
       "    </tr>\n",
       "    <tr>\n",
       "      <th>179</th>\n",
       "      <td>South Sudan</td>\n",
       "      <td>SSD</td>\n",
       "      <td>SSA</td>\n",
       "      <td>12</td>\n",
       "      <td>179</td>\n",
       "      <td>5</td>\n",
       "      <td>1,11</td>\n",
       "      <td>12</td>\n",
       "      <td>179</td>\n",
       "      <td>5</td>\n",
       "      <td>...</td>\n",
       "      <td>1,45</td>\n",
       "      <td>15.0</td>\n",
       "      <td>3.0</td>\n",
       "      <td>2,35</td>\n",
       "      <td>14.0</td>\n",
       "      <td>3.0</td>\n",
       "      <td>1,6</td>\n",
       "      <td>NaN</td>\n",
       "      <td>NaN</td>\n",
       "      <td>NaN</td>\n",
       "    </tr>\n",
       "  </tbody>\n",
       "</table>\n",
       "<p>180 rows × 34 columns</p>\n",
       "</div>"
      ],
      "text/plain": [
       "         Country ISO3 Region  CPI score 2020  Rank 2020  Sources 2020  \\\n",
       "0        Denmark  DNK  WE/EU              88          1             8   \n",
       "1    New Zealand  NZL     AP              88          1             8   \n",
       "2        Finland  FIN  WE/EU              85          3             8   \n",
       "3      Singapore  SGP     AP              85          3             9   \n",
       "4         Sweden  SWE  WE/EU              85          3             8   \n",
       "..           ...  ...    ...             ...        ...           ...   \n",
       "175    Venezuela  VEN    AME              15        176             8   \n",
       "176        Yemen  YEM   MENA              15        176             7   \n",
       "177        Syria  SYR   MENA              14        178             5   \n",
       "178      Somalia  SOM    SSA              12        179             6   \n",
       "179  South Sudan  SSD    SSA              12        179             5   \n",
       "\n",
       "    Standard error 2020  CPI score 2019  Rank 2019  Sources 2019  ...  \\\n",
       "0                  1,78              87          1             8  ...   \n",
       "1                  1,48              87          1             8  ...   \n",
       "2                  1,75              86          3             8  ...   \n",
       "3                   1,2              85          4             9  ...   \n",
       "4                   1,3              85          4             8  ...   \n",
       "..                  ...             ...        ...           ...  ...   \n",
       "175                0,91              16        173             8  ...   \n",
       "176                1,33              15        177             7  ...   \n",
       "177                1,58              13        178             5  ...   \n",
       "178                2,29               9        180             5  ...   \n",
       "179                1,11              12        179             5  ...   \n",
       "\n",
       "    Standard error 2015  CPI score 2014  Sources 2014  Standard error 2014  \\\n",
       "0                  2,16            92.0           7.0                 2,04   \n",
       "1                  2,32            91.0           7.0                 2,28   \n",
       "2                  1,77            89.0           7.0                 2,05   \n",
       "3                  2,02            84.0           8.0                 1,75   \n",
       "4                  1,71            87.0           7.0                 3,41   \n",
       "..                  ...             ...           ...                  ...   \n",
       "175                2,64            19.0           7.0                 1,69   \n",
       "176                2,66            19.0           6.0                 2,37   \n",
       "177                5,66            20.0           4.0                 5,31   \n",
       "178                2,32             8.0           4.0                 2,34   \n",
       "179                1,45            15.0           3.0                 2,35   \n",
       "\n",
       "    CPI Score 2013  Sources 2013  Standard error 2013  CPI Score 2012  \\\n",
       "0             91.0           7.0                  2,2            90.0   \n",
       "1             91.0           7.0                  2,3            90.0   \n",
       "2             89.0           7.0                  1,7            90.0   \n",
       "3             86.0           9.0                  2,3            87.0   \n",
       "4             89.0           7.0                  2,3            88.0   \n",
       "..             ...           ...                  ...             ...   \n",
       "175           20.0           7.0                  2,3            19.0   \n",
       "176           18.0           6.0                  2,6            23.0   \n",
       "177           17.0           4.0                  3,8            26.0   \n",
       "178            8.0           4.0                  1,9             8.0   \n",
       "179           14.0           3.0                  1,6             NaN   \n",
       "\n",
       "    Sources 2012  Standard error 2012  \n",
       "0            7.0                    2  \n",
       "1            7.0                  2,2  \n",
       "2            7.0                    3  \n",
       "3            9.0                  2,1  \n",
       "4            7.0                  1,9  \n",
       "..           ...                  ...  \n",
       "175          7.0                  2,1  \n",
       "176          6.0                  2,2  \n",
       "177          5.0                  2,7  \n",
       "178          4.0                  2,3  \n",
       "179          NaN                  NaN  \n",
       "\n",
       "[180 rows x 34 columns]"
      ]
     },
     "execution_count": 39,
     "metadata": {},
     "output_type": "execute_result"
    }
   ],
   "source": [
    "df_cpi"
   ]
  },
  {
   "cell_type": "code",
   "execution_count": 40,
   "metadata": {},
   "outputs": [
    {
     "data": {
      "text/plain": [
       "Country                 0\n",
       "ISO3                    0\n",
       "Region                  0\n",
       "CPI score 2020          0\n",
       "Rank 2020               0\n",
       "Sources 2020            0\n",
       "Standard error 2020     0\n",
       "CPI score 2019          0\n",
       "Rank 2019               0\n",
       "Sources 2019            0\n",
       "Standard error 2019     0\n",
       "CPI score 2018          0\n",
       "Rank 2018               0\n",
       "Sources 2018            0\n",
       "Standard error 2018     0\n",
       "CPI score 2017          0\n",
       "Rank 2017               0\n",
       "Sources 2017            0\n",
       "Standard error 2017     0\n",
       "CPI score 2016          4\n",
       "Sources 2016            4\n",
       "Standard error 2016     4\n",
       "CPI score 2015         12\n",
       "Sources 2015           12\n",
       "Standard error 2015    12\n",
       "CPI score 2014          6\n",
       "Sources 2014            6\n",
       "Standard error 2014     6\n",
       "CPI Score 2013          4\n",
       "Sources 2013            4\n",
       "Standard error 2013     4\n",
       "CPI Score 2012          5\n",
       "Sources 2012            5\n",
       "Standard error 2012     5\n",
       "dtype: int64"
      ]
     },
     "execution_count": 40,
     "metadata": {},
     "output_type": "execute_result"
    }
   ],
   "source": [
    "np.sum(df_cpi.isnull())"
   ]
  },
  {
   "cell_type": "code",
   "execution_count": 41,
   "metadata": {
    "colab": {
     "base_uri": "https://localhost:8080/",
     "height": 422
    },
    "id": "isz6c0AZRdgb",
    "outputId": "2eca71be-5420-42e7-c371-529182228442"
   },
   "outputs": [
    {
     "data": {
      "text/html": [
       "<div>\n",
       "<style scoped>\n",
       "    .dataframe tbody tr th:only-of-type {\n",
       "        vertical-align: middle;\n",
       "    }\n",
       "\n",
       "    .dataframe tbody tr th {\n",
       "        vertical-align: top;\n",
       "    }\n",
       "\n",
       "    .dataframe thead th {\n",
       "        text-align: right;\n",
       "    }\n",
       "</style>\n",
       "<table border=\"1\" class=\"dataframe\">\n",
       "  <thead>\n",
       "    <tr style=\"text-align: right;\">\n",
       "      <th></th>\n",
       "      <th>Country</th>\n",
       "      <th>ISO3</th>\n",
       "      <th>CPI score 2020</th>\n",
       "    </tr>\n",
       "  </thead>\n",
       "  <tbody>\n",
       "  </tbody>\n",
       "</table>\n",
       "</div>"
      ],
      "text/plain": [
       "Empty DataFrame\n",
       "Columns: [Country, ISO3, CPI score 2020]\n",
       "Index: []"
      ]
     },
     "execution_count": 41,
     "metadata": {},
     "output_type": "execute_result"
    }
   ],
   "source": [
    "corruption_list = [\"Country\", \"ISO3\",\"CPI score 2020\"]\n",
    "df_cpi = df_cpi[corruption_list]\n",
    "df_cpi[df_cpi['CPI score 2020'].isna()]"
   ]
  },
  {
   "cell_type": "code",
   "execution_count": 42,
   "metadata": {},
   "outputs": [],
   "source": [
    "corruption_list = [\"Country\",\"CPI score 2020\"]\n",
    "df_cpi = df_cpi[corruption_list]"
   ]
  },
  {
   "cell_type": "code",
   "execution_count": 43,
   "metadata": {},
   "outputs": [
    {
     "data": {
      "text/html": [
       "<div>\n",
       "<style scoped>\n",
       "    .dataframe tbody tr th:only-of-type {\n",
       "        vertical-align: middle;\n",
       "    }\n",
       "\n",
       "    .dataframe tbody tr th {\n",
       "        vertical-align: top;\n",
       "    }\n",
       "\n",
       "    .dataframe thead th {\n",
       "        text-align: right;\n",
       "    }\n",
       "</style>\n",
       "<table border=\"1\" class=\"dataframe\">\n",
       "  <thead>\n",
       "    <tr style=\"text-align: right;\">\n",
       "      <th></th>\n",
       "      <th>Country</th>\n",
       "      <th>CPI score 2020</th>\n",
       "    </tr>\n",
       "  </thead>\n",
       "  <tbody>\n",
       "    <tr>\n",
       "      <th>0</th>\n",
       "      <td>Denmark</td>\n",
       "      <td>88</td>\n",
       "    </tr>\n",
       "    <tr>\n",
       "      <th>1</th>\n",
       "      <td>New Zealand</td>\n",
       "      <td>88</td>\n",
       "    </tr>\n",
       "    <tr>\n",
       "      <th>2</th>\n",
       "      <td>Finland</td>\n",
       "      <td>85</td>\n",
       "    </tr>\n",
       "    <tr>\n",
       "      <th>3</th>\n",
       "      <td>Singapore</td>\n",
       "      <td>85</td>\n",
       "    </tr>\n",
       "    <tr>\n",
       "      <th>4</th>\n",
       "      <td>Sweden</td>\n",
       "      <td>85</td>\n",
       "    </tr>\n",
       "  </tbody>\n",
       "</table>\n",
       "</div>"
      ],
      "text/plain": [
       "       Country  CPI score 2020\n",
       "0      Denmark              88\n",
       "1  New Zealand              88\n",
       "2      Finland              85\n",
       "3    Singapore              85\n",
       "4       Sweden              85"
      ]
     },
     "execution_count": 43,
     "metadata": {},
     "output_type": "execute_result"
    }
   ],
   "source": [
    "df_cpi.head(5)"
   ]
  },
  {
   "cell_type": "code",
   "execution_count": 44,
   "metadata": {},
   "outputs": [],
   "source": [
    "df_asc = df_cpi.sort_values('CPI score 2020')"
   ]
  },
  {
   "cell_type": "code",
   "execution_count": 45,
   "metadata": {},
   "outputs": [
    {
     "data": {
      "text/plain": [
       "<AxesSubplot:xlabel='CPI score 2020', ylabel='Country'>"
      ]
     },
     "execution_count": 45,
     "metadata": {},
     "output_type": "execute_result"
    },
    {
     "data": {
      "image/png": "[encoded data removed]",
      "text/plain": [
       "<Figure size 432x288 with 1 Axes>"
      ]
     },
     "metadata": {},
     "output_type": "display_data"
    }
   ],
   "source": [
    "sns.barplot(x = 'CPI score 2020', y = 'Country', data = df_asc[:20])"
   ]
  },
  {
   "cell_type": "code",
   "execution_count": 46,
   "metadata": {},
   "outputs": [],
   "source": [
    "df_asc = df_cpi.sort_values('CPI score 2020',ascending = False)"
   ]
  },
  {
   "cell_type": "code",
   "execution_count": 47,
   "metadata": {},
   "outputs": [
    {
     "data": {
      "text/plain": [
       "<AxesSubplot:xlabel='CPI score 2020', ylabel='Country'>"
      ]
     },
     "execution_count": 47,
     "metadata": {},
     "output_type": "execute_result"
    },
    {
     "data": {
      "image/png": "[encoded data removed]",
      "text/plain": [
       "<Figure size 432x288 with 1 Axes>"
      ]
     },
     "metadata": {},
     "output_type": "display_data"
    }
   ],
   "source": [
    "sns.barplot(x = 'CPI score 2020', y = 'Country', data = df_asc[:20])"
   ]
  },
  {
   "cell_type": "markdown",
   "metadata": {},
   "source": [
    "### Education"
   ]
  },
  {
   "cell_type": "code",
   "execution_count": 48,
   "metadata": {},
   "outputs": [
    {
     "data": {
      "text/html": [
       "<div>\n",
       "<style scoped>\n",
       "    .dataframe tbody tr th:only-of-type {\n",
       "        vertical-align: middle;\n",
       "    }\n",
       "\n",
       "    .dataframe tbody tr th {\n",
       "        vertical-align: top;\n",
       "    }\n",
       "\n",
       "    .dataframe thead th {\n",
       "        text-align: right;\n",
       "    }\n",
       "</style>\n",
       "<table border=\"1\" class=\"dataframe\">\n",
       "  <thead>\n",
       "    <tr style=\"text-align: right;\">\n",
       "      <th></th>\n",
       "      <th>HDI Rank</th>\n",
       "      <th>Country</th>\n",
       "      <th>1990</th>\n",
       "      <th>Unnamed: 3</th>\n",
       "      <th>1991</th>\n",
       "      <th>Unnamed: 5</th>\n",
       "      <th>1992</th>\n",
       "      <th>Unnamed: 7</th>\n",
       "      <th>1993</th>\n",
       "      <th>Unnamed: 9</th>\n",
       "      <th>...</th>\n",
       "      <th>2015</th>\n",
       "      <th>Unnamed: 53</th>\n",
       "      <th>2016</th>\n",
       "      <th>Unnamed: 55</th>\n",
       "      <th>2017</th>\n",
       "      <th>Unnamed: 57</th>\n",
       "      <th>2018</th>\n",
       "      <th>Unnamed: 59</th>\n",
       "      <th>2019</th>\n",
       "      <th>Unnamed: 61</th>\n",
       "    </tr>\n",
       "  </thead>\n",
       "  <tbody>\n",
       "    <tr>\n",
       "      <th>0</th>\n",
       "      <td>169.0</td>\n",
       "      <td>Afghanistan</td>\n",
       "      <td>0.122</td>\n",
       "      <td>NaN</td>\n",
       "      <td>0.133</td>\n",
       "      <td>NaN</td>\n",
       "      <td>0.145</td>\n",
       "      <td>NaN</td>\n",
       "      <td>0.156</td>\n",
       "      <td>NaN</td>\n",
       "      <td>...</td>\n",
       "      <td>0.405</td>\n",
       "      <td>NaN</td>\n",
       "      <td>0.406</td>\n",
       "      <td>NaN</td>\n",
       "      <td>0.408</td>\n",
       "      <td>NaN</td>\n",
       "      <td>0.413</td>\n",
       "      <td>NaN</td>\n",
       "      <td>0.414</td>\n",
       "      <td>NaN</td>\n",
       "    </tr>\n",
       "    <tr>\n",
       "      <th>1</th>\n",
       "      <td>69.0</td>\n",
       "      <td>Albania</td>\n",
       "      <td>0.583</td>\n",
       "      <td>NaN</td>\n",
       "      <td>0.588</td>\n",
       "      <td>NaN</td>\n",
       "      <td>0.557</td>\n",
       "      <td>NaN</td>\n",
       "      <td>0.542</td>\n",
       "      <td>NaN</td>\n",
       "      <td>...</td>\n",
       "      <td>0.753</td>\n",
       "      <td>NaN</td>\n",
       "      <td>0.745</td>\n",
       "      <td>NaN</td>\n",
       "      <td>0.747</td>\n",
       "      <td>NaN</td>\n",
       "      <td>0.743</td>\n",
       "      <td>NaN</td>\n",
       "      <td>0.746</td>\n",
       "      <td>NaN</td>\n",
       "    </tr>\n",
       "    <tr>\n",
       "      <th>2</th>\n",
       "      <td>91.0</td>\n",
       "      <td>Algeria</td>\n",
       "      <td>0.385</td>\n",
       "      <td>NaN</td>\n",
       "      <td>0.395</td>\n",
       "      <td>NaN</td>\n",
       "      <td>0.405</td>\n",
       "      <td>NaN</td>\n",
       "      <td>0.414</td>\n",
       "      <td>NaN</td>\n",
       "      <td>...</td>\n",
       "      <td>0.659</td>\n",
       "      <td>NaN</td>\n",
       "      <td>0.660</td>\n",
       "      <td>NaN</td>\n",
       "      <td>0.665</td>\n",
       "      <td>NaN</td>\n",
       "      <td>0.668</td>\n",
       "      <td>NaN</td>\n",
       "      <td>0.672</td>\n",
       "      <td>NaN</td>\n",
       "    </tr>\n",
       "    <tr>\n",
       "      <th>3</th>\n",
       "      <td>36.0</td>\n",
       "      <td>Andorra</td>\n",
       "      <td>..</td>\n",
       "      <td>NaN</td>\n",
       "      <td>..</td>\n",
       "      <td>NaN</td>\n",
       "      <td>..</td>\n",
       "      <td>NaN</td>\n",
       "      <td>..</td>\n",
       "      <td>NaN</td>\n",
       "      <td>...</td>\n",
       "      <td>0.718</td>\n",
       "      <td>NaN</td>\n",
       "      <td>0.722</td>\n",
       "      <td>NaN</td>\n",
       "      <td>0.713</td>\n",
       "      <td>NaN</td>\n",
       "      <td>0.720</td>\n",
       "      <td>NaN</td>\n",
       "      <td>0.720</td>\n",
       "      <td>NaN</td>\n",
       "    </tr>\n",
       "    <tr>\n",
       "      <th>4</th>\n",
       "      <td>148.0</td>\n",
       "      <td>Angola</td>\n",
       "      <td>..</td>\n",
       "      <td>NaN</td>\n",
       "      <td>..</td>\n",
       "      <td>NaN</td>\n",
       "      <td>..</td>\n",
       "      <td>NaN</td>\n",
       "      <td>..</td>\n",
       "      <td>NaN</td>\n",
       "      <td>...</td>\n",
       "      <td>0.472</td>\n",
       "      <td>NaN</td>\n",
       "      <td>0.487</td>\n",
       "      <td>NaN</td>\n",
       "      <td>0.498</td>\n",
       "      <td>NaN</td>\n",
       "      <td>0.500</td>\n",
       "      <td>NaN</td>\n",
       "      <td>0.500</td>\n",
       "      <td>NaN</td>\n",
       "    </tr>\n",
       "  </tbody>\n",
       "</table>\n",
       "<p>5 rows × 62 columns</p>\n",
       "</div>"
      ],
      "text/plain": [
       "   HDI Rank      Country   1990  Unnamed: 3   1991  Unnamed: 5   1992  \\\n",
       "0     169.0  Afghanistan  0.122         NaN  0.133         NaN  0.145   \n",
       "1      69.0      Albania  0.583         NaN  0.588         NaN  0.557   \n",
       "2      91.0      Algeria  0.385         NaN  0.395         NaN  0.405   \n",
       "3      36.0      Andorra     ..         NaN     ..         NaN     ..   \n",
       "4     148.0       Angola     ..         NaN     ..         NaN     ..   \n",
       "\n",
       "   Unnamed: 7   1993  Unnamed: 9  ...   2015  Unnamed: 53   2016  Unnamed: 55  \\\n",
       "0         NaN  0.156         NaN  ...  0.405          NaN  0.406          NaN   \n",
       "1         NaN  0.542         NaN  ...  0.753          NaN  0.745          NaN   \n",
       "2         NaN  0.414         NaN  ...  0.659          NaN  0.660          NaN   \n",
       "3         NaN     ..         NaN  ...  0.718          NaN  0.722          NaN   \n",
       "4         NaN     ..         NaN  ...  0.472          NaN  0.487          NaN   \n",
       "\n",
       "    2017  Unnamed: 57   2018  Unnamed: 59   2019  Unnamed: 61  \n",
       "0  0.408          NaN  0.413          NaN  0.414          NaN  \n",
       "1  0.747          NaN  0.743          NaN  0.746          NaN  \n",
       "2  0.665          NaN  0.668          NaN  0.672          NaN  \n",
       "3  0.713          NaN  0.720          NaN  0.720          NaN  \n",
       "4  0.498          NaN  0.500          NaN  0.500          NaN  \n",
       "\n",
       "[5 rows x 62 columns]"
      ]
     },
     "execution_count": 48,
     "metadata": {},
     "output_type": "execute_result"
    }
   ],
   "source": [
    "df_edu.head()"
   ]
  },
  {
   "cell_type": "code",
   "execution_count": 49,
   "metadata": {},
   "outputs": [
    {
     "data": {
      "text/plain": [
       "HDI Rank        17\n",
       "Country          0\n",
       "1990             2\n",
       "Unnamed: 3     206\n",
       "1991             0\n",
       "              ... \n",
       "Unnamed: 57    206\n",
       "2018             0\n",
       "Unnamed: 59    206\n",
       "2019             0\n",
       "Unnamed: 61    206\n",
       "Length: 62, dtype: int64"
      ]
     },
     "execution_count": 49,
     "metadata": {},
     "output_type": "execute_result"
    }
   ],
   "source": [
    "np.sum(df_edu.isnull())"
   ]
  },
  {
   "cell_type": "code",
   "execution_count": 50,
   "metadata": {},
   "outputs": [
    {
     "data": {
      "text/plain": [
       "(206, 62)"
      ]
     },
     "execution_count": 50,
     "metadata": {},
     "output_type": "execute_result"
    }
   ],
   "source": [
    "df_edu.shape"
   ]
  },
  {
   "cell_type": "code",
   "execution_count": 51,
   "metadata": {},
   "outputs": [],
   "source": [
    "df_edu = df_edu[['Country','2019']]"
   ]
  },
  {
   "cell_type": "code",
   "execution_count": 52,
   "metadata": {},
   "outputs": [
    {
     "data": {
      "text/html": [
       "<div>\n",
       "<style scoped>\n",
       "    .dataframe tbody tr th:only-of-type {\n",
       "        vertical-align: middle;\n",
       "    }\n",
       "\n",
       "    .dataframe tbody tr th {\n",
       "        vertical-align: top;\n",
       "    }\n",
       "\n",
       "    .dataframe thead th {\n",
       "        text-align: right;\n",
       "    }\n",
       "</style>\n",
       "<table border=\"1\" class=\"dataframe\">\n",
       "  <thead>\n",
       "    <tr style=\"text-align: right;\">\n",
       "      <th></th>\n",
       "      <th>Country</th>\n",
       "      <th>2019</th>\n",
       "    </tr>\n",
       "  </thead>\n",
       "  <tbody>\n",
       "    <tr>\n",
       "      <th>0</th>\n",
       "      <td>Afghanistan</td>\n",
       "      <td>0.414</td>\n",
       "    </tr>\n",
       "    <tr>\n",
       "      <th>1</th>\n",
       "      <td>Albania</td>\n",
       "      <td>0.746</td>\n",
       "    </tr>\n",
       "    <tr>\n",
       "      <th>2</th>\n",
       "      <td>Algeria</td>\n",
       "      <td>0.672</td>\n",
       "    </tr>\n",
       "    <tr>\n",
       "      <th>3</th>\n",
       "      <td>Andorra</td>\n",
       "      <td>0.720</td>\n",
       "    </tr>\n",
       "    <tr>\n",
       "      <th>4</th>\n",
       "      <td>Angola</td>\n",
       "      <td>0.500</td>\n",
       "    </tr>\n",
       "    <tr>\n",
       "      <th>...</th>\n",
       "      <td>...</td>\n",
       "      <td>...</td>\n",
       "    </tr>\n",
       "    <tr>\n",
       "      <th>201</th>\n",
       "      <td>Sub-Saharan Africa</td>\n",
       "      <td>0.471</td>\n",
       "    </tr>\n",
       "    <tr>\n",
       "      <th>202</th>\n",
       "      <td>Least Developed Countries</td>\n",
       "      <td>0.437</td>\n",
       "    </tr>\n",
       "    <tr>\n",
       "      <th>203</th>\n",
       "      <td>Small Island Developing States</td>\n",
       "      <td>0.633</td>\n",
       "    </tr>\n",
       "    <tr>\n",
       "      <th>204</th>\n",
       "      <td>Organization for Economic Co-operation and Dev...</td>\n",
       "      <td>0.852</td>\n",
       "    </tr>\n",
       "    <tr>\n",
       "      <th>205</th>\n",
       "      <td>World</td>\n",
       "      <td>0.637</td>\n",
       "    </tr>\n",
       "  </tbody>\n",
       "</table>\n",
       "<p>206 rows × 2 columns</p>\n",
       "</div>"
      ],
      "text/plain": [
       "                                               Country   2019\n",
       "0                                          Afghanistan  0.414\n",
       "1                                              Albania  0.746\n",
       "2                                              Algeria  0.672\n",
       "3                                              Andorra  0.720\n",
       "4                                               Angola  0.500\n",
       "..                                                 ...    ...\n",
       "201                                 Sub-Saharan Africa  0.471\n",
       "202                          Least Developed Countries  0.437\n",
       "203                     Small Island Developing States  0.633\n",
       "204  Organization for Economic Co-operation and Dev...  0.852\n",
       "205                                              World  0.637\n",
       "\n",
       "[206 rows x 2 columns]"
      ]
     },
     "execution_count": 52,
     "metadata": {},
     "output_type": "execute_result"
    }
   ],
   "source": [
    "df_edu"
   ]
  },
  {
   "cell_type": "markdown",
   "metadata": {},
   "source": [
    "### Health"
   ]
  },
  {
   "cell_type": "code",
   "execution_count": 53,
   "metadata": {},
   "outputs": [
    {
     "data": {
      "text/html": [
       "<div>\n",
       "<style scoped>\n",
       "    .dataframe tbody tr th:only-of-type {\n",
       "        vertical-align: middle;\n",
       "    }\n",
       "\n",
       "    .dataframe tbody tr th {\n",
       "        vertical-align: top;\n",
       "    }\n",
       "\n",
       "    .dataframe thead th {\n",
       "        text-align: right;\n",
       "    }\n",
       "</style>\n",
       "<table border=\"1\" class=\"dataframe\">\n",
       "  <thead>\n",
       "    <tr style=\"text-align: right;\">\n",
       "      <th></th>\n",
       "      <th>RANK</th>\n",
       "      <th>COUNTRY</th>\n",
       "      <th>INDEX</th>\n",
       "      <th>Healthy life expectancy at birth (years)</th>\n",
       "      <th>Maternal mortality ratio (per 100 000 live births)</th>\n",
       "      <th>Proportion of births attended by skilled health personnel (%)</th>\n",
       "      <th>Under-five mortality rate (per 1000 live births)</th>\n",
       "      <th>Probability of dying from any of CVD, cancer, diabetes, CRD between age 30 and ext age 70k (%)</th>\n",
       "      <th>Mortality rate attributed to household and ambient air pollution (per 100 000 population)</th>\n",
       "      <th>Mortality rate attributed to exposure to unsafe WASH services (per 100 000 population)</th>\n",
       "      <th>Mortality rate attributed to unintentional poisoning (per 100 000 population)</th>\n",
       "    </tr>\n",
       "  </thead>\n",
       "  <tbody>\n",
       "    <tr>\n",
       "      <th>0</th>\n",
       "      <td>1</td>\n",
       "      <td>Monaco</td>\n",
       "      <td>1.00</td>\n",
       "      <td>90.00</td>\n",
       "      <td>NaN</td>\n",
       "      <td>NaN</td>\n",
       "      <td>3.5</td>\n",
       "      <td>NaN</td>\n",
       "      <td>NaN</td>\n",
       "      <td>NaN</td>\n",
       "      <td>NaN</td>\n",
       "    </tr>\n",
       "    <tr>\n",
       "      <th>1</th>\n",
       "      <td>2</td>\n",
       "      <td>Hong Kong</td>\n",
       "      <td>0.99</td>\n",
       "      <td>84.24</td>\n",
       "      <td>0.0</td>\n",
       "      <td>100.0</td>\n",
       "      <td>1.6</td>\n",
       "      <td>NaN</td>\n",
       "      <td>NaN</td>\n",
       "      <td>NaN</td>\n",
       "      <td>NaN</td>\n",
       "    </tr>\n",
       "    <tr>\n",
       "      <th>2</th>\n",
       "      <td>3</td>\n",
       "      <td>Australia</td>\n",
       "      <td>0.94</td>\n",
       "      <td>71.90</td>\n",
       "      <td>6.0</td>\n",
       "      <td>99.0</td>\n",
       "      <td>3.8</td>\n",
       "      <td>8.9</td>\n",
       "      <td>0.4</td>\n",
       "      <td>&lt;0.1</td>\n",
       "      <td>0.5</td>\n",
       "    </tr>\n",
       "    <tr>\n",
       "      <th>3</th>\n",
       "      <td>4</td>\n",
       "      <td>Finland</td>\n",
       "      <td>0.93</td>\n",
       "      <td>71.00</td>\n",
       "      <td>3.0</td>\n",
       "      <td>100.0</td>\n",
       "      <td>2.3</td>\n",
       "      <td>10.1</td>\n",
       "      <td>6.0</td>\n",
       "      <td>0.2</td>\n",
       "      <td>0.6</td>\n",
       "    </tr>\n",
       "    <tr>\n",
       "      <th>4</th>\n",
       "      <td>4</td>\n",
       "      <td>Iceland</td>\n",
       "      <td>0.93</td>\n",
       "      <td>72.70</td>\n",
       "      <td>3.0</td>\n",
       "      <td>NaN</td>\n",
       "      <td>2.0</td>\n",
       "      <td>8.3</td>\n",
       "      <td>6.4</td>\n",
       "      <td>&lt;0.1</td>\n",
       "      <td>0.7</td>\n",
       "    </tr>\n",
       "  </tbody>\n",
       "</table>\n",
       "</div>"
      ],
      "text/plain": [
       "   RANK    COUNTRY  INDEX  Healthy life expectancy at birth (years)  \\\n",
       "0     1     Monaco   1.00                                     90.00   \n",
       "1     2  Hong Kong   0.99                                     84.24   \n",
       "2     3  Australia   0.94                                     71.90   \n",
       "3     4    Finland   0.93                                     71.00   \n",
       "4     4    Iceland   0.93                                     72.70   \n",
       "\n",
       "   Maternal mortality ratio (per 100 000 live births)  \\\n",
       "0                                                NaN    \n",
       "1                                                0.0    \n",
       "2                                                6.0    \n",
       "3                                                3.0    \n",
       "4                                                3.0    \n",
       "\n",
       "   Proportion of births attended by skilled health personnel (%)  \\\n",
       "0                                                NaN               \n",
       "1                                              100.0               \n",
       "2                                               99.0               \n",
       "3                                              100.0               \n",
       "4                                                NaN               \n",
       "\n",
       "   Under-five mortality rate (per 1000 live births)  \\\n",
       "0                                               3.5   \n",
       "1                                               1.6   \n",
       "2                                               3.8   \n",
       "3                                               2.3   \n",
       "4                                               2.0   \n",
       "\n",
       "   Probability of dying from any of CVD, cancer, diabetes, CRD between age 30 and ext age 70k (%)  \\\n",
       "0                                                NaN                                                \n",
       "1                                                NaN                                                \n",
       "2                                                8.9                                                \n",
       "3                                               10.1                                                \n",
       "4                                                8.3                                                \n",
       "\n",
       "   Mortality rate attributed to household and ambient air pollution (per 100 000 population)  \\\n",
       "0                                                NaN                                           \n",
       "1                                                NaN                                           \n",
       "2                                                0.4                                           \n",
       "3                                                6.0                                           \n",
       "4                                                6.4                                           \n",
       "\n",
       "  Mortality rate attributed to exposure to unsafe WASH services (per 100 000 population)  \\\n",
       "0                                                NaN                                       \n",
       "1                                                NaN                                       \n",
       "2                                               <0.1                                       \n",
       "3                                                0.2                                       \n",
       "4                                               <0.1                                       \n",
       "\n",
       "   Mortality rate attributed to unintentional poisoning (per 100 000 population)  \n",
       "0                                                NaN                              \n",
       "1                                                NaN                              \n",
       "2                                                0.5                              \n",
       "3                                                0.6                              \n",
       "4                                                0.7                              "
      ]
     },
     "execution_count": 53,
     "metadata": {},
     "output_type": "execute_result"
    }
   ],
   "source": [
    "df_health.head(5)"
   ]
  },
  {
   "cell_type": "code",
   "execution_count": 54,
   "metadata": {},
   "outputs": [],
   "source": [
    "df_health = df_health[['COUNTRY','INDEX']]"
   ]
  },
  {
   "cell_type": "code",
   "execution_count": 55,
   "metadata": {},
   "outputs": [
    {
     "data": {
      "text/html": [
       "<div>\n",
       "<style scoped>\n",
       "    .dataframe tbody tr th:only-of-type {\n",
       "        vertical-align: middle;\n",
       "    }\n",
       "\n",
       "    .dataframe tbody tr th {\n",
       "        vertical-align: top;\n",
       "    }\n",
       "\n",
       "    .dataframe thead th {\n",
       "        text-align: right;\n",
       "    }\n",
       "</style>\n",
       "<table border=\"1\" class=\"dataframe\">\n",
       "  <thead>\n",
       "    <tr style=\"text-align: right;\">\n",
       "      <th></th>\n",
       "      <th>COUNTRY</th>\n",
       "      <th>INDEX</th>\n",
       "    </tr>\n",
       "  </thead>\n",
       "  <tbody>\n",
       "    <tr>\n",
       "      <th>0</th>\n",
       "      <td>Monaco</td>\n",
       "      <td>1.00</td>\n",
       "    </tr>\n",
       "    <tr>\n",
       "      <th>1</th>\n",
       "      <td>Hong Kong</td>\n",
       "      <td>0.99</td>\n",
       "    </tr>\n",
       "    <tr>\n",
       "      <th>2</th>\n",
       "      <td>Australia</td>\n",
       "      <td>0.94</td>\n",
       "    </tr>\n",
       "    <tr>\n",
       "      <th>3</th>\n",
       "      <td>Finland</td>\n",
       "      <td>0.93</td>\n",
       "    </tr>\n",
       "    <tr>\n",
       "      <th>4</th>\n",
       "      <td>Iceland</td>\n",
       "      <td>0.93</td>\n",
       "    </tr>\n",
       "    <tr>\n",
       "      <th>...</th>\n",
       "      <td>...</td>\n",
       "      <td>...</td>\n",
       "    </tr>\n",
       "    <tr>\n",
       "      <th>196</th>\n",
       "      <td>South Sudan</td>\n",
       "      <td>0.00</td>\n",
       "    </tr>\n",
       "    <tr>\n",
       "      <th>197</th>\n",
       "      <td>Central African Republic</td>\n",
       "      <td>0.00</td>\n",
       "    </tr>\n",
       "    <tr>\n",
       "      <th>198</th>\n",
       "      <td>Chad</td>\n",
       "      <td>0.00</td>\n",
       "    </tr>\n",
       "    <tr>\n",
       "      <th>199</th>\n",
       "      <td>Somalia</td>\n",
       "      <td>0.00</td>\n",
       "    </tr>\n",
       "    <tr>\n",
       "      <th>200</th>\n",
       "      <td>Sierra Leone</td>\n",
       "      <td>0.00</td>\n",
       "    </tr>\n",
       "  </tbody>\n",
       "</table>\n",
       "<p>201 rows × 2 columns</p>\n",
       "</div>"
      ],
      "text/plain": [
       "                      COUNTRY  INDEX\n",
       "0                      Monaco   1.00\n",
       "1                   Hong Kong   0.99\n",
       "2                   Australia   0.94\n",
       "3                     Finland   0.93\n",
       "4                     Iceland   0.93\n",
       "..                        ...    ...\n",
       "196               South Sudan   0.00\n",
       "197  Central African Republic   0.00\n",
       "198                      Chad   0.00\n",
       "199                   Somalia   0.00\n",
       "200              Sierra Leone   0.00\n",
       "\n",
       "[201 rows x 2 columns]"
      ]
     },
     "execution_count": 55,
     "metadata": {},
     "output_type": "execute_result"
    }
   ],
   "source": [
    "df_health"
   ]
  },
  {
   "cell_type": "code",
   "execution_count": 56,
   "metadata": {},
   "outputs": [],
   "source": [
    "df_asc = df_health.sort_values('INDEX')"
   ]
  },
  {
   "cell_type": "code",
   "execution_count": 57,
   "metadata": {},
   "outputs": [
    {
     "data": {
      "text/plain": [
       "<AxesSubplot:xlabel='INDEX', ylabel='COUNTRY'>"
      ]
     },
     "execution_count": 57,
     "metadata": {},
     "output_type": "execute_result"
    },
    {
     "data": {
      "image/png": "[encoded data removed]",
      "text/plain": [
       "<Figure size 432x288 with 1 Axes>"
      ]
     },
     "metadata": {},
     "output_type": "display_data"
    }
   ],
   "source": [
    "sns.barplot(x = 'INDEX', y = 'COUNTRY', data = df_health[:20])"
   ]
  },
  {
   "cell_type": "code",
   "execution_count": 58,
   "metadata": {},
   "outputs": [
    {
     "data": {
      "text/plain": [
       "<AxesSubplot:xlabel='INDEX', ylabel='COUNTRY'>"
      ]
     },
     "execution_count": 58,
     "metadata": {},
     "output_type": "execute_result"
    },
    {
     "data": {
      "image/png": "[encoded data removed]",
      "text/plain": [
       "<Figure size 432x288 with 1 Axes>"
      ]
     },
     "metadata": {},
     "output_type": "display_data"
    }
   ],
   "source": [
    "sns.barplot(x = 'INDEX', y = 'COUNTRY', data = df_asc[:20])"
   ]
  },
  {
   "cell_type": "markdown",
   "metadata": {},
   "source": [
    "### Democracy"
   ]
  },
  {
   "cell_type": "code",
   "execution_count": 59,
   "metadata": {},
   "outputs": [
    {
     "data": {
      "text/html": [
       "<div>\n",
       "<style scoped>\n",
       "    .dataframe tbody tr th:only-of-type {\n",
       "        vertical-align: middle;\n",
       "    }\n",
       "\n",
       "    .dataframe tbody tr th {\n",
       "        vertical-align: top;\n",
       "    }\n",
       "\n",
       "    .dataframe thead th {\n",
       "        text-align: right;\n",
       "    }\n",
       "</style>\n",
       "<table border=\"1\" class=\"dataframe\">\n",
       "  <thead>\n",
       "    <tr style=\"text-align: right;\">\n",
       "      <th></th>\n",
       "      <th>Country</th>\n",
       "      <th>Overall score</th>\n",
       "      <th>Rank</th>\n",
       "      <th>I Electoral process and pluralism</th>\n",
       "      <th>II Functioning of government</th>\n",
       "      <th>III Political participation</th>\n",
       "      <th>IV Political culture</th>\n",
       "      <th>V Civil liberties</th>\n",
       "      <th>Regime Type</th>\n",
       "    </tr>\n",
       "  </thead>\n",
       "  <tbody>\n",
       "    <tr>\n",
       "      <th>0</th>\n",
       "      <td>Norway</td>\n",
       "      <td>9.81</td>\n",
       "      <td>1</td>\n",
       "      <td>10.00</td>\n",
       "      <td>9.64</td>\n",
       "      <td>10.00</td>\n",
       "      <td>10.00</td>\n",
       "      <td>9.41</td>\n",
       "      <td>Full democracy</td>\n",
       "    </tr>\n",
       "    <tr>\n",
       "      <th>1</th>\n",
       "      <td>Iceland</td>\n",
       "      <td>9.37</td>\n",
       "      <td>2</td>\n",
       "      <td>10.00</td>\n",
       "      <td>8.57</td>\n",
       "      <td>8.89</td>\n",
       "      <td>10.00</td>\n",
       "      <td>9.41</td>\n",
       "      <td>Full democracy</td>\n",
       "    </tr>\n",
       "    <tr>\n",
       "      <th>2</th>\n",
       "      <td>Sweden</td>\n",
       "      <td>9.26</td>\n",
       "      <td>3</td>\n",
       "      <td>9.58</td>\n",
       "      <td>9.29</td>\n",
       "      <td>8.33</td>\n",
       "      <td>10.00</td>\n",
       "      <td>9.12</td>\n",
       "      <td>Full democracy</td>\n",
       "    </tr>\n",
       "    <tr>\n",
       "      <th>3</th>\n",
       "      <td>New Zealand</td>\n",
       "      <td>9.25</td>\n",
       "      <td>4</td>\n",
       "      <td>10.00</td>\n",
       "      <td>8.93</td>\n",
       "      <td>8.89</td>\n",
       "      <td>8.75</td>\n",
       "      <td>9.71</td>\n",
       "      <td>Full democracy</td>\n",
       "    </tr>\n",
       "    <tr>\n",
       "      <th>4</th>\n",
       "      <td>Canada</td>\n",
       "      <td>9.24</td>\n",
       "      <td>5</td>\n",
       "      <td>9.58</td>\n",
       "      <td>8.93</td>\n",
       "      <td>8.89</td>\n",
       "      <td>9.38</td>\n",
       "      <td>9.41</td>\n",
       "      <td>Full democracy</td>\n",
       "    </tr>\n",
       "  </tbody>\n",
       "</table>\n",
       "</div>"
      ],
      "text/plain": [
       "       Country  Overall score  Rank  I Electoral process and pluralism  \\\n",
       "0       Norway           9.81     1                              10.00   \n",
       "1      Iceland           9.37     2                              10.00   \n",
       "2       Sweden           9.26     3                               9.58   \n",
       "3  New Zealand           9.25     4                              10.00   \n",
       "4       Canada           9.24     5                               9.58   \n",
       "\n",
       "   II Functioning of government  III Political participation  \\\n",
       "0                          9.64                        10.00   \n",
       "1                          8.57                         8.89   \n",
       "2                          9.29                         8.33   \n",
       "3                          8.93                         8.89   \n",
       "4                          8.93                         8.89   \n",
       "\n",
       "   IV Political culture  V Civil liberties     Regime Type  \n",
       "0                 10.00               9.41  Full democracy  \n",
       "1                 10.00               9.41  Full democracy  \n",
       "2                 10.00               9.12  Full democracy  \n",
       "3                  8.75               9.71  Full democracy  \n",
       "4                  9.38               9.41  Full democracy  "
      ]
     },
     "execution_count": 59,
     "metadata": {},
     "output_type": "execute_result"
    }
   ],
   "source": [
    "df_demo.head(5)"
   ]
  },
  {
   "cell_type": "code",
   "execution_count": 60,
   "metadata": {},
   "outputs": [],
   "source": [
    "df_demo = df_demo[['Country','Overall score','Regime Type']]"
   ]
  },
  {
   "cell_type": "code",
   "execution_count": 61,
   "metadata": {},
   "outputs": [],
   "source": [
    "df_asc = df_demo.sort_values('Overall score')"
   ]
  },
  {
   "cell_type": "code",
   "execution_count": 62,
   "metadata": {},
   "outputs": [],
   "source": [
    "df_dsc = df_demo.sort_values('Overall score', ascending=False)"
   ]
  },
  {
   "cell_type": "code",
   "execution_count": 63,
   "metadata": {},
   "outputs": [
    {
     "data": {
      "text/plain": [
       "<AxesSubplot:xlabel='Overall score', ylabel='Country'>"
      ]
     },
     "execution_count": 63,
     "metadata": {},
     "output_type": "execute_result"
    },
    {
     "data": {
      "image/png": "[encoded data removed]",
      "text/plain": [
       "<Figure size 432x288 with 1 Axes>"
      ]
     },
     "metadata": {},
     "output_type": "display_data"
    }
   ],
   "source": [
    "sns.barplot(x = 'Overall score', y = 'Country', data = df_dsc[:20])"
   ]
  },
  {
   "cell_type": "code",
   "execution_count": 64,
   "metadata": {},
   "outputs": [
    {
     "data": {
      "text/plain": [
       "<AxesSubplot:xlabel='Overall score', ylabel='Country'>"
      ]
     },
     "execution_count": 64,
     "metadata": {},
     "output_type": "execute_result"
    },
    {
     "data": {
      "image/png": "[encoded data removed]",
      "text/plain": [
       "<Figure size 432x288 with 1 Axes>"
      ]
     },
     "metadata": {},
     "output_type": "display_data"
    }
   ],
   "source": [
    "sns.barplot(x = 'Overall score', y = 'Country', data = df_asc[:20])"
   ]
  },
  {
   "cell_type": "markdown",
   "metadata": {},
   "source": [
    "### Joining Dataframes"
   ]
  },
  {
   "cell_type": "code",
   "execution_count": 65,
   "metadata": {},
   "outputs": [
    {
     "data": {
      "text/html": [
       "<div>\n",
       "<style scoped>\n",
       "    .dataframe tbody tr th:only-of-type {\n",
       "        vertical-align: middle;\n",
       "    }\n",
       "\n",
       "    .dataframe tbody tr th {\n",
       "        vertical-align: top;\n",
       "    }\n",
       "\n",
       "    .dataframe thead th {\n",
       "        text-align: right;\n",
       "    }\n",
       "</style>\n",
       "<table border=\"1\" class=\"dataframe\">\n",
       "  <thead>\n",
       "    <tr style=\"text-align: right;\">\n",
       "      <th></th>\n",
       "      <th>location</th>\n",
       "      <th>deaths_2021</th>\n",
       "    </tr>\n",
       "  </thead>\n",
       "  <tbody>\n",
       "    <tr>\n",
       "      <th>0</th>\n",
       "      <td>Afghanistan</td>\n",
       "      <td>86.569</td>\n",
       "    </tr>\n",
       "    <tr>\n",
       "      <th>1</th>\n",
       "      <td>Africa</td>\n",
       "      <td>63.932</td>\n",
       "    </tr>\n",
       "    <tr>\n",
       "      <th>2</th>\n",
       "      <td>Albania</td>\n",
       "      <td>443.047</td>\n",
       "    </tr>\n",
       "    <tr>\n",
       "      <th>3</th>\n",
       "      <td>Algeria</td>\n",
       "      <td>24.355</td>\n",
       "    </tr>\n",
       "    <tr>\n",
       "      <th>4</th>\n",
       "      <td>Andorra</td>\n",
       "      <td>556.526</td>\n",
       "    </tr>\n",
       "  </tbody>\n",
       "</table>\n",
       "</div>"
      ],
      "text/plain": [
       "      location  deaths_2021\n",
       "0  Afghanistan       86.569\n",
       "1       Africa       63.932\n",
       "2      Albania      443.047\n",
       "3      Algeria       24.355\n",
       "4      Andorra      556.526"
      ]
     },
     "execution_count": 65,
     "metadata": {},
     "output_type": "execute_result"
    }
   ],
   "source": [
    "df_death.head(5)"
   ]
  },
  {
   "cell_type": "code",
   "execution_count": 66,
   "metadata": {},
   "outputs": [],
   "source": [
    "df_death_total = df.copy()"
   ]
  },
  {
   "cell_type": "code",
   "execution_count": 67,
   "metadata": {},
   "outputs": [
    {
     "data": {
      "text/html": [
       "<div>\n",
       "<style scoped>\n",
       "    .dataframe tbody tr th:only-of-type {\n",
       "        vertical-align: middle;\n",
       "    }\n",
       "\n",
       "    .dataframe tbody tr th {\n",
       "        vertical-align: top;\n",
       "    }\n",
       "\n",
       "    .dataframe thead th {\n",
       "        text-align: right;\n",
       "    }\n",
       "</style>\n",
       "<table border=\"1\" class=\"dataframe\">\n",
       "  <thead>\n",
       "    <tr style=\"text-align: right;\">\n",
       "      <th></th>\n",
       "      <th>location</th>\n",
       "      <th>total_deaths_per_million</th>\n",
       "      <th>deaths_2021</th>\n",
       "      <th>deaths_2020</th>\n",
       "    </tr>\n",
       "  </thead>\n",
       "  <tbody>\n",
       "    <tr>\n",
       "      <th>0</th>\n",
       "      <td>Afghanistan</td>\n",
       "      <td>142.852</td>\n",
       "      <td>86.569</td>\n",
       "      <td>56.283</td>\n",
       "    </tr>\n",
       "  </tbody>\n",
       "</table>\n",
       "</div>"
      ],
      "text/plain": [
       "      location  total_deaths_per_million  deaths_2021  deaths_2020\n",
       "0  Afghanistan                   142.852       86.569       56.283"
      ]
     },
     "execution_count": 67,
     "metadata": {},
     "output_type": "execute_result"
    }
   ],
   "source": [
    "df = df_death_total.merge(df_death,how = 'inner',left_on = 'location', right_on = 'location')\n",
    "df['deaths_2020'] = df['total_deaths_per_million'] - df['deaths_2021']\n",
    "df.head(1)"
   ]
  },
  {
   "cell_type": "code",
   "execution_count": 68,
   "metadata": {},
   "outputs": [
    {
     "data": {
      "text/html": [
       "<div>\n",
       "<style scoped>\n",
       "    .dataframe tbody tr th:only-of-type {\n",
       "        vertical-align: middle;\n",
       "    }\n",
       "\n",
       "    .dataframe tbody tr th {\n",
       "        vertical-align: top;\n",
       "    }\n",
       "\n",
       "    .dataframe thead th {\n",
       "        text-align: right;\n",
       "    }\n",
       "</style>\n",
       "<table border=\"1\" class=\"dataframe\">\n",
       "  <thead>\n",
       "    <tr style=\"text-align: right;\">\n",
       "      <th></th>\n",
       "      <th>location</th>\n",
       "      <th>total_deaths_per_million</th>\n",
       "      <th>deaths_2021</th>\n",
       "      <th>deaths_2020</th>\n",
       "      <th>Overall score</th>\n",
       "      <th>Regime Type</th>\n",
       "    </tr>\n",
       "  </thead>\n",
       "  <tbody>\n",
       "    <tr>\n",
       "      <th>0</th>\n",
       "      <td>Afghanistan</td>\n",
       "      <td>142.852</td>\n",
       "      <td>86.569</td>\n",
       "      <td>56.283</td>\n",
       "      <td>2.85</td>\n",
       "      <td>Authoritarian</td>\n",
       "    </tr>\n",
       "  </tbody>\n",
       "</table>\n",
       "</div>"
      ],
      "text/plain": [
       "      location  total_deaths_per_million  deaths_2021  deaths_2020  \\\n",
       "0  Afghanistan                   142.852       86.569       56.283   \n",
       "\n",
       "   Overall score    Regime Type  \n",
       "0           2.85  Authoritarian  "
      ]
     },
     "execution_count": 68,
     "metadata": {},
     "output_type": "execute_result"
    }
   ],
   "source": [
    "df = df.merge(df_demo,how = 'inner',left_on = 'location', right_on = 'Country').drop(columns=['Country'])\n",
    "df.head(1)"
   ]
  },
  {
   "cell_type": "code",
   "execution_count": 69,
   "metadata": {},
   "outputs": [
    {
     "data": {
      "text/html": [
       "<div>\n",
       "<style scoped>\n",
       "    .dataframe tbody tr th:only-of-type {\n",
       "        vertical-align: middle;\n",
       "    }\n",
       "\n",
       "    .dataframe tbody tr th {\n",
       "        vertical-align: top;\n",
       "    }\n",
       "\n",
       "    .dataframe thead th {\n",
       "        text-align: right;\n",
       "    }\n",
       "</style>\n",
       "<table border=\"1\" class=\"dataframe\">\n",
       "  <thead>\n",
       "    <tr style=\"text-align: right;\">\n",
       "      <th></th>\n",
       "      <th>location</th>\n",
       "      <th>total_deaths_per_million</th>\n",
       "      <th>deaths_2021</th>\n",
       "      <th>deaths_2020</th>\n",
       "      <th>democracy_index</th>\n",
       "      <th>regime_type</th>\n",
       "      <th>health_index</th>\n",
       "    </tr>\n",
       "  </thead>\n",
       "  <tbody>\n",
       "    <tr>\n",
       "      <th>0</th>\n",
       "      <td>Afghanistan</td>\n",
       "      <td>142.852</td>\n",
       "      <td>86.569</td>\n",
       "      <td>56.283</td>\n",
       "      <td>2.85</td>\n",
       "      <td>Authoritarian</td>\n",
       "      <td>0.08</td>\n",
       "    </tr>\n",
       "  </tbody>\n",
       "</table>\n",
       "</div>"
      ],
      "text/plain": [
       "      location  total_deaths_per_million  deaths_2021  deaths_2020  \\\n",
       "0  Afghanistan                   142.852       86.569       56.283   \n",
       "\n",
       "   democracy_index    regime_type  health_index  \n",
       "0             2.85  Authoritarian          0.08  "
      ]
     },
     "execution_count": 69,
     "metadata": {},
     "output_type": "execute_result"
    }
   ],
   "source": [
    "df = df.merge(df_health,how = 'inner',left_on = 'location', right_on = 'COUNTRY').drop(columns=['COUNTRY'])\n",
    "df = df.rename(columns={'Overall score':'democracy_index','Regime Type':'regime_type',\n",
    "                   'INDEX':'health_index'})\n",
    "df.head(1)"
   ]
  },
  {
   "cell_type": "code",
   "execution_count": 70,
   "metadata": {},
   "outputs": [],
   "source": [
    "df_edu = df_edu.rename(columns={'Country':'local'})"
   ]
  },
  {
   "cell_type": "code",
   "execution_count": 71,
   "metadata": {},
   "outputs": [
    {
     "data": {
      "text/html": [
       "<div>\n",
       "<style scoped>\n",
       "    .dataframe tbody tr th:only-of-type {\n",
       "        vertical-align: middle;\n",
       "    }\n",
       "\n",
       "    .dataframe tbody tr th {\n",
       "        vertical-align: top;\n",
       "    }\n",
       "\n",
       "    .dataframe thead th {\n",
       "        text-align: right;\n",
       "    }\n",
       "</style>\n",
       "<table border=\"1\" class=\"dataframe\">\n",
       "  <thead>\n",
       "    <tr style=\"text-align: right;\">\n",
       "      <th></th>\n",
       "      <th>location</th>\n",
       "      <th>total_deaths_per_million</th>\n",
       "      <th>deaths_2021</th>\n",
       "      <th>deaths_2020</th>\n",
       "      <th>democracy_index</th>\n",
       "      <th>regime_type</th>\n",
       "      <th>health_index</th>\n",
       "      <th>local</th>\n",
       "      <th>2019</th>\n",
       "    </tr>\n",
       "  </thead>\n",
       "  <tbody>\n",
       "    <tr>\n",
       "      <th>0</th>\n",
       "      <td>Afghanistan</td>\n",
       "      <td>142.852</td>\n",
       "      <td>86.569</td>\n",
       "      <td>56.283</td>\n",
       "      <td>2.85</td>\n",
       "      <td>Authoritarian</td>\n",
       "      <td>0.08</td>\n",
       "      <td>Afghanistan</td>\n",
       "      <td>0.414</td>\n",
       "    </tr>\n",
       "  </tbody>\n",
       "</table>\n",
       "</div>"
      ],
      "text/plain": [
       "      location  total_deaths_per_million  deaths_2021  deaths_2020  \\\n",
       "0  Afghanistan                   142.852       86.569       56.283   \n",
       "\n",
       "   democracy_index    regime_type  health_index        local   2019  \n",
       "0             2.85  Authoritarian          0.08  Afghanistan  0.414  "
      ]
     },
     "execution_count": 71,
     "metadata": {},
     "output_type": "execute_result"
    }
   ],
   "source": [
    "df = df.merge(df_edu,how = 'inner',left_on = 'location', right_on = 'local')\n",
    "df.head(1)"
   ]
  },
  {
   "cell_type": "code",
   "execution_count": 72,
   "metadata": {},
   "outputs": [],
   "source": [
    "df = df.drop(columns = ['local'])\n",
    "df = df.rename(columns={'2019':'education_index'})"
   ]
  },
  {
   "cell_type": "code",
   "execution_count": 73,
   "metadata": {},
   "outputs": [],
   "source": [
    "df = df.merge(df_cpi,how = 'inner',left_on = 'location', right_on = 'Country')"
   ]
  },
  {
   "cell_type": "code",
   "execution_count": 74,
   "metadata": {},
   "outputs": [],
   "source": [
    "df = df.drop(columns = ['Country'])\n",
    "df = df.rename(columns={'CPI score 2020':'cpi_index'})"
   ]
  },
  {
   "cell_type": "code",
   "execution_count": 75,
   "metadata": {},
   "outputs": [
    {
     "data": {
      "text/html": [
       "<div>\n",
       "<style scoped>\n",
       "    .dataframe tbody tr th:only-of-type {\n",
       "        vertical-align: middle;\n",
       "    }\n",
       "\n",
       "    .dataframe tbody tr th {\n",
       "        vertical-align: top;\n",
       "    }\n",
       "\n",
       "    .dataframe thead th {\n",
       "        text-align: right;\n",
       "    }\n",
       "</style>\n",
       "<table border=\"1\" class=\"dataframe\">\n",
       "  <thead>\n",
       "    <tr style=\"text-align: right;\">\n",
       "      <th></th>\n",
       "      <th>location</th>\n",
       "      <th>total_deaths_per_million</th>\n",
       "      <th>deaths_2021</th>\n",
       "      <th>deaths_2020</th>\n",
       "      <th>democracy_index</th>\n",
       "      <th>regime_type</th>\n",
       "      <th>health_index</th>\n",
       "      <th>education_index</th>\n",
       "      <th>cpi_index</th>\n",
       "    </tr>\n",
       "  </thead>\n",
       "  <tbody>\n",
       "    <tr>\n",
       "      <th>0</th>\n",
       "      <td>Afghanistan</td>\n",
       "      <td>142.852</td>\n",
       "      <td>86.569</td>\n",
       "      <td>56.283</td>\n",
       "      <td>2.85</td>\n",
       "      <td>Authoritarian</td>\n",
       "      <td>0.08</td>\n",
       "      <td>0.414</td>\n",
       "      <td>19</td>\n",
       "    </tr>\n",
       "  </tbody>\n",
       "</table>\n",
       "</div>"
      ],
      "text/plain": [
       "      location  total_deaths_per_million  deaths_2021  deaths_2020  \\\n",
       "0  Afghanistan                   142.852       86.569       56.283   \n",
       "\n",
       "   democracy_index    regime_type  health_index education_index  cpi_index  \n",
       "0             2.85  Authoritarian          0.08           0.414         19  "
      ]
     },
     "execution_count": 75,
     "metadata": {},
     "output_type": "execute_result"
    }
   ],
   "source": [
    "df.head(1)"
   ]
  },
  {
   "cell_type": "code",
   "execution_count": 76,
   "metadata": {},
   "outputs": [],
   "source": [
    "df = df.merge(df_gdp,how = 'inner',left_on = 'location', right_on = 'Country Name').drop(columns = ['Country Name'])"
   ]
  },
  {
   "cell_type": "code",
   "execution_count": 77,
   "metadata": {},
   "outputs": [],
   "source": [
    "df = df.rename(columns={'GDP':'gdp'})"
   ]
  },
  {
   "cell_type": "code",
   "execution_count": 78,
   "metadata": {},
   "outputs": [
    {
     "data": {
      "text/plain": [
       "location                    0\n",
       "total_deaths_per_million    0\n",
       "deaths_2021                 2\n",
       "deaths_2020                 2\n",
       "democracy_index             0\n",
       "regime_type                 0\n",
       "health_index                0\n",
       "education_index             0\n",
       "cpi_index                   0\n",
       "gdp                         0\n",
       "dtype: int64"
      ]
     },
     "execution_count": 78,
     "metadata": {},
     "output_type": "execute_result"
    }
   ],
   "source": [
    "np.sum(df.isnull())"
   ]
  },
  {
   "cell_type": "code",
   "execution_count": 79,
   "metadata": {},
   "outputs": [],
   "source": [
    "df = df[~df['deaths_2021'].isna()]"
   ]
  },
  {
   "cell_type": "code",
   "execution_count": 80,
   "metadata": {},
   "outputs": [
    {
     "data": {
      "text/html": [
       "<div>\n",
       "<style scoped>\n",
       "    .dataframe tbody tr th:only-of-type {\n",
       "        vertical-align: middle;\n",
       "    }\n",
       "\n",
       "    .dataframe tbody tr th {\n",
       "        vertical-align: top;\n",
       "    }\n",
       "\n",
       "    .dataframe thead th {\n",
       "        text-align: right;\n",
       "    }\n",
       "</style>\n",
       "<table border=\"1\" class=\"dataframe\">\n",
       "  <thead>\n",
       "    <tr style=\"text-align: right;\">\n",
       "      <th></th>\n",
       "      <th>location</th>\n",
       "      <th>total_deaths_per_million</th>\n",
       "      <th>deaths_2021</th>\n",
       "      <th>deaths_2020</th>\n",
       "      <th>democracy_index</th>\n",
       "      <th>regime_type</th>\n",
       "      <th>health_index</th>\n",
       "      <th>education_index</th>\n",
       "      <th>cpi_index</th>\n",
       "      <th>gdp</th>\n",
       "    </tr>\n",
       "  </thead>\n",
       "  <tbody>\n",
       "    <tr>\n",
       "      <th>124</th>\n",
       "      <td>United States</td>\n",
       "      <td>1834.221</td>\n",
       "      <td>770.284</td>\n",
       "      <td>1063.937</td>\n",
       "      <td>7.92</td>\n",
       "      <td>Flawed democracy</td>\n",
       "      <td>0.76</td>\n",
       "      <td>0.900</td>\n",
       "      <td>67</td>\n",
       "      <td>2.093660e+13</td>\n",
       "    </tr>\n",
       "    <tr>\n",
       "      <th>25</th>\n",
       "      <td>China</td>\n",
       "      <td>3.221</td>\n",
       "      <td>0.001</td>\n",
       "      <td>3.220</td>\n",
       "      <td>2.27</td>\n",
       "      <td>Authoritarian</td>\n",
       "      <td>0.58</td>\n",
       "      <td>0.657</td>\n",
       "      <td>42</td>\n",
       "      <td>1.472273e+13</td>\n",
       "    </tr>\n",
       "    <tr>\n",
       "      <th>43</th>\n",
       "      <td>Germany</td>\n",
       "      <td>1088.980</td>\n",
       "      <td>685.669</td>\n",
       "      <td>403.311</td>\n",
       "      <td>8.67</td>\n",
       "      <td>Full democracy</td>\n",
       "      <td>0.92</td>\n",
       "      <td>0.943</td>\n",
       "      <td>80</td>\n",
       "      <td>3.806060e+12</td>\n",
       "    </tr>\n",
       "    <tr>\n",
       "      <th>123</th>\n",
       "      <td>United Kingdom</td>\n",
       "      <td>1895.310</td>\n",
       "      <td>810.815</td>\n",
       "      <td>1084.495</td>\n",
       "      <td>8.54</td>\n",
       "      <td>Full democracy</td>\n",
       "      <td>0.89</td>\n",
       "      <td>0.928</td>\n",
       "      <td>77</td>\n",
       "      <td>2.707744e+12</td>\n",
       "    </tr>\n",
       "    <tr>\n",
       "      <th>53</th>\n",
       "      <td>India</td>\n",
       "      <td>295.680</td>\n",
       "      <td>187.899</td>\n",
       "      <td>107.781</td>\n",
       "      <td>6.61</td>\n",
       "      <td>Flawed democracy</td>\n",
       "      <td>0.52</td>\n",
       "      <td>0.555</td>\n",
       "      <td>40</td>\n",
       "      <td>2.622984e+12</td>\n",
       "    </tr>\n",
       "    <tr>\n",
       "      <th>...</th>\n",
       "      <td>...</td>\n",
       "      <td>...</td>\n",
       "      <td>...</td>\n",
       "      <td>...</td>\n",
       "      <td>...</td>\n",
       "      <td>...</td>\n",
       "      <td>...</td>\n",
       "      <td>...</td>\n",
       "      <td>...</td>\n",
       "      <td>...</td>\n",
       "    </tr>\n",
       "    <tr>\n",
       "      <th>18</th>\n",
       "      <td>Burundi</td>\n",
       "      <td>0.673</td>\n",
       "      <td>0.505</td>\n",
       "      <td>0.168</td>\n",
       "      <td>2.14</td>\n",
       "      <td>Authoritarian</td>\n",
       "      <td>0.00</td>\n",
       "      <td>0.417</td>\n",
       "      <td>19</td>\n",
       "      <td>3.258187e+09</td>\n",
       "    </tr>\n",
       "    <tr>\n",
       "      <th>66</th>\n",
       "      <td>Liberia</td>\n",
       "      <td>28.472</td>\n",
       "      <td>12.061</td>\n",
       "      <td>16.411</td>\n",
       "      <td>5.32</td>\n",
       "      <td>Hybrid regime</td>\n",
       "      <td>0.00</td>\n",
       "      <td>0.426</td>\n",
       "      <td>28</td>\n",
       "      <td>2.950000e+09</td>\n",
       "    </tr>\n",
       "    <tr>\n",
       "      <th>22</th>\n",
       "      <td>Central African Republic</td>\n",
       "      <td>20.291</td>\n",
       "      <td>7.247</td>\n",
       "      <td>13.044</td>\n",
       "      <td>1.32</td>\n",
       "      <td>Authoritarian</td>\n",
       "      <td>0.00</td>\n",
       "      <td>0.353</td>\n",
       "      <td>26</td>\n",
       "      <td>2.303078e+09</td>\n",
       "    </tr>\n",
       "    <tr>\n",
       "      <th>65</th>\n",
       "      <td>Lesotho</td>\n",
       "      <td>156.377</td>\n",
       "      <td>132.570</td>\n",
       "      <td>23.807</td>\n",
       "      <td>6.30</td>\n",
       "      <td>Flawed democracy</td>\n",
       "      <td>0.16</td>\n",
       "      <td>0.532</td>\n",
       "      <td>41</td>\n",
       "      <td>1.844510e+09</td>\n",
       "    </tr>\n",
       "    <tr>\n",
       "      <th>27</th>\n",
       "      <td>Comoros</td>\n",
       "      <td>167.894</td>\n",
       "      <td>156.394</td>\n",
       "      <td>11.500</td>\n",
       "      <td>3.09</td>\n",
       "      <td>Authoritarian</td>\n",
       "      <td>0.20</td>\n",
       "      <td>0.482</td>\n",
       "      <td>21</td>\n",
       "      <td>1.219690e+09</td>\n",
       "    </tr>\n",
       "  </tbody>\n",
       "</table>\n",
       "<p>127 rows × 10 columns</p>\n",
       "</div>"
      ],
      "text/plain": [
       "                     location  total_deaths_per_million  deaths_2021  \\\n",
       "124             United States                  1834.221      770.284   \n",
       "25                      China                     3.221        0.001   \n",
       "43                    Germany                  1088.980      685.669   \n",
       "123            United Kingdom                  1895.310      810.815   \n",
       "53                      India                   295.680      187.899   \n",
       "..                        ...                       ...          ...   \n",
       "18                    Burundi                     0.673        0.505   \n",
       "66                    Liberia                    28.472       12.061   \n",
       "22   Central African Republic                    20.291        7.247   \n",
       "65                    Lesotho                   156.377      132.570   \n",
       "27                    Comoros                   167.894      156.394   \n",
       "\n",
       "     deaths_2020  democracy_index       regime_type  health_index  \\\n",
       "124     1063.937             7.92  Flawed democracy          0.76   \n",
       "25         3.220             2.27     Authoritarian          0.58   \n",
       "43       403.311             8.67    Full democracy          0.92   \n",
       "123     1084.495             8.54    Full democracy          0.89   \n",
       "53       107.781             6.61  Flawed democracy          0.52   \n",
       "..           ...              ...               ...           ...   \n",
       "18         0.168             2.14     Authoritarian          0.00   \n",
       "66        16.411             5.32     Hybrid regime          0.00   \n",
       "22        13.044             1.32     Authoritarian          0.00   \n",
       "65        23.807             6.30  Flawed democracy          0.16   \n",
       "27        11.500             3.09     Authoritarian          0.20   \n",
       "\n",
       "    education_index  cpi_index           gdp  \n",
       "124           0.900         67  2.093660e+13  \n",
       "25            0.657         42  1.472273e+13  \n",
       "43            0.943         80  3.806060e+12  \n",
       "123           0.928         77  2.707744e+12  \n",
       "53            0.555         40  2.622984e+12  \n",
       "..              ...        ...           ...  \n",
       "18            0.417         19  3.258187e+09  \n",
       "66            0.426         28  2.950000e+09  \n",
       "22            0.353         26  2.303078e+09  \n",
       "65            0.532         41  1.844510e+09  \n",
       "27            0.482         21  1.219690e+09  \n",
       "\n",
       "[127 rows x 10 columns]"
      ]
     },
     "execution_count": 80,
     "metadata": {},
     "output_type": "execute_result"
    }
   ],
   "source": [
    "df.sort_values('gdp',ascending=False)"
   ]
  },
  {
   "cell_type": "code",
   "execution_count": 81,
   "metadata": {},
   "outputs": [],
   "source": [
    "df['education_index'] = df['education_index'].astype(\"float\")"
   ]
  },
  {
   "cell_type": "code",
   "execution_count": 82,
   "metadata": {},
   "outputs": [
    {
     "data": {
      "text/html": [
       "<div>\n",
       "<style scoped>\n",
       "    .dataframe tbody tr th:only-of-type {\n",
       "        vertical-align: middle;\n",
       "    }\n",
       "\n",
       "    .dataframe tbody tr th {\n",
       "        vertical-align: top;\n",
       "    }\n",
       "\n",
       "    .dataframe thead th {\n",
       "        text-align: right;\n",
       "    }\n",
       "</style>\n",
       "<table border=\"1\" class=\"dataframe\">\n",
       "  <thead>\n",
       "    <tr style=\"text-align: right;\">\n",
       "      <th></th>\n",
       "      <th>total_deaths_per_million</th>\n",
       "      <th>deaths_2021</th>\n",
       "      <th>deaths_2020</th>\n",
       "      <th>democracy_index</th>\n",
       "      <th>health_index</th>\n",
       "      <th>education_index</th>\n",
       "      <th>cpi_index</th>\n",
       "      <th>gdp</th>\n",
       "    </tr>\n",
       "  </thead>\n",
       "  <tbody>\n",
       "    <tr>\n",
       "      <th>total_deaths_per_million</th>\n",
       "      <td>1.000000</td>\n",
       "      <td>0.949680</td>\n",
       "      <td>0.933578</td>\n",
       "      <td>0.435117</td>\n",
       "      <td>0.506127</td>\n",
       "      <td>0.500645</td>\n",
       "      <td>0.287640</td>\n",
       "      <td>0.103134</td>\n",
       "    </tr>\n",
       "    <tr>\n",
       "      <th>deaths_2021</th>\n",
       "      <td>0.949680</td>\n",
       "      <td>1.000000</td>\n",
       "      <td>0.774349</td>\n",
       "      <td>0.399511</td>\n",
       "      <td>0.459876</td>\n",
       "      <td>0.439711</td>\n",
       "      <td>0.215852</td>\n",
       "      <td>0.048196</td>\n",
       "    </tr>\n",
       "    <tr>\n",
       "      <th>deaths_2020</th>\n",
       "      <td>0.933578</td>\n",
       "      <td>0.774349</td>\n",
       "      <td>1.000000</td>\n",
       "      <td>0.421903</td>\n",
       "      <td>0.496289</td>\n",
       "      <td>0.508285</td>\n",
       "      <td>0.334112</td>\n",
       "      <td>0.153203</td>\n",
       "    </tr>\n",
       "    <tr>\n",
       "      <th>democracy_index</th>\n",
       "      <td>0.435117</td>\n",
       "      <td>0.399511</td>\n",
       "      <td>0.421903</td>\n",
       "      <td>1.000000</td>\n",
       "      <td>0.668532</td>\n",
       "      <td>0.712121</td>\n",
       "      <td>0.770556</td>\n",
       "      <td>0.086293</td>\n",
       "    </tr>\n",
       "    <tr>\n",
       "      <th>health_index</th>\n",
       "      <td>0.506127</td>\n",
       "      <td>0.459876</td>\n",
       "      <td>0.496289</td>\n",
       "      <td>0.668532</td>\n",
       "      <td>1.000000</td>\n",
       "      <td>0.887075</td>\n",
       "      <td>0.697351</td>\n",
       "      <td>0.122179</td>\n",
       "    </tr>\n",
       "    <tr>\n",
       "      <th>education_index</th>\n",
       "      <td>0.500645</td>\n",
       "      <td>0.439711</td>\n",
       "      <td>0.508285</td>\n",
       "      <td>0.712121</td>\n",
       "      <td>0.887075</td>\n",
       "      <td>1.000000</td>\n",
       "      <td>0.763734</td>\n",
       "      <td>0.178520</td>\n",
       "    </tr>\n",
       "    <tr>\n",
       "      <th>cpi_index</th>\n",
       "      <td>0.287640</td>\n",
       "      <td>0.215852</td>\n",
       "      <td>0.334112</td>\n",
       "      <td>0.770556</td>\n",
       "      <td>0.697351</td>\n",
       "      <td>0.763734</td>\n",
       "      <td>1.000000</td>\n",
       "      <td>0.177107</td>\n",
       "    </tr>\n",
       "    <tr>\n",
       "      <th>gdp</th>\n",
       "      <td>0.103134</td>\n",
       "      <td>0.048196</td>\n",
       "      <td>0.153203</td>\n",
       "      <td>0.086293</td>\n",
       "      <td>0.122179</td>\n",
       "      <td>0.178520</td>\n",
       "      <td>0.177107</td>\n",
       "      <td>1.000000</td>\n",
       "    </tr>\n",
       "  </tbody>\n",
       "</table>\n",
       "</div>"
      ],
      "text/plain": [
       "                          total_deaths_per_million  deaths_2021  deaths_2020  \\\n",
       "total_deaths_per_million                  1.000000     0.949680     0.933578   \n",
       "deaths_2021                               0.949680     1.000000     0.774349   \n",
       "deaths_2020                               0.933578     0.774349     1.000000   \n",
       "democracy_index                           0.435117     0.399511     0.421903   \n",
       "health_index                              0.506127     0.459876     0.496289   \n",
       "education_index                           0.500645     0.439711     0.508285   \n",
       "cpi_index                                 0.287640     0.215852     0.334112   \n",
       "gdp                                       0.103134     0.048196     0.153203   \n",
       "\n",
       "                          democracy_index  health_index  education_index  \\\n",
       "total_deaths_per_million         0.435117      0.506127         0.500645   \n",
       "deaths_2021                      0.399511      0.459876         0.439711   \n",
       "deaths_2020                      0.421903      0.496289         0.508285   \n",
       "democracy_index                  1.000000      0.668532         0.712121   \n",
       "health_index                     0.668532      1.000000         0.887075   \n",
       "education_index                  0.712121      0.887075         1.000000   \n",
       "cpi_index                        0.770556      0.697351         0.763734   \n",
       "gdp                              0.086293      0.122179         0.178520   \n",
       "\n",
       "                          cpi_index       gdp  \n",
       "total_deaths_per_million   0.287640  0.103134  \n",
       "deaths_2021                0.215852  0.048196  \n",
       "deaths_2020                0.334112  0.153203  \n",
       "democracy_index            0.770556  0.086293  \n",
       "health_index               0.697351  0.122179  \n",
       "education_index            0.763734  0.178520  \n",
       "cpi_index                  1.000000  0.177107  \n",
       "gdp                        0.177107  1.000000  "
      ]
     },
     "execution_count": 82,
     "metadata": {},
     "output_type": "execute_result"
    }
   ],
   "source": [
    "df.corr()"
   ]
  },
  {
   "cell_type": "markdown",
   "metadata": {},
   "source": [
    "## 4. Data Modeling"
   ]
  },
  {
   "cell_type": "markdown",
   "metadata": {},
   "source": [
    "### GDP x Deaths"
   ]
  },
  {
   "cell_type": "code",
   "execution_count": 83,
   "metadata": {},
   "outputs": [],
   "source": [
    "from scipy.stats import pearsonr"
   ]
  },
  {
   "cell_type": "code",
   "execution_count": 84,
   "metadata": {},
   "outputs": [],
   "source": [
    "corr, p_value = pearsonr(df['total_deaths_per_million'],df['gdp'])"
   ]
  },
  {
   "cell_type": "code",
   "execution_count": 85,
   "metadata": {},
   "outputs": [
    {
     "name": "stdout",
     "output_type": "stream",
     "text": [
      "Independent\n"
     ]
    }
   ],
   "source": [
    "if p_value < 0.05:\n",
    "    print('Dependent')\n",
    "else:\n",
    "    print('Independent')"
   ]
  },
  {
   "cell_type": "code",
   "execution_count": 86,
   "metadata": {},
   "outputs": [],
   "source": [
    "from scipy.stats import spearmanr"
   ]
  },
  {
   "cell_type": "code",
   "execution_count": 87,
   "metadata": {},
   "outputs": [],
   "source": [
    "corr, p_value = spearmanr(df['total_deaths_per_million'],df['gdp'])"
   ]
  },
  {
   "cell_type": "code",
   "execution_count": 88,
   "metadata": {},
   "outputs": [
    {
     "data": {
      "text/plain": [
       "0.3892599362579677"
      ]
     },
     "execution_count": 88,
     "metadata": {},
     "output_type": "execute_result"
    }
   ],
   "source": [
    "corr"
   ]
  },
  {
   "cell_type": "code",
   "execution_count": 89,
   "metadata": {},
   "outputs": [
    {
     "name": "stdout",
     "output_type": "stream",
     "text": [
      "Dependent\n"
     ]
    }
   ],
   "source": [
    "if p_value < 0.05:\n",
    "    print('Dependent')\n",
    "else:\n",
    "    print('Independent')"
   ]
  },
  {
   "cell_type": "code",
   "execution_count": 90,
   "metadata": {},
   "outputs": [
    {
     "data": {
      "text/plain": [
       "<matplotlib.collections.PathCollection at 0x20c5c5fb4f0>"
      ]
     },
     "execution_count": 90,
     "metadata": {},
     "output_type": "execute_result"
    },
    {
     "data": {
      "image/png": "[encoded data removed]",
      "text/plain": [
       "<Figure size 432x288 with 1 Axes>"
      ]
     },
     "metadata": {},
     "output_type": "display_data"
    }
   ],
   "source": [
    "import matplotlib.pyplot as plt\n",
    "plt.scatter(df['gdp'],df['total_deaths_per_million'])\n",
    "#plt.xlim((0.0,0.4e13))\n",
    "#plt.ylim((0.0,3000))"
   ]
  },
  {
   "cell_type": "markdown",
   "metadata": {},
   "source": [
    "### Histogram"
   ]
  },
  {
   "cell_type": "code",
   "execution_count": 91,
   "metadata": {},
   "outputs": [
    {
     "data": {
      "text/plain": [
       "<AxesSubplot:xlabel='total_deaths_per_million', ylabel='Count'>"
      ]
     },
     "execution_count": 91,
     "metadata": {},
     "output_type": "execute_result"
    },
    {
     "data": {
      "image/png": "[encoded data removed]",
      "text/plain": [
       "<Figure size 432x288 with 1 Axes>"
      ]
     },
     "metadata": {},
     "output_type": "display_data"
    }
   ],
   "source": [
    "sns.histplot(data=df[df[\"total_deaths_per_million\"] < 4000], x=\"total_deaths_per_million\")"
   ]
  },
  {
   "cell_type": "code",
   "execution_count": 92,
   "metadata": {},
   "outputs": [
    {
     "data": {
      "text/plain": [
       "<AxesSubplot:xlabel='gdp', ylabel='Count'>"
      ]
     },
     "execution_count": 92,
     "metadata": {},
     "output_type": "execute_result"
    },
    {
     "data": {
      "image/png": "[encoded data removed]",
      "text/plain": [
       "<Figure size 432x288 with 1 Axes>"
      ]
     },
     "metadata": {},
     "output_type": "display_data"
    }
   ],
   "source": [
    "sns.histplot(data=df[df['gdp']<0.4e13], x=\"gdp\")"
   ]
  },
  {
   "cell_type": "code",
   "execution_count": 93,
   "metadata": {},
   "outputs": [
    {
     "data": {
      "text/plain": [
       "<AxesSubplot:xlabel='cpi_index', ylabel='Count'>"
      ]
     },
     "execution_count": 93,
     "metadata": {},
     "output_type": "execute_result"
    },
    {
     "data": {
      "image/png": "[encoded data removed]",
      "text/plain": [
       "<Figure size 432x288 with 1 Axes>"
      ]
     },
     "metadata": {},
     "output_type": "display_data"
    }
   ],
   "source": [
    "sns.histplot(data=df, x=\"cpi_index\")"
   ]
  },
  {
   "cell_type": "code",
   "execution_count": 94,
   "metadata": {},
   "outputs": [
    {
     "data": {
      "text/plain": [
       "<AxesSubplot:xlabel='education_index', ylabel='Count'>"
      ]
     },
     "execution_count": 94,
     "metadata": {},
     "output_type": "execute_result"
    },
    {
     "data": {
      "image/png": "[encoded data removed]",
      "text/plain": [
       "<Figure size 432x288 with 1 Axes>"
      ]
     },
     "metadata": {},
     "output_type": "display_data"
    }
   ],
   "source": [
    "sns.histplot(data=df, x=\"education_index\")"
   ]
  },
  {
   "cell_type": "code",
   "execution_count": 95,
   "metadata": {},
   "outputs": [
    {
     "data": {
      "text/plain": [
       "<AxesSubplot:xlabel='health_index', ylabel='Count'>"
      ]
     },
     "execution_count": 95,
     "metadata": {},
     "output_type": "execute_result"
    },
    {
     "data": {
      "image/png": "[encoded data removed]",
      "text/plain": [
       "<Figure size 432x288 with 1 Axes>"
      ]
     },
     "metadata": {},
     "output_type": "display_data"
    }
   ],
   "source": [
    "sns.histplot(data=df, x=\"health_index\")"
   ]
  },
  {
   "cell_type": "code",
   "execution_count": 96,
   "metadata": {},
   "outputs": [
    {
     "data": {
      "text/plain": [
       "<AxesSubplot:xlabel='democracy_index', ylabel='Count'>"
      ]
     },
     "execution_count": 96,
     "metadata": {},
     "output_type": "execute_result"
    },
    {
     "data": {
      "image/png": "[encoded data removed]",
      "text/plain": [
       "<Figure size 432x288 with 1 Axes>"
      ]
     },
     "metadata": {},
     "output_type": "display_data"
    }
   ],
   "source": [
    "sns.histplot(data=df, x=\"democracy_index\")"
   ]
  },
  {
   "cell_type": "markdown",
   "metadata": {},
   "source": [
    "### Corruption x Deaths"
   ]
  },
  {
   "cell_type": "code",
   "execution_count": 97,
   "metadata": {},
   "outputs": [],
   "source": [
    "corr, p_value = spearmanr(df['total_deaths_per_million'],df['cpi_index'])"
   ]
  },
  {
   "cell_type": "code",
   "execution_count": 98,
   "metadata": {},
   "outputs": [
    {
     "name": "stdout",
     "output_type": "stream",
     "text": [
      "Dependent\n"
     ]
    }
   ],
   "source": [
    "if p_value < 0.05:\n",
    "    print('Dependent')\n",
    "else:\n",
    "    print('Independent')"
   ]
  },
  {
   "cell_type": "code",
   "execution_count": 99,
   "metadata": {},
   "outputs": [
    {
     "data": {
      "text/plain": [
       "0.44718329600933904"
      ]
     },
     "execution_count": 99,
     "metadata": {},
     "output_type": "execute_result"
    }
   ],
   "source": [
    "corr"
   ]
  },
  {
   "cell_type": "code",
   "execution_count": 100,
   "metadata": {},
   "outputs": [],
   "source": [
    "corr, p_value = spearmanr(df['education_index'],df['cpi_index'])"
   ]
  },
  {
   "cell_type": "code",
   "execution_count": 101,
   "metadata": {},
   "outputs": [
    {
     "name": "stdout",
     "output_type": "stream",
     "text": [
      "Dependent\n"
     ]
    }
   ],
   "source": [
    "if p_value < 0.05:\n",
    "    print('Dependent')\n",
    "else:\n",
    "    print('Independent')"
   ]
  },
  {
   "cell_type": "code",
   "execution_count": 102,
   "metadata": {},
   "outputs": [
    {
     "data": {
      "text/plain": [
       "0.7914152453415276"
      ]
     },
     "execution_count": 102,
     "metadata": {},
     "output_type": "execute_result"
    }
   ],
   "source": [
    "corr"
   ]
  },
  {
   "cell_type": "code",
   "execution_count": 103,
   "metadata": {},
   "outputs": [],
   "source": [
    "corr, p_value = spearmanr(df['health_index'],df['cpi_index'])"
   ]
  },
  {
   "cell_type": "code",
   "execution_count": 104,
   "metadata": {},
   "outputs": [
    {
     "name": "stdout",
     "output_type": "stream",
     "text": [
      "Dependent\n"
     ]
    }
   ],
   "source": [
    "if p_value < 0.05:\n",
    "    print('Dependent')\n",
    "else:\n",
    "    print('Independent')"
   ]
  },
  {
   "cell_type": "code",
   "execution_count": 105,
   "metadata": {},
   "outputs": [
    {
     "data": {
      "text/plain": [
       "0.8059163269761505"
      ]
     },
     "execution_count": 105,
     "metadata": {},
     "output_type": "execute_result"
    }
   ],
   "source": [
    "corr"
   ]
  },
  {
   "cell_type": "code",
   "execution_count": 106,
   "metadata": {},
   "outputs": [],
   "source": [
    "corr, p_value = spearmanr(df['democracy_index'],df['cpi_index'])"
   ]
  },
  {
   "cell_type": "code",
   "execution_count": 107,
   "metadata": {},
   "outputs": [
    {
     "name": "stdout",
     "output_type": "stream",
     "text": [
      "Dependent\n"
     ]
    }
   ],
   "source": [
    "if p_value < 0.05:\n",
    "    print('Dependent')\n",
    "else:\n",
    "    print('Independent')"
   ]
  },
  {
   "cell_type": "code",
   "execution_count": 108,
   "metadata": {},
   "outputs": [
    {
     "data": {
      "text/plain": [
       "0.780479082943608"
      ]
     },
     "execution_count": 108,
     "metadata": {},
     "output_type": "execute_result"
    }
   ],
   "source": [
    "corr"
   ]
  },
  {
   "cell_type": "code",
   "execution_count": 109,
   "metadata": {},
   "outputs": [
    {
     "data": {
      "text/plain": [
       "<matplotlib.collections.PathCollection at 0x20c5c95dc10>"
      ]
     },
     "execution_count": 109,
     "metadata": {},
     "output_type": "execute_result"
    },
    {
     "data": {
      "image/png": "[encoded data removed]",
      "text/plain": [
       "<Figure size 432x288 with 1 Axes>"
      ]
     },
     "metadata": {},
     "output_type": "display_data"
    }
   ],
   "source": [
    "import matplotlib.pyplot as plt\n",
    "plt.scatter(df['health_index'],df['cpi_index'])"
   ]
  },
  {
   "cell_type": "code",
   "execution_count": 110,
   "metadata": {},
   "outputs": [
    {
     "data": {
      "text/plain": [
       "<matplotlib.collections.PathCollection at 0x20c5c07fbe0>"
      ]
     },
     "execution_count": 110,
     "metadata": {},
     "output_type": "execute_result"
    },
    {
     "data": {
      "image/png": "[encoded data removed]",
      "text/plain": [
       "<Figure size 432x288 with 1 Axes>"
      ]
     },
     "metadata": {},
     "output_type": "display_data"
    }
   ],
   "source": [
    "plt.scatter(df['education_index'],df['cpi_index'])"
   ]
  },
  {
   "cell_type": "code",
   "execution_count": 111,
   "metadata": {},
   "outputs": [
    {
     "data": {
      "text/plain": [
       "<matplotlib.collections.PathCollection at 0x20c5c7455b0>"
      ]
     },
     "execution_count": 111,
     "metadata": {},
     "output_type": "execute_result"
    },
    {
     "data": {
      "image/png": "[encoded data removed]",
      "text/plain": [
       "<Figure size 432x288 with 1 Axes>"
      ]
     },
     "metadata": {},
     "output_type": "display_data"
    }
   ],
   "source": [
    "plt.scatter(df['democracy_index'],df['cpi_index'])"
   ]
  },
  {
   "cell_type": "code",
   "execution_count": 112,
   "metadata": {},
   "outputs": [
    {
     "data": {
      "text/plain": [
       "<matplotlib.collections.PathCollection at 0x20c5ca530a0>"
      ]
     },
     "execution_count": 112,
     "metadata": {},
     "output_type": "execute_result"
    },
    {
     "data": {
      "image/png": "[encoded data removed]",
      "text/plain": [
       "<Figure size 432x288 with 1 Axes>"
      ]
     },
     "metadata": {},
     "output_type": "display_data"
    }
   ],
   "source": [
    "plt.scatter(df['cpi_index'],df['total_deaths_per_million'])"
   ]
  },
  {
   "cell_type": "markdown",
   "metadata": {},
   "source": [
    "### Health x Deaths"
   ]
  },
  {
   "cell_type": "code",
   "execution_count": 113,
   "metadata": {},
   "outputs": [
    {
     "name": "stdout",
     "output_type": "stream",
     "text": [
      "Independent\n"
     ]
    },
    {
     "data": {
      "text/plain": [
       "-0.3671671792453592"
      ]
     },
     "execution_count": 113,
     "metadata": {},
     "output_type": "execute_result"
    }
   ],
   "source": [
    "corr, p_value = spearmanr(df[df['regime_type'] == 'Full democracy']['health_index'],df[df['regime_type'] == 'Full democracy']['total_deaths_per_million'])\n",
    "if p_value < 0.05:\n",
    "    print('Dependent')\n",
    "else:\n",
    "    print('Independent')\n",
    "corr"
   ]
  },
  {
   "cell_type": "code",
   "execution_count": 114,
   "metadata": {},
   "outputs": [
    {
     "data": {
      "text/plain": [
       "<matplotlib.collections.PathCollection at 0x20c5cab8310>"
      ]
     },
     "execution_count": 114,
     "metadata": {},
     "output_type": "execute_result"
    },
    {
     "data": {
      "image/png": "[encoded data removed]",
      "text/plain": [
       "<Figure size 432x288 with 1 Axes>"
      ]
     },
     "metadata": {},
     "output_type": "display_data"
    }
   ],
   "source": [
    "plt.scatter(df[df['regime_type'] == 'Full democracy']['health_index'],df[df['regime_type'] == 'Full democracy']['total_deaths_per_million'])"
   ]
  },
  {
   "cell_type": "code",
   "execution_count": 115,
   "metadata": {},
   "outputs": [
    {
     "data": {
      "text/plain": [
       "count    127.000000\n",
       "mean      44.464567\n",
       "std       19.198543\n",
       "min       16.000000\n",
       "25%       29.000000\n",
       "50%       40.000000\n",
       "75%       56.500000\n",
       "max       88.000000\n",
       "Name: cpi_index, dtype: float64"
      ]
     },
     "execution_count": 115,
     "metadata": {},
     "output_type": "execute_result"
    }
   ],
   "source": [
    "df['cpi_index'].describe()"
   ]
  },
  {
   "cell_type": "code",
   "execution_count": 116,
   "metadata": {},
   "outputs": [
    {
     "name": "stdout",
     "output_type": "stream",
     "text": [
      "Dependent\n"
     ]
    },
    {
     "data": {
      "text/plain": [
       "0.7385573999135294"
      ]
     },
     "execution_count": 116,
     "metadata": {},
     "output_type": "execute_result"
    }
   ],
   "source": [
    "corr, p_value = spearmanr(df[df['cpi_index']<25]['total_deaths_per_million'],df[df['cpi_index']<25]['health_index'])\n",
    "if p_value < 0.05:\n",
    "    print('Dependent')\n",
    "else:\n",
    "    print('Independent')\n",
    "corr"
   ]
  },
  {
   "cell_type": "code",
   "execution_count": 117,
   "metadata": {},
   "outputs": [
    {
     "name": "stdout",
     "output_type": "stream",
     "text": [
      "Dependent\n"
     ]
    },
    {
     "data": {
      "text/plain": [
       "0.5872757313548939"
      ]
     },
     "execution_count": 117,
     "metadata": {},
     "output_type": "execute_result"
    }
   ],
   "source": [
    "corr, p_value = spearmanr(df['total_deaths_per_million'],df['health_index'])\n",
    "if p_value < 0.05:\n",
    "    print('Dependent')\n",
    "else:\n",
    "    print('Independent')\n",
    "corr"
   ]
  },
  {
   "cell_type": "code",
   "execution_count": 118,
   "metadata": {},
   "outputs": [
    {
     "data": {
      "text/plain": [
       "<matplotlib.collections.PathCollection at 0x20c5cb168e0>"
      ]
     },
     "execution_count": 118,
     "metadata": {},
     "output_type": "execute_result"
    },
    {
     "data": {
      "image/png": "[encoded data removed]",
      "text/plain": [
       "<Figure size 432x288 with 1 Axes>"
      ]
     },
     "metadata": {},
     "output_type": "display_data"
    }
   ],
   "source": [
    "plt.scatter(df['gdp'],df['health_index'])"
   ]
  },
  {
   "cell_type": "markdown",
   "metadata": {},
   "source": [
    "### Education x Deaths"
   ]
  },
  {
   "cell_type": "code",
   "execution_count": 119,
   "metadata": {},
   "outputs": [
    {
     "name": "stdout",
     "output_type": "stream",
     "text": [
      "Dependent\n"
     ]
    },
    {
     "data": {
      "text/plain": [
       "0.6011204934963441"
      ]
     },
     "execution_count": 119,
     "metadata": {},
     "output_type": "execute_result"
    }
   ],
   "source": [
    "corr, p_value = spearmanr(df['total_deaths_per_million'],df['education_index'])\n",
    "if p_value < 0.05:\n",
    "    print('Dependent')\n",
    "else:\n",
    "    print('Independent')\n",
    "corr"
   ]
  },
  {
   "cell_type": "code",
   "execution_count": 120,
   "metadata": {},
   "outputs": [
    {
     "data": {
      "text/plain": [
       "<matplotlib.collections.PathCollection at 0x20c5cb6f580>"
      ]
     },
     "execution_count": 120,
     "metadata": {},
     "output_type": "execute_result"
    },
    {
     "data": {
      "image/png": "[encoded data removed]",
      "text/plain": [
       "<Figure size 432x288 with 1 Axes>"
      ]
     },
     "metadata": {},
     "output_type": "display_data"
    }
   ],
   "source": [
    "plt.scatter(df['education_index'],df['total_deaths_per_million'])"
   ]
  },
  {
   "cell_type": "code",
   "execution_count": 121,
   "metadata": {},
   "outputs": [
    {
     "data": {
      "text/plain": [
       "<matplotlib.collections.PathCollection at 0x20c5cbcbf70>"
      ]
     },
     "execution_count": 121,
     "metadata": {},
     "output_type": "execute_result"
    },
    {
     "data": {
      "image/png": "[encoded data removed]",
      "text/plain": [
       "<Figure size 432x288 with 1 Axes>"
      ]
     },
     "metadata": {},
     "output_type": "display_data"
    }
   ],
   "source": [
    "plt.scatter(df[df['regime_type'] == 'Full democracy']['total_deaths_per_million'],df[df['regime_type'] == 'Full democracy']['education_index'])"
   ]
  },
  {
   "cell_type": "code",
   "execution_count": 122,
   "metadata": {},
   "outputs": [
    {
     "name": "stdout",
     "output_type": "stream",
     "text": [
      "Independent\n"
     ]
    },
    {
     "data": {
      "text/plain": [
       "-0.2715306698227892"
      ]
     },
     "execution_count": 122,
     "metadata": {},
     "output_type": "execute_result"
    }
   ],
   "source": [
    "corr, p_value = spearmanr(df[df['regime_type'] == 'Full democracy']['total_deaths_per_million'],df[df['regime_type'] == 'Full democracy']['education_index'])\n",
    "if p_value < 0.05:\n",
    "    print('Dependent')\n",
    "else:\n",
    "    print('Independent')\n",
    "corr"
   ]
  },
  {
   "cell_type": "code",
   "execution_count": 123,
   "metadata": {},
   "outputs": [
    {
     "data": {
      "text/plain": [
       "<matplotlib.collections.PathCollection at 0x20c5cc2bf70>"
      ]
     },
     "execution_count": 123,
     "metadata": {},
     "output_type": "execute_result"
    },
    {
     "data": {
      "image/png": "[encoded data removed]",
      "text/plain": [
       "<Figure size 432x288 with 1 Axes>"
      ]
     },
     "metadata": {},
     "output_type": "display_data"
    }
   ],
   "source": [
    "plt.scatter(df[df['regime_type'] == 'Full democracy']['education_index'],df[df['regime_type'] == 'Full democracy']['total_deaths_per_million'])"
   ]
  },
  {
   "cell_type": "code",
   "execution_count": 124,
   "metadata": {},
   "outputs": [
    {
     "name": "stdout",
     "output_type": "stream",
     "text": [
      "Dependent\n"
     ]
    },
    {
     "data": {
      "text/plain": [
       "0.44879902442158476"
      ]
     },
     "execution_count": 124,
     "metadata": {},
     "output_type": "execute_result"
    }
   ],
   "source": [
    "corr, p_value = spearmanr(df[df['regime_type'] == 'Flawed democracy']['total_deaths_per_million'],df[df['regime_type'] == 'Flawed democracy']['education_index'])\n",
    "if p_value < 0.05:\n",
    "    print('Dependent')\n",
    "else:\n",
    "    print('Independent')\n",
    "corr"
   ]
  },
  {
   "cell_type": "markdown",
   "metadata": {},
   "source": [
    "### Democracy x Deaths"
   ]
  },
  {
   "cell_type": "code",
   "execution_count": 125,
   "metadata": {},
   "outputs": [
    {
     "name": "stdout",
     "output_type": "stream",
     "text": [
      "Dependent\n"
     ]
    },
    {
     "data": {
      "text/plain": [
       "0.5487716461868564"
      ]
     },
     "execution_count": 125,
     "metadata": {},
     "output_type": "execute_result"
    }
   ],
   "source": [
    "corr, p_value = spearmanr(df['total_deaths_per_million'],df['democracy_index'])\n",
    "if p_value < 0.05:\n",
    "    print('Dependent')\n",
    "else:\n",
    "    print('Independent')\n",
    "corr"
   ]
  },
  {
   "cell_type": "code",
   "execution_count": 126,
   "metadata": {},
   "outputs": [
    {
     "data": {
      "text/plain": [
       "<matplotlib.collections.PathCollection at 0x20c5cc8cca0>"
      ]
     },
     "execution_count": 126,
     "metadata": {},
     "output_type": "execute_result"
    },
    {
     "data": {
      "image/png": "[encoded data removed]",
      "text/plain": [
       "<Figure size 432x288 with 1 Axes>"
      ]
     },
     "metadata": {},
     "output_type": "display_data"
    }
   ],
   "source": [
    "plt.scatter(df['democracy_index'],df['total_deaths_per_million'])"
   ]
  },
  {
   "cell_type": "code",
   "execution_count": 127,
   "metadata": {},
   "outputs": [
    {
     "name": "stdout",
     "output_type": "stream",
     "text": [
      "Dependent\n"
     ]
    },
    {
     "data": {
      "text/plain": [
       "-0.4710309836061585"
      ]
     },
     "execution_count": 127,
     "metadata": {},
     "output_type": "execute_result"
    }
   ],
   "source": [
    "corr, p_value = spearmanr(df[df['regime_type'] == 'Full democracy']['total_deaths_per_million'],df[df['regime_type'] == 'Full democracy']['democracy_index'])\n",
    "if p_value < 0.05:\n",
    "    print('Dependent')\n",
    "else:\n",
    "    print('Independent')\n",
    "corr"
   ]
  },
  {
   "cell_type": "markdown",
   "metadata": {},
   "source": [
    "## 5. Evaluate the Results"
   ]
  },
  {
   "cell_type": "code",
   "execution_count": 128,
   "metadata": {},
   "outputs": [
    {
     "data": {
      "text/plain": [
       "count     127.000000\n",
       "mean      740.170677\n",
       "std       890.740749\n",
       "min         0.673000\n",
       "25%        63.933500\n",
       "50%       358.502000\n",
       "75%      1246.425500\n",
       "max      5860.454000\n",
       "Name: total_deaths_per_million, dtype: float64"
      ]
     },
     "execution_count": 128,
     "metadata": {},
     "output_type": "execute_result"
    }
   ],
   "source": [
    "df['total_deaths_per_million'].describe()"
   ]
  },
  {
   "cell_type": "code",
   "execution_count": 129,
   "metadata": {},
   "outputs": [],
   "source": [
    "top = df[df['total_deaths_per_million']>343.623]\n",
    "bottom = df[df['total_deaths_per_million']<=343.623]"
   ]
  },
  {
   "cell_type": "code",
   "execution_count": 130,
   "metadata": {},
   "outputs": [
    {
     "data": {
      "text/html": [
       "<div>\n",
       "<style scoped>\n",
       "    .dataframe tbody tr th:only-of-type {\n",
       "        vertical-align: middle;\n",
       "    }\n",
       "\n",
       "    .dataframe tbody tr th {\n",
       "        vertical-align: top;\n",
       "    }\n",
       "\n",
       "    .dataframe thead th {\n",
       "        text-align: right;\n",
       "    }\n",
       "</style>\n",
       "<table border=\"1\" class=\"dataframe\">\n",
       "  <thead>\n",
       "    <tr style=\"text-align: right;\">\n",
       "      <th></th>\n",
       "      <th>total_deaths_per_million</th>\n",
       "      <th>deaths_2021</th>\n",
       "      <th>deaths_2020</th>\n",
       "      <th>democracy_index</th>\n",
       "      <th>health_index</th>\n",
       "      <th>education_index</th>\n",
       "      <th>cpi_index</th>\n",
       "      <th>gdp</th>\n",
       "    </tr>\n",
       "  </thead>\n",
       "  <tbody>\n",
       "    <tr>\n",
       "      <th>count</th>\n",
       "      <td>65.000000</td>\n",
       "      <td>65.000000</td>\n",
       "      <td>65.000000</td>\n",
       "      <td>65.000000</td>\n",
       "      <td>65.000000</td>\n",
       "      <td>65.000000</td>\n",
       "      <td>65.000000</td>\n",
       "      <td>6.500000e+01</td>\n",
       "    </tr>\n",
       "    <tr>\n",
       "      <th>mean</th>\n",
       "      <td>1362.618062</td>\n",
       "      <td>746.953385</td>\n",
       "      <td>615.664677</td>\n",
       "      <td>6.801538</td>\n",
       "      <td>0.786615</td>\n",
       "      <td>0.770154</td>\n",
       "      <td>51.430769</td>\n",
       "      <td>7.216920e+11</td>\n",
       "    </tr>\n",
       "    <tr>\n",
       "      <th>std</th>\n",
       "      <td>865.666851</td>\n",
       "      <td>507.922425</td>\n",
       "      <td>462.837314</td>\n",
       "      <td>1.632295</td>\n",
       "      <td>0.107838</td>\n",
       "      <td>0.112576</td>\n",
       "      <td>17.985210</td>\n",
       "      <td>2.646951e+12</td>\n",
       "    </tr>\n",
       "    <tr>\n",
       "      <th>min</th>\n",
       "      <td>343.623000</td>\n",
       "      <td>116.900000</td>\n",
       "      <td>17.860000</td>\n",
       "      <td>1.950000</td>\n",
       "      <td>0.530000</td>\n",
       "      <td>0.499000</td>\n",
       "      <td>17.000000</td>\n",
       "      <td>3.807923e+09</td>\n",
       "    </tr>\n",
       "    <tr>\n",
       "      <th>25%</th>\n",
       "      <td>743.454000</td>\n",
       "      <td>417.006000</td>\n",
       "      <td>260.475000</td>\n",
       "      <td>6.080000</td>\n",
       "      <td>0.720000</td>\n",
       "      <td>0.694000</td>\n",
       "      <td>38.000000</td>\n",
       "      <td>3.338325e+10</td>\n",
       "    </tr>\n",
       "    <tr>\n",
       "      <th>50%</th>\n",
       "      <td>1236.407000</td>\n",
       "      <td>603.741000</td>\n",
       "      <td>471.887000</td>\n",
       "      <td>7.040000</td>\n",
       "      <td>0.790000</td>\n",
       "      <td>0.783000</td>\n",
       "      <td>49.000000</td>\n",
       "      <td>7.760463e+10</td>\n",
       "    </tr>\n",
       "    <tr>\n",
       "      <th>75%</th>\n",
       "      <td>1778.593000</td>\n",
       "      <td>938.400000</td>\n",
       "      <td>917.151000</td>\n",
       "      <td>7.900000</td>\n",
       "      <td>0.890000</td>\n",
       "      <td>0.865000</td>\n",
       "      <td>62.000000</td>\n",
       "      <td>4.186218e+11</td>\n",
       "    </tr>\n",
       "    <tr>\n",
       "      <th>max</th>\n",
       "      <td>5860.454000</td>\n",
       "      <td>3037.743000</td>\n",
       "      <td>2822.711000</td>\n",
       "      <td>9.260000</td>\n",
       "      <td>0.930000</td>\n",
       "      <td>0.943000</td>\n",
       "      <td>88.000000</td>\n",
       "      <td>2.093660e+13</td>\n",
       "    </tr>\n",
       "  </tbody>\n",
       "</table>\n",
       "</div>"
      ],
      "text/plain": [
       "       total_deaths_per_million  deaths_2021  deaths_2020  democracy_index  \\\n",
       "count                 65.000000    65.000000    65.000000        65.000000   \n",
       "mean                1362.618062   746.953385   615.664677         6.801538   \n",
       "std                  865.666851   507.922425   462.837314         1.632295   \n",
       "min                  343.623000   116.900000    17.860000         1.950000   \n",
       "25%                  743.454000   417.006000   260.475000         6.080000   \n",
       "50%                 1236.407000   603.741000   471.887000         7.040000   \n",
       "75%                 1778.593000   938.400000   917.151000         7.900000   \n",
       "max                 5860.454000  3037.743000  2822.711000         9.260000   \n",
       "\n",
       "       health_index  education_index  cpi_index           gdp  \n",
       "count     65.000000        65.000000  65.000000  6.500000e+01  \n",
       "mean       0.786615         0.770154  51.430769  7.216920e+11  \n",
       "std        0.107838         0.112576  17.985210  2.646951e+12  \n",
       "min        0.530000         0.499000  17.000000  3.807923e+09  \n",
       "25%        0.720000         0.694000  38.000000  3.338325e+10  \n",
       "50%        0.790000         0.783000  49.000000  7.760463e+10  \n",
       "75%        0.890000         0.865000  62.000000  4.186218e+11  \n",
       "max        0.930000         0.943000  88.000000  2.093660e+13  "
      ]
     },
     "execution_count": 130,
     "metadata": {},
     "output_type": "execute_result"
    }
   ],
   "source": [
    "top.describe()"
   ]
  },
  {
   "cell_type": "markdown",
   "metadata": {},
   "source": [
    "According to the first question, half of the countries that have an expressive high number of deaths are formed by prosperous nations, but this will become clearer soon with the clustering. Also, there is a very strong relation between the health index and the death rate. Democracy and corruption are also associated with the high death rate."
   ]
  },
  {
   "cell_type": "code",
   "execution_count": 131,
   "metadata": {},
   "outputs": [
    {
     "data": {
      "text/html": [
       "<div>\n",
       "<style scoped>\n",
       "    .dataframe tbody tr th:only-of-type {\n",
       "        vertical-align: middle;\n",
       "    }\n",
       "\n",
       "    .dataframe tbody tr th {\n",
       "        vertical-align: top;\n",
       "    }\n",
       "\n",
       "    .dataframe thead th {\n",
       "        text-align: right;\n",
       "    }\n",
       "</style>\n",
       "<table border=\"1\" class=\"dataframe\">\n",
       "  <thead>\n",
       "    <tr style=\"text-align: right;\">\n",
       "      <th></th>\n",
       "      <th>total_deaths_per_million</th>\n",
       "      <th>deaths_2021</th>\n",
       "      <th>deaths_2020</th>\n",
       "      <th>democracy_index</th>\n",
       "      <th>health_index</th>\n",
       "      <th>education_index</th>\n",
       "      <th>cpi_index</th>\n",
       "      <th>gdp</th>\n",
       "    </tr>\n",
       "  </thead>\n",
       "  <tbody>\n",
       "    <tr>\n",
       "      <th>count</th>\n",
       "      <td>62.000000</td>\n",
       "      <td>62.000000</td>\n",
       "      <td>62.000000</td>\n",
       "      <td>62.000000</td>\n",
       "      <td>62.000000</td>\n",
       "      <td>62.000000</td>\n",
       "      <td>62.000000</td>\n",
       "      <td>6.200000e+01</td>\n",
       "    </tr>\n",
       "    <tr>\n",
       "      <th>mean</th>\n",
       "      <td>87.604871</td>\n",
       "      <td>51.912194</td>\n",
       "      <td>35.692677</td>\n",
       "      <td>4.641452</td>\n",
       "      <td>0.401129</td>\n",
       "      <td>0.555790</td>\n",
       "      <td>37.161290</td>\n",
       "      <td>4.111626e+11</td>\n",
       "    </tr>\n",
       "    <tr>\n",
       "      <th>std</th>\n",
       "      <td>83.438554</td>\n",
       "      <td>61.108856</td>\n",
       "      <td>42.959138</td>\n",
       "      <td>2.099324</td>\n",
       "      <td>0.318223</td>\n",
       "      <td>0.179604</td>\n",
       "      <td>17.777489</td>\n",
       "      <td>1.890021e+12</td>\n",
       "    </tr>\n",
       "    <tr>\n",
       "      <th>min</th>\n",
       "      <td>0.673000</td>\n",
       "      <td>0.000000</td>\n",
       "      <td>0.168000</td>\n",
       "      <td>1.320000</td>\n",
       "      <td>0.000000</td>\n",
       "      <td>0.249000</td>\n",
       "      <td>16.000000</td>\n",
       "      <td>1.219690e+09</td>\n",
       "    </tr>\n",
       "    <tr>\n",
       "      <th>25%</th>\n",
       "      <td>20.947500</td>\n",
       "      <td>6.526750</td>\n",
       "      <td>7.293000</td>\n",
       "      <td>3.092500</td>\n",
       "      <td>0.140000</td>\n",
       "      <td>0.419250</td>\n",
       "      <td>26.000000</td>\n",
       "      <td>1.275039e+10</td>\n",
       "    </tr>\n",
       "    <tr>\n",
       "      <th>50%</th>\n",
       "      <td>56.409500</td>\n",
       "      <td>27.562000</td>\n",
       "      <td>16.801500</td>\n",
       "      <td>4.160000</td>\n",
       "      <td>0.355000</td>\n",
       "      <td>0.526000</td>\n",
       "      <td>31.500000</td>\n",
       "      <td>2.425121e+10</td>\n",
       "    </tr>\n",
       "    <tr>\n",
       "      <th>75%</th>\n",
       "      <td>149.917750</td>\n",
       "      <td>63.845250</td>\n",
       "      <td>54.535500</td>\n",
       "      <td>6.037500</td>\n",
       "      <td>0.637500</td>\n",
       "      <td>0.676500</td>\n",
       "      <td>40.750000</td>\n",
       "      <td>1.639700e+11</td>\n",
       "    </tr>\n",
       "    <tr>\n",
       "      <th>max</th>\n",
       "      <td>321.312000</td>\n",
       "      <td>257.613000</td>\n",
       "      <td>200.160000</td>\n",
       "      <td>9.810000</td>\n",
       "      <td>0.940000</td>\n",
       "      <td>0.930000</td>\n",
       "      <td>88.000000</td>\n",
       "      <td>1.472273e+13</td>\n",
       "    </tr>\n",
       "  </tbody>\n",
       "</table>\n",
       "</div>"
      ],
      "text/plain": [
       "       total_deaths_per_million  deaths_2021  deaths_2020  democracy_index  \\\n",
       "count                 62.000000    62.000000    62.000000        62.000000   \n",
       "mean                  87.604871    51.912194    35.692677         4.641452   \n",
       "std                   83.438554    61.108856    42.959138         2.099324   \n",
       "min                    0.673000     0.000000     0.168000         1.320000   \n",
       "25%                   20.947500     6.526750     7.293000         3.092500   \n",
       "50%                   56.409500    27.562000    16.801500         4.160000   \n",
       "75%                  149.917750    63.845250    54.535500         6.037500   \n",
       "max                  321.312000   257.613000   200.160000         9.810000   \n",
       "\n",
       "       health_index  education_index  cpi_index           gdp  \n",
       "count     62.000000        62.000000  62.000000  6.200000e+01  \n",
       "mean       0.401129         0.555790  37.161290  4.111626e+11  \n",
       "std        0.318223         0.179604  17.777489  1.890021e+12  \n",
       "min        0.000000         0.249000  16.000000  1.219690e+09  \n",
       "25%        0.140000         0.419250  26.000000  1.275039e+10  \n",
       "50%        0.355000         0.526000  31.500000  2.425121e+10  \n",
       "75%        0.637500         0.676500  40.750000  1.639700e+11  \n",
       "max        0.940000         0.930000  88.000000  1.472273e+13  "
      ]
     },
     "execution_count": 131,
     "metadata": {},
     "output_type": "execute_result"
    }
   ],
   "source": [
    "bottom.describe()"
   ]
  },
  {
   "cell_type": "markdown",
   "metadata": {},
   "source": [
    "The more authoritarian countries performed better in terms of the death toll, despite having less education, health, and resources."
   ]
  },
  {
   "cell_type": "code",
   "execution_count": 132,
   "metadata": {},
   "outputs": [],
   "source": [
    "top_2021 = df[df['deaths_2021']>192]\n",
    "bottom_2021 = df[df['deaths_2021']<=192]"
   ]
  },
  {
   "cell_type": "code",
   "execution_count": 133,
   "metadata": {},
   "outputs": [
    {
     "data": {
      "text/html": [
       "<div>\n",
       "<style scoped>\n",
       "    .dataframe tbody tr th:only-of-type {\n",
       "        vertical-align: middle;\n",
       "    }\n",
       "\n",
       "    .dataframe tbody tr th {\n",
       "        vertical-align: top;\n",
       "    }\n",
       "\n",
       "    .dataframe thead th {\n",
       "        text-align: right;\n",
       "    }\n",
       "</style>\n",
       "<table border=\"1\" class=\"dataframe\">\n",
       "  <thead>\n",
       "    <tr style=\"text-align: right;\">\n",
       "      <th></th>\n",
       "      <th>total_deaths_per_million</th>\n",
       "      <th>deaths_2021</th>\n",
       "      <th>deaths_2020</th>\n",
       "      <th>democracy_index</th>\n",
       "      <th>health_index</th>\n",
       "      <th>education_index</th>\n",
       "      <th>cpi_index</th>\n",
       "      <th>gdp</th>\n",
       "    </tr>\n",
       "  </thead>\n",
       "  <tbody>\n",
       "    <tr>\n",
       "      <th>count</th>\n",
       "      <td>65.000000</td>\n",
       "      <td>65.000000</td>\n",
       "      <td>65.000000</td>\n",
       "      <td>65.000000</td>\n",
       "      <td>65.000000</td>\n",
       "      <td>65.000000</td>\n",
       "      <td>65.000000</td>\n",
       "      <td>6.500000e+01</td>\n",
       "    </tr>\n",
       "    <tr>\n",
       "      <th>mean</th>\n",
       "      <td>1362.618062</td>\n",
       "      <td>746.953385</td>\n",
       "      <td>615.664677</td>\n",
       "      <td>6.801538</td>\n",
       "      <td>0.786615</td>\n",
       "      <td>0.770154</td>\n",
       "      <td>51.430769</td>\n",
       "      <td>7.216920e+11</td>\n",
       "    </tr>\n",
       "    <tr>\n",
       "      <th>std</th>\n",
       "      <td>865.666851</td>\n",
       "      <td>507.922425</td>\n",
       "      <td>462.837314</td>\n",
       "      <td>1.632295</td>\n",
       "      <td>0.107838</td>\n",
       "      <td>0.112576</td>\n",
       "      <td>17.985210</td>\n",
       "      <td>2.646951e+12</td>\n",
       "    </tr>\n",
       "    <tr>\n",
       "      <th>min</th>\n",
       "      <td>343.623000</td>\n",
       "      <td>116.900000</td>\n",
       "      <td>17.860000</td>\n",
       "      <td>1.950000</td>\n",
       "      <td>0.530000</td>\n",
       "      <td>0.499000</td>\n",
       "      <td>17.000000</td>\n",
       "      <td>3.807923e+09</td>\n",
       "    </tr>\n",
       "    <tr>\n",
       "      <th>25%</th>\n",
       "      <td>743.454000</td>\n",
       "      <td>417.006000</td>\n",
       "      <td>260.475000</td>\n",
       "      <td>6.080000</td>\n",
       "      <td>0.720000</td>\n",
       "      <td>0.694000</td>\n",
       "      <td>38.000000</td>\n",
       "      <td>3.338325e+10</td>\n",
       "    </tr>\n",
       "    <tr>\n",
       "      <th>50%</th>\n",
       "      <td>1236.407000</td>\n",
       "      <td>603.741000</td>\n",
       "      <td>471.887000</td>\n",
       "      <td>7.040000</td>\n",
       "      <td>0.790000</td>\n",
       "      <td>0.783000</td>\n",
       "      <td>49.000000</td>\n",
       "      <td>7.760463e+10</td>\n",
       "    </tr>\n",
       "    <tr>\n",
       "      <th>75%</th>\n",
       "      <td>1778.593000</td>\n",
       "      <td>938.400000</td>\n",
       "      <td>917.151000</td>\n",
       "      <td>7.900000</td>\n",
       "      <td>0.890000</td>\n",
       "      <td>0.865000</td>\n",
       "      <td>62.000000</td>\n",
       "      <td>4.186218e+11</td>\n",
       "    </tr>\n",
       "    <tr>\n",
       "      <th>max</th>\n",
       "      <td>5860.454000</td>\n",
       "      <td>3037.743000</td>\n",
       "      <td>2822.711000</td>\n",
       "      <td>9.260000</td>\n",
       "      <td>0.930000</td>\n",
       "      <td>0.943000</td>\n",
       "      <td>88.000000</td>\n",
       "      <td>2.093660e+13</td>\n",
       "    </tr>\n",
       "  </tbody>\n",
       "</table>\n",
       "</div>"
      ],
      "text/plain": [
       "       total_deaths_per_million  deaths_2021  deaths_2020  democracy_index  \\\n",
       "count                 65.000000    65.000000    65.000000        65.000000   \n",
       "mean                1362.618062   746.953385   615.664677         6.801538   \n",
       "std                  865.666851   507.922425   462.837314         1.632295   \n",
       "min                  343.623000   116.900000    17.860000         1.950000   \n",
       "25%                  743.454000   417.006000   260.475000         6.080000   \n",
       "50%                 1236.407000   603.741000   471.887000         7.040000   \n",
       "75%                 1778.593000   938.400000   917.151000         7.900000   \n",
       "max                 5860.454000  3037.743000  2822.711000         9.260000   \n",
       "\n",
       "       health_index  education_index  cpi_index           gdp  \n",
       "count     65.000000        65.000000  65.000000  6.500000e+01  \n",
       "mean       0.786615         0.770154  51.430769  7.216920e+11  \n",
       "std        0.107838         0.112576  17.985210  2.646951e+12  \n",
       "min        0.530000         0.499000  17.000000  3.807923e+09  \n",
       "25%        0.720000         0.694000  38.000000  3.338325e+10  \n",
       "50%        0.790000         0.783000  49.000000  7.760463e+10  \n",
       "75%        0.890000         0.865000  62.000000  4.186218e+11  \n",
       "max        0.930000         0.943000  88.000000  2.093660e+13  "
      ]
     },
     "execution_count": 133,
     "metadata": {},
     "output_type": "execute_result"
    }
   ],
   "source": [
    "top.describe()"
   ]
  },
  {
   "cell_type": "code",
   "execution_count": 134,
   "metadata": {},
   "outputs": [
    {
     "data": {
      "text/html": [
       "<div>\n",
       "<style scoped>\n",
       "    .dataframe tbody tr th:only-of-type {\n",
       "        vertical-align: middle;\n",
       "    }\n",
       "\n",
       "    .dataframe tbody tr th {\n",
       "        vertical-align: top;\n",
       "    }\n",
       "\n",
       "    .dataframe thead th {\n",
       "        text-align: right;\n",
       "    }\n",
       "</style>\n",
       "<table border=\"1\" class=\"dataframe\">\n",
       "  <thead>\n",
       "    <tr style=\"text-align: right;\">\n",
       "      <th></th>\n",
       "      <th>total_deaths_per_million</th>\n",
       "      <th>deaths_2021</th>\n",
       "      <th>deaths_2020</th>\n",
       "      <th>democracy_index</th>\n",
       "      <th>health_index</th>\n",
       "      <th>education_index</th>\n",
       "      <th>cpi_index</th>\n",
       "      <th>gdp</th>\n",
       "    </tr>\n",
       "  </thead>\n",
       "  <tbody>\n",
       "    <tr>\n",
       "      <th>count</th>\n",
       "      <td>62.000000</td>\n",
       "      <td>62.000000</td>\n",
       "      <td>62.000000</td>\n",
       "      <td>62.000000</td>\n",
       "      <td>62.000000</td>\n",
       "      <td>62.000000</td>\n",
       "      <td>62.000000</td>\n",
       "      <td>6.200000e+01</td>\n",
       "    </tr>\n",
       "    <tr>\n",
       "      <th>mean</th>\n",
       "      <td>87.604871</td>\n",
       "      <td>51.912194</td>\n",
       "      <td>35.692677</td>\n",
       "      <td>4.641452</td>\n",
       "      <td>0.401129</td>\n",
       "      <td>0.555790</td>\n",
       "      <td>37.161290</td>\n",
       "      <td>4.111626e+11</td>\n",
       "    </tr>\n",
       "    <tr>\n",
       "      <th>std</th>\n",
       "      <td>83.438554</td>\n",
       "      <td>61.108856</td>\n",
       "      <td>42.959138</td>\n",
       "      <td>2.099324</td>\n",
       "      <td>0.318223</td>\n",
       "      <td>0.179604</td>\n",
       "      <td>17.777489</td>\n",
       "      <td>1.890021e+12</td>\n",
       "    </tr>\n",
       "    <tr>\n",
       "      <th>min</th>\n",
       "      <td>0.673000</td>\n",
       "      <td>0.000000</td>\n",
       "      <td>0.168000</td>\n",
       "      <td>1.320000</td>\n",
       "      <td>0.000000</td>\n",
       "      <td>0.249000</td>\n",
       "      <td>16.000000</td>\n",
       "      <td>1.219690e+09</td>\n",
       "    </tr>\n",
       "    <tr>\n",
       "      <th>25%</th>\n",
       "      <td>20.947500</td>\n",
       "      <td>6.526750</td>\n",
       "      <td>7.293000</td>\n",
       "      <td>3.092500</td>\n",
       "      <td>0.140000</td>\n",
       "      <td>0.419250</td>\n",
       "      <td>26.000000</td>\n",
       "      <td>1.275039e+10</td>\n",
       "    </tr>\n",
       "    <tr>\n",
       "      <th>50%</th>\n",
       "      <td>56.409500</td>\n",
       "      <td>27.562000</td>\n",
       "      <td>16.801500</td>\n",
       "      <td>4.160000</td>\n",
       "      <td>0.355000</td>\n",
       "      <td>0.526000</td>\n",
       "      <td>31.500000</td>\n",
       "      <td>2.425121e+10</td>\n",
       "    </tr>\n",
       "    <tr>\n",
       "      <th>75%</th>\n",
       "      <td>149.917750</td>\n",
       "      <td>63.845250</td>\n",
       "      <td>54.535500</td>\n",
       "      <td>6.037500</td>\n",
       "      <td>0.637500</td>\n",
       "      <td>0.676500</td>\n",
       "      <td>40.750000</td>\n",
       "      <td>1.639700e+11</td>\n",
       "    </tr>\n",
       "    <tr>\n",
       "      <th>max</th>\n",
       "      <td>321.312000</td>\n",
       "      <td>257.613000</td>\n",
       "      <td>200.160000</td>\n",
       "      <td>9.810000</td>\n",
       "      <td>0.940000</td>\n",
       "      <td>0.930000</td>\n",
       "      <td>88.000000</td>\n",
       "      <td>1.472273e+13</td>\n",
       "    </tr>\n",
       "  </tbody>\n",
       "</table>\n",
       "</div>"
      ],
      "text/plain": [
       "       total_deaths_per_million  deaths_2021  deaths_2020  democracy_index  \\\n",
       "count                 62.000000    62.000000    62.000000        62.000000   \n",
       "mean                  87.604871    51.912194    35.692677         4.641452   \n",
       "std                   83.438554    61.108856    42.959138         2.099324   \n",
       "min                    0.673000     0.000000     0.168000         1.320000   \n",
       "25%                   20.947500     6.526750     7.293000         3.092500   \n",
       "50%                   56.409500    27.562000    16.801500         4.160000   \n",
       "75%                  149.917750    63.845250    54.535500         6.037500   \n",
       "max                  321.312000   257.613000   200.160000         9.810000   \n",
       "\n",
       "       health_index  education_index  cpi_index           gdp  \n",
       "count     62.000000        62.000000  62.000000  6.200000e+01  \n",
       "mean       0.401129         0.555790  37.161290  4.111626e+11  \n",
       "std        0.318223         0.179604  17.777489  1.890021e+12  \n",
       "min        0.000000         0.249000  16.000000  1.219690e+09  \n",
       "25%        0.140000         0.419250  26.000000  1.275039e+10  \n",
       "50%        0.355000         0.526000  31.500000  2.425121e+10  \n",
       "75%        0.637500         0.676500  40.750000  1.639700e+11  \n",
       "max        0.940000         0.930000  88.000000  1.472273e+13  "
      ]
     },
     "execution_count": 134,
     "metadata": {},
     "output_type": "execute_result"
    }
   ],
   "source": [
    "bottom.describe()"
   ]
  },
  {
   "cell_type": "code",
   "execution_count": 135,
   "metadata": {},
   "outputs": [
    {
     "data": {
      "text/plain": [
       "count     127.000000\n",
       "mean      332.528740\n",
       "std       440.924898\n",
       "min         0.168000\n",
       "25%        17.368000\n",
       "50%       107.781000\n",
       "75%       475.950500\n",
       "max      2822.711000\n",
       "Name: deaths_2020, dtype: float64"
      ]
     },
     "execution_count": 135,
     "metadata": {},
     "output_type": "execute_result"
    }
   ],
   "source": [
    "df['deaths_2020'].describe()"
   ]
  },
  {
   "cell_type": "code",
   "execution_count": 136,
   "metadata": {},
   "outputs": [],
   "source": [
    "top_2020 = df[df['deaths_2020']>107.78]\n",
    "bottom_2020 = df[df['deaths_2020']<=107.78]"
   ]
  },
  {
   "cell_type": "code",
   "execution_count": 137,
   "metadata": {},
   "outputs": [
    {
     "data": {
      "text/html": [
       "<div>\n",
       "<style scoped>\n",
       "    .dataframe tbody tr th:only-of-type {\n",
       "        vertical-align: middle;\n",
       "    }\n",
       "\n",
       "    .dataframe tbody tr th {\n",
       "        vertical-align: top;\n",
       "    }\n",
       "\n",
       "    .dataframe thead th {\n",
       "        text-align: right;\n",
       "    }\n",
       "</style>\n",
       "<table border=\"1\" class=\"dataframe\">\n",
       "  <thead>\n",
       "    <tr style=\"text-align: right;\">\n",
       "      <th></th>\n",
       "      <th>total_deaths_per_million</th>\n",
       "      <th>deaths_2021</th>\n",
       "      <th>deaths_2020</th>\n",
       "      <th>democracy_index</th>\n",
       "      <th>health_index</th>\n",
       "      <th>education_index</th>\n",
       "      <th>cpi_index</th>\n",
       "      <th>gdp</th>\n",
       "    </tr>\n",
       "  </thead>\n",
       "  <tbody>\n",
       "    <tr>\n",
       "      <th>count</th>\n",
       "      <td>64.000000</td>\n",
       "      <td>64.000000</td>\n",
       "      <td>64.000000</td>\n",
       "      <td>64.000000</td>\n",
       "      <td>64.000000</td>\n",
       "      <td>64.000000</td>\n",
       "      <td>64.000000</td>\n",
       "      <td>6.400000e+01</td>\n",
       "    </tr>\n",
       "    <tr>\n",
       "      <th>mean</th>\n",
       "      <td>1336.859750</td>\n",
       "      <td>707.038484</td>\n",
       "      <td>629.821266</td>\n",
       "      <td>6.592656</td>\n",
       "      <td>0.785781</td>\n",
       "      <td>0.771266</td>\n",
       "      <td>50.750000</td>\n",
       "      <td>7.875052e+11</td>\n",
       "    </tr>\n",
       "    <tr>\n",
       "      <th>std</th>\n",
       "      <td>893.521682</td>\n",
       "      <td>520.989510</td>\n",
       "      <td>454.914209</td>\n",
       "      <td>1.792010</td>\n",
       "      <td>0.109759</td>\n",
       "      <td>0.116142</td>\n",
       "      <td>18.027316</td>\n",
       "      <td>2.672548e+12</td>\n",
       "    </tr>\n",
       "    <tr>\n",
       "      <th>min</th>\n",
       "      <td>190.076000</td>\n",
       "      <td>43.032000</td>\n",
       "      <td>107.781000</td>\n",
       "      <td>1.950000</td>\n",
       "      <td>0.520000</td>\n",
       "      <td>0.499000</td>\n",
       "      <td>17.000000</td>\n",
       "      <td>3.807923e+09</td>\n",
       "    </tr>\n",
       "    <tr>\n",
       "      <th>25%</th>\n",
       "      <td>723.785250</td>\n",
       "      <td>371.728500</td>\n",
       "      <td>266.605500</td>\n",
       "      <td>5.877500</td>\n",
       "      <td>0.717500</td>\n",
       "      <td>0.698500</td>\n",
       "      <td>38.000000</td>\n",
       "      <td>4.176430e+10</td>\n",
       "    </tr>\n",
       "    <tr>\n",
       "      <th>50%</th>\n",
       "      <td>1230.452000</td>\n",
       "      <td>594.341500</td>\n",
       "      <td>475.950500</td>\n",
       "      <td>6.835000</td>\n",
       "      <td>0.790000</td>\n",
       "      <td>0.796000</td>\n",
       "      <td>47.000000</td>\n",
       "      <td>1.552975e+11</td>\n",
       "    </tr>\n",
       "    <tr>\n",
       "      <th>75%</th>\n",
       "      <td>1789.428250</td>\n",
       "      <td>907.811250</td>\n",
       "      <td>920.900000</td>\n",
       "      <td>7.855000</td>\n",
       "      <td>0.890000</td>\n",
       "      <td>0.866000</td>\n",
       "      <td>61.250000</td>\n",
       "      <td>5.209018e+11</td>\n",
       "    </tr>\n",
       "    <tr>\n",
       "      <th>max</th>\n",
       "      <td>5860.454000</td>\n",
       "      <td>3037.743000</td>\n",
       "      <td>2822.711000</td>\n",
       "      <td>9.260000</td>\n",
       "      <td>0.930000</td>\n",
       "      <td>0.943000</td>\n",
       "      <td>88.000000</td>\n",
       "      <td>2.093660e+13</td>\n",
       "    </tr>\n",
       "  </tbody>\n",
       "</table>\n",
       "</div>"
      ],
      "text/plain": [
       "       total_deaths_per_million  deaths_2021  deaths_2020  democracy_index  \\\n",
       "count                 64.000000    64.000000    64.000000        64.000000   \n",
       "mean                1336.859750   707.038484   629.821266         6.592656   \n",
       "std                  893.521682   520.989510   454.914209         1.792010   \n",
       "min                  190.076000    43.032000   107.781000         1.950000   \n",
       "25%                  723.785250   371.728500   266.605500         5.877500   \n",
       "50%                 1230.452000   594.341500   475.950500         6.835000   \n",
       "75%                 1789.428250   907.811250   920.900000         7.855000   \n",
       "max                 5860.454000  3037.743000  2822.711000         9.260000   \n",
       "\n",
       "       health_index  education_index  cpi_index           gdp  \n",
       "count     64.000000        64.000000  64.000000  6.400000e+01  \n",
       "mean       0.785781         0.771266  50.750000  7.875052e+11  \n",
       "std        0.109759         0.116142  18.027316  2.672548e+12  \n",
       "min        0.520000         0.499000  17.000000  3.807923e+09  \n",
       "25%        0.717500         0.698500  38.000000  4.176430e+10  \n",
       "50%        0.790000         0.796000  47.000000  1.552975e+11  \n",
       "75%        0.890000         0.866000  61.250000  5.209018e+11  \n",
       "max        0.930000         0.943000  88.000000  2.093660e+13  "
      ]
     },
     "execution_count": 137,
     "metadata": {},
     "output_type": "execute_result"
    }
   ],
   "source": [
    "top_2020.describe()"
   ]
  },
  {
   "cell_type": "code",
   "execution_count": 138,
   "metadata": {},
   "outputs": [
    {
     "data": {
      "text/html": [
       "<div>\n",
       "<style scoped>\n",
       "    .dataframe tbody tr th:only-of-type {\n",
       "        vertical-align: middle;\n",
       "    }\n",
       "\n",
       "    .dataframe tbody tr th {\n",
       "        vertical-align: top;\n",
       "    }\n",
       "\n",
       "    .dataframe thead th {\n",
       "        text-align: right;\n",
       "    }\n",
       "</style>\n",
       "<table border=\"1\" class=\"dataframe\">\n",
       "  <thead>\n",
       "    <tr style=\"text-align: right;\">\n",
       "      <th></th>\n",
       "      <th>total_deaths_per_million</th>\n",
       "      <th>deaths_2021</th>\n",
       "      <th>deaths_2020</th>\n",
       "      <th>democracy_index</th>\n",
       "      <th>health_index</th>\n",
       "      <th>education_index</th>\n",
       "      <th>cpi_index</th>\n",
       "      <th>gdp</th>\n",
       "    </tr>\n",
       "  </thead>\n",
       "  <tbody>\n",
       "    <tr>\n",
       "      <th>count</th>\n",
       "      <td>63.000000</td>\n",
       "      <td>63.000000</td>\n",
       "      <td>63.000000</td>\n",
       "      <td>63.000000</td>\n",
       "      <td>63.000000</td>\n",
       "      <td>63.000000</td>\n",
       "      <td>63.000000</td>\n",
       "      <td>6.300000e+01</td>\n",
       "    </tr>\n",
       "    <tr>\n",
       "      <th>mean</th>\n",
       "      <td>134.010349</td>\n",
       "      <td>103.493063</td>\n",
       "      <td>30.517286</td>\n",
       "      <td>4.887937</td>\n",
       "      <td>0.408095</td>\n",
       "      <td>0.558063</td>\n",
       "      <td>38.079365</td>\n",
       "      <td>3.492337e+11</td>\n",
       "    </tr>\n",
       "    <tr>\n",
       "      <th>std</th>\n",
       "      <td>245.549667</td>\n",
       "      <td>234.289941</td>\n",
       "      <td>30.003608</td>\n",
       "      <td>2.173320</td>\n",
       "      <td>0.320009</td>\n",
       "      <td>0.177075</td>\n",
       "      <td>18.347279</td>\n",
       "      <td>1.854778e+12</td>\n",
       "    </tr>\n",
       "    <tr>\n",
       "      <th>min</th>\n",
       "      <td>0.673000</td>\n",
       "      <td>0.000000</td>\n",
       "      <td>0.168000</td>\n",
       "      <td>1.320000</td>\n",
       "      <td>0.000000</td>\n",
       "      <td>0.249000</td>\n",
       "      <td>16.000000</td>\n",
       "      <td>1.219690e+09</td>\n",
       "    </tr>\n",
       "    <tr>\n",
       "      <th>25%</th>\n",
       "      <td>21.604000</td>\n",
       "      <td>6.762500</td>\n",
       "      <td>7.483000</td>\n",
       "      <td>3.130000</td>\n",
       "      <td>0.140000</td>\n",
       "      <td>0.421500</td>\n",
       "      <td>26.000000</td>\n",
       "      <td>1.229166e+10</td>\n",
       "    </tr>\n",
       "    <tr>\n",
       "      <th>50%</th>\n",
       "      <td>62.943000</td>\n",
       "      <td>29.465000</td>\n",
       "      <td>16.876000</td>\n",
       "      <td>4.580000</td>\n",
       "      <td>0.360000</td>\n",
       "      <td>0.529000</td>\n",
       "      <td>32.000000</td>\n",
       "      <td>1.980707e+10</td>\n",
       "    </tr>\n",
       "    <tr>\n",
       "      <th>75%</th>\n",
       "      <td>153.662000</td>\n",
       "      <td>106.879000</td>\n",
       "      <td>50.699000</td>\n",
       "      <td>6.300000</td>\n",
       "      <td>0.680000</td>\n",
       "      <td>0.680000</td>\n",
       "      <td>42.500000</td>\n",
       "      <td>1.032440e+11</td>\n",
       "    </tr>\n",
       "    <tr>\n",
       "      <th>max</th>\n",
       "      <td>1671.692000</td>\n",
       "      <td>1619.587000</td>\n",
       "      <td>101.987000</td>\n",
       "      <td>9.810000</td>\n",
       "      <td>0.940000</td>\n",
       "      <td>0.930000</td>\n",
       "      <td>88.000000</td>\n",
       "      <td>1.472273e+13</td>\n",
       "    </tr>\n",
       "  </tbody>\n",
       "</table>\n",
       "</div>"
      ],
      "text/plain": [
       "       total_deaths_per_million  deaths_2021  deaths_2020  democracy_index  \\\n",
       "count                 63.000000    63.000000    63.000000        63.000000   \n",
       "mean                 134.010349   103.493063    30.517286         4.887937   \n",
       "std                  245.549667   234.289941    30.003608         2.173320   \n",
       "min                    0.673000     0.000000     0.168000         1.320000   \n",
       "25%                   21.604000     6.762500     7.483000         3.130000   \n",
       "50%                   62.943000    29.465000    16.876000         4.580000   \n",
       "75%                  153.662000   106.879000    50.699000         6.300000   \n",
       "max                 1671.692000  1619.587000   101.987000         9.810000   \n",
       "\n",
       "       health_index  education_index  cpi_index           gdp  \n",
       "count     63.000000        63.000000  63.000000  6.300000e+01  \n",
       "mean       0.408095         0.558063  38.079365  3.492337e+11  \n",
       "std        0.320009         0.177075  18.347279  1.854778e+12  \n",
       "min        0.000000         0.249000  16.000000  1.219690e+09  \n",
       "25%        0.140000         0.421500  26.000000  1.229166e+10  \n",
       "50%        0.360000         0.529000  32.000000  1.980707e+10  \n",
       "75%        0.680000         0.680000  42.500000  1.032440e+11  \n",
       "max        0.940000         0.930000  88.000000  1.472273e+13  "
      ]
     },
     "execution_count": 138,
     "metadata": {},
     "output_type": "execute_result"
    }
   ],
   "source": [
    "bottom_2020.describe()"
   ]
  },
  {
   "cell_type": "code",
   "execution_count": 139,
   "metadata": {},
   "outputs": [],
   "source": [
    "df_full_democracy = df[df['regime_type']=='Full democracy']"
   ]
  },
  {
   "cell_type": "code",
   "execution_count": 140,
   "metadata": {},
   "outputs": [
    {
     "data": {
      "text/plain": [
       "count      20.000000\n",
       "mean      436.566150\n",
       "std       398.401641\n",
       "min         0.000000\n",
       "25%        72.776500\n",
       "50%       440.250000\n",
       "75%       600.637750\n",
       "max      1619.587000\n",
       "Name: deaths_2021, dtype: float64"
      ]
     },
     "execution_count": 140,
     "metadata": {},
     "output_type": "execute_result"
    }
   ],
   "source": [
    "df_full_democracy['deaths_2021'].describe()"
   ]
  },
  {
   "cell_type": "code",
   "execution_count": 141,
   "metadata": {},
   "outputs": [],
   "source": [
    "top_fd = df_full_democracy[df_full_democracy['deaths_2021']>440.250000]\n",
    "bottom_fd = df_full_democracy[df_full_democracy['deaths_2021']<=440.250000]"
   ]
  },
  {
   "cell_type": "code",
   "execution_count": 142,
   "metadata": {},
   "outputs": [
    {
     "data": {
      "text/html": [
       "<div>\n",
       "<style scoped>\n",
       "    .dataframe tbody tr th:only-of-type {\n",
       "        vertical-align: middle;\n",
       "    }\n",
       "\n",
       "    .dataframe tbody tr th {\n",
       "        vertical-align: top;\n",
       "    }\n",
       "\n",
       "    .dataframe thead th {\n",
       "        text-align: right;\n",
       "    }\n",
       "</style>\n",
       "<table border=\"1\" class=\"dataframe\">\n",
       "  <thead>\n",
       "    <tr style=\"text-align: right;\">\n",
       "      <th></th>\n",
       "      <th>total_deaths_per_million</th>\n",
       "      <th>deaths_2021</th>\n",
       "      <th>deaths_2020</th>\n",
       "      <th>democracy_index</th>\n",
       "      <th>health_index</th>\n",
       "      <th>education_index</th>\n",
       "      <th>cpi_index</th>\n",
       "      <th>gdp</th>\n",
       "    </tr>\n",
       "  </thead>\n",
       "  <tbody>\n",
       "    <tr>\n",
       "      <th>count</th>\n",
       "      <td>10.000000</td>\n",
       "      <td>10.000000</td>\n",
       "      <td>10.000000</td>\n",
       "      <td>10.000000</td>\n",
       "      <td>10.000000</td>\n",
       "      <td>10.000000</td>\n",
       "      <td>10.000000</td>\n",
       "      <td>1.000000e+01</td>\n",
       "    </tr>\n",
       "    <tr>\n",
       "      <th>mean</th>\n",
       "      <td>1405.453500</td>\n",
       "      <td>733.083000</td>\n",
       "      <td>672.370500</td>\n",
       "      <td>8.553000</td>\n",
       "      <td>0.893000</td>\n",
       "      <td>0.851400</td>\n",
       "      <td>72.700000</td>\n",
       "      <td>9.621554e+11</td>\n",
       "    </tr>\n",
       "    <tr>\n",
       "      <th>std</th>\n",
       "      <td>346.198506</td>\n",
       "      <td>338.605599</td>\n",
       "      <td>332.703717</td>\n",
       "      <td>0.387443</td>\n",
       "      <td>0.029833</td>\n",
       "      <td>0.075457</td>\n",
       "      <td>8.718435</td>\n",
       "      <td>1.287819e+12</td>\n",
       "    </tr>\n",
       "    <tr>\n",
       "      <th>min</th>\n",
       "      <td>936.964000</td>\n",
       "      <td>499.756000</td>\n",
       "      <td>52.105000</td>\n",
       "      <td>8.120000</td>\n",
       "      <td>0.850000</td>\n",
       "      <td>0.726000</td>\n",
       "      <td>57.000000</td>\n",
       "      <td>5.362883e+10</td>\n",
       "    </tr>\n",
       "    <tr>\n",
       "      <th>25%</th>\n",
       "      <td>1114.384500</td>\n",
       "      <td>528.388250</td>\n",
       "      <td>434.953500</td>\n",
       "      <td>8.190000</td>\n",
       "      <td>0.867500</td>\n",
       "      <td>0.807000</td>\n",
       "      <td>68.000000</td>\n",
       "      <td>1.181830e+11</td>\n",
       "    </tr>\n",
       "    <tr>\n",
       "      <th>50%</th>\n",
       "      <td>1379.132000</td>\n",
       "      <td>615.490500</td>\n",
       "      <td>740.803500</td>\n",
       "      <td>8.575000</td>\n",
       "      <td>0.900000</td>\n",
       "      <td>0.848000</td>\n",
       "      <td>74.000000</td>\n",
       "      <td>4.237936e+11</td>\n",
       "    </tr>\n",
       "    <tr>\n",
       "      <th>75%</th>\n",
       "      <td>1717.303250</td>\n",
       "      <td>779.528500</td>\n",
       "      <td>867.624500</td>\n",
       "      <td>8.677500</td>\n",
       "      <td>0.917500</td>\n",
       "      <td>0.921000</td>\n",
       "      <td>79.250000</td>\n",
       "      <td>1.095302e+12</td>\n",
       "    </tr>\n",
       "    <tr>\n",
       "      <th>max</th>\n",
       "      <td>1895.310000</td>\n",
       "      <td>1619.587000</td>\n",
       "      <td>1087.311000</td>\n",
       "      <td>9.260000</td>\n",
       "      <td>0.930000</td>\n",
       "      <td>0.943000</td>\n",
       "      <td>85.000000</td>\n",
       "      <td>3.806060e+12</td>\n",
       "    </tr>\n",
       "  </tbody>\n",
       "</table>\n",
       "</div>"
      ],
      "text/plain": [
       "       total_deaths_per_million  deaths_2021  deaths_2020  democracy_index  \\\n",
       "count                 10.000000    10.000000    10.000000        10.000000   \n",
       "mean                1405.453500   733.083000   672.370500         8.553000   \n",
       "std                  346.198506   338.605599   332.703717         0.387443   \n",
       "min                  936.964000   499.756000    52.105000         8.120000   \n",
       "25%                 1114.384500   528.388250   434.953500         8.190000   \n",
       "50%                 1379.132000   615.490500   740.803500         8.575000   \n",
       "75%                 1717.303250   779.528500   867.624500         8.677500   \n",
       "max                 1895.310000  1619.587000  1087.311000         9.260000   \n",
       "\n",
       "       health_index  education_index  cpi_index           gdp  \n",
       "count     10.000000        10.000000  10.000000  1.000000e+01  \n",
       "mean       0.893000         0.851400  72.700000  9.621554e+11  \n",
       "std        0.029833         0.075457   8.718435  1.287819e+12  \n",
       "min        0.850000         0.726000  57.000000  5.362883e+10  \n",
       "25%        0.867500         0.807000  68.000000  1.181830e+11  \n",
       "50%        0.900000         0.848000  74.000000  4.237936e+11  \n",
       "75%        0.917500         0.921000  79.250000  1.095302e+12  \n",
       "max        0.930000         0.943000  85.000000  3.806060e+12  "
      ]
     },
     "execution_count": 142,
     "metadata": {},
     "output_type": "execute_result"
    }
   ],
   "source": [
    "top_fd.describe()"
   ]
  },
  {
   "cell_type": "code",
   "execution_count": 143,
   "metadata": {},
   "outputs": [
    {
     "data": {
      "text/html": [
       "<div>\n",
       "<style scoped>\n",
       "    .dataframe tbody tr th:only-of-type {\n",
       "        vertical-align: middle;\n",
       "    }\n",
       "\n",
       "    .dataframe tbody tr th {\n",
       "        vertical-align: top;\n",
       "    }\n",
       "\n",
       "    .dataframe thead th {\n",
       "        text-align: right;\n",
       "    }\n",
       "</style>\n",
       "<table border=\"1\" class=\"dataframe\">\n",
       "  <thead>\n",
       "    <tr style=\"text-align: right;\">\n",
       "      <th></th>\n",
       "      <th>total_deaths_per_million</th>\n",
       "      <th>deaths_2021</th>\n",
       "      <th>deaths_2020</th>\n",
       "      <th>democracy_index</th>\n",
       "      <th>health_index</th>\n",
       "      <th>education_index</th>\n",
       "      <th>cpi_index</th>\n",
       "      <th>gdp</th>\n",
       "    </tr>\n",
       "  </thead>\n",
       "  <tbody>\n",
       "    <tr>\n",
       "      <th>count</th>\n",
       "      <td>10.000000</td>\n",
       "      <td>10.000000</td>\n",
       "      <td>10.000000</td>\n",
       "      <td>10.00000</td>\n",
       "      <td>10.000000</td>\n",
       "      <td>10.000000</td>\n",
       "      <td>10.000000</td>\n",
       "      <td>1.000000e+01</td>\n",
       "    </tr>\n",
       "    <tr>\n",
       "      <th>mean</th>\n",
       "      <td>391.350800</td>\n",
       "      <td>140.049300</td>\n",
       "      <td>251.301500</td>\n",
       "      <td>9.09100</td>\n",
       "      <td>0.916000</td>\n",
       "      <td>0.899700</td>\n",
       "      <td>79.400000</td>\n",
       "      <td>5.868057e+11</td>\n",
       "    </tr>\n",
       "    <tr>\n",
       "      <th>std</th>\n",
       "      <td>460.204083</td>\n",
       "      <td>158.263096</td>\n",
       "      <td>307.516201</td>\n",
       "      <td>0.43005</td>\n",
       "      <td>0.028752</td>\n",
       "      <td>0.058769</td>\n",
       "      <td>10.362325</td>\n",
       "      <td>5.574579e+11</td>\n",
       "    </tr>\n",
       "    <tr>\n",
       "      <th>min</th>\n",
       "      <td>5.392000</td>\n",
       "      <td>0.000000</td>\n",
       "      <td>5.184000</td>\n",
       "      <td>8.14000</td>\n",
       "      <td>0.840000</td>\n",
       "      <td>0.736000</td>\n",
       "      <td>53.000000</td>\n",
       "      <td>1.091407e+10</td>\n",
       "    </tr>\n",
       "    <tr>\n",
       "      <th>25%</th>\n",
       "      <td>48.040000</td>\n",
       "      <td>1.728750</td>\n",
       "      <td>46.841250</td>\n",
       "      <td>8.96000</td>\n",
       "      <td>0.920000</td>\n",
       "      <td>0.903500</td>\n",
       "      <td>77.000000</td>\n",
       "      <td>2.271700e+11</td>\n",
       "    </tr>\n",
       "    <tr>\n",
       "      <th>50%</th>\n",
       "      <td>161.490000</td>\n",
       "      <td>70.653000</td>\n",
       "      <td>93.116000</td>\n",
       "      <td>9.17500</td>\n",
       "      <td>0.925000</td>\n",
       "      <td>0.922000</td>\n",
       "      <td>83.000000</td>\n",
       "      <td>3.585965e+11</td>\n",
       "    </tr>\n",
       "    <tr>\n",
       "      <th>75%</th>\n",
       "      <td>634.024250</td>\n",
       "      <td>264.783500</td>\n",
       "      <td>369.240750</td>\n",
       "      <td>9.24750</td>\n",
       "      <td>0.930000</td>\n",
       "      <td>0.926000</td>\n",
       "      <td>85.000000</td>\n",
       "      <td>8.711739e+11</td>\n",
       "    </tr>\n",
       "    <tr>\n",
       "      <th>max</th>\n",
       "      <td>1259.212000</td>\n",
       "      <td>380.744000</td>\n",
       "      <td>883.343000</td>\n",
       "      <td>9.81000</td>\n",
       "      <td>0.940000</td>\n",
       "      <td>0.930000</td>\n",
       "      <td>88.000000</td>\n",
       "      <td>1.643408e+12</td>\n",
       "    </tr>\n",
       "  </tbody>\n",
       "</table>\n",
       "</div>"
      ],
      "text/plain": [
       "       total_deaths_per_million  deaths_2021  deaths_2020  democracy_index  \\\n",
       "count                 10.000000    10.000000    10.000000         10.00000   \n",
       "mean                 391.350800   140.049300   251.301500          9.09100   \n",
       "std                  460.204083   158.263096   307.516201          0.43005   \n",
       "min                    5.392000     0.000000     5.184000          8.14000   \n",
       "25%                   48.040000     1.728750    46.841250          8.96000   \n",
       "50%                  161.490000    70.653000    93.116000          9.17500   \n",
       "75%                  634.024250   264.783500   369.240750          9.24750   \n",
       "max                 1259.212000   380.744000   883.343000          9.81000   \n",
       "\n",
       "       health_index  education_index  cpi_index           gdp  \n",
       "count     10.000000        10.000000  10.000000  1.000000e+01  \n",
       "mean       0.916000         0.899700  79.400000  5.868057e+11  \n",
       "std        0.028752         0.058769  10.362325  5.574579e+11  \n",
       "min        0.840000         0.736000  53.000000  1.091407e+10  \n",
       "25%        0.920000         0.903500  77.000000  2.271700e+11  \n",
       "50%        0.925000         0.922000  83.000000  3.585965e+11  \n",
       "75%        0.930000         0.926000  85.000000  8.711739e+11  \n",
       "max        0.940000         0.930000  88.000000  1.643408e+12  "
      ]
     },
     "execution_count": 143,
     "metadata": {},
     "output_type": "execute_result"
    }
   ],
   "source": [
    "bottom_fd.describe()"
   ]
  },
  {
   "cell_type": "markdown",
   "metadata": {},
   "source": [
    "**Clustering**"
   ]
  },
  {
   "cell_type": "code",
   "execution_count": 144,
   "metadata": {},
   "outputs": [],
   "source": [
    "from sklearn.cluster import KMeans"
   ]
  },
  {
   "cell_type": "code",
   "execution_count": 145,
   "metadata": {},
   "outputs": [],
   "source": [
    "from sklearn.preprocessing import MinMaxScaler"
   ]
  },
  {
   "cell_type": "code",
   "execution_count": 146,
   "metadata": {},
   "outputs": [],
   "source": [
    "scaler = MinMaxScaler()"
   ]
  },
  {
   "cell_type": "code",
   "execution_count": 147,
   "metadata": {},
   "outputs": [
    {
     "data": {
      "text/plain": [
       "MinMaxScaler()"
      ]
     },
     "execution_count": 147,
     "metadata": {},
     "output_type": "execute_result"
    }
   ],
   "source": [
    "scaler.fit(df.drop(columns = ['location','regime_type','deaths_2020','total_deaths_per_million']))"
   ]
  },
  {
   "cell_type": "code",
   "execution_count": 148,
   "metadata": {},
   "outputs": [],
   "source": [
    "x = scaler.transform(df.drop(columns = ['location','regime_type','deaths_2020','total_deaths_per_million']))"
   ]
  },
  {
   "cell_type": "code",
   "execution_count": 149,
   "metadata": {},
   "outputs": [
    {
     "data": {
      "text/plain": [
       "0.0"
      ]
     },
     "execution_count": 149,
     "metadata": {},
     "output_type": "execute_result"
    }
   ],
   "source": [
    "import numpy as np\n",
    "np.min(x[:,0])"
   ]
  },
  {
   "cell_type": "code",
   "execution_count": 150,
   "metadata": {},
   "outputs": [],
   "source": [
    "kmeans = KMeans(n_clusters=3, random_state=0)"
   ]
  },
  {
   "cell_type": "code",
   "execution_count": 151,
   "metadata": {},
   "outputs": [],
   "source": [
    "km = kmeans.fit(x)"
   ]
  },
  {
   "cell_type": "code",
   "execution_count": 152,
   "metadata": {},
   "outputs": [],
   "source": [
    "x_cluster = kmeans.transform(x)"
   ]
  },
  {
   "cell_type": "code",
   "execution_count": 153,
   "metadata": {},
   "outputs": [
    {
     "data": {
      "text/plain": [
       "array([1, 0, 0, 1, 0, 0, 2, 2, 0, 0, 0, 2, 1, 0, 0, 0, 1, 1, 1, 2, 1, 1,\n",
       "       2, 0, 0, 1, 2, 0, 2, 2, 1, 0, 0, 0, 1, 2, 1, 2, 2, 0, 0, 2, 1, 2,\n",
       "       0, 1, 0, 1, 0, 0, 2, 0, 0, 0, 2, 2, 2, 0, 0, 0, 1, 2, 0, 1, 1, 0,\n",
       "       2, 2, 1, 1, 0, 1, 2, 1, 2, 0, 0, 0, 0, 1, 1, 0, 1, 2, 2, 0, 1, 1,\n",
       "       2, 1, 0, 1, 0, 0, 0, 2, 2, 0, 0, 1, 0, 1, 0, 1, 2, 2, 0, 2, 0, 1,\n",
       "       0, 2, 2, 0, 0, 1, 0, 0, 0, 1, 0, 2, 2, 2, 0, 0, 1])"
      ]
     },
     "execution_count": 153,
     "metadata": {},
     "output_type": "execute_result"
    }
   ],
   "source": [
    "km.labels_"
   ]
  },
  {
   "cell_type": "code",
   "execution_count": 154,
   "metadata": {},
   "outputs": [],
   "source": [
    "df['cluster'] = km.labels_"
   ]
  },
  {
   "cell_type": "code",
   "execution_count": 155,
   "metadata": {},
   "outputs": [
    {
     "data": {
      "text/html": [
       "<div>\n",
       "<style scoped>\n",
       "    .dataframe tbody tr th:only-of-type {\n",
       "        vertical-align: middle;\n",
       "    }\n",
       "\n",
       "    .dataframe tbody tr th {\n",
       "        vertical-align: top;\n",
       "    }\n",
       "\n",
       "    .dataframe thead th {\n",
       "        text-align: right;\n",
       "    }\n",
       "</style>\n",
       "<table border=\"1\" class=\"dataframe\">\n",
       "  <thead>\n",
       "    <tr style=\"text-align: right;\">\n",
       "      <th></th>\n",
       "      <th>total_deaths_per_million</th>\n",
       "      <th>deaths_2021</th>\n",
       "      <th>deaths_2020</th>\n",
       "      <th>democracy_index</th>\n",
       "      <th>health_index</th>\n",
       "      <th>education_index</th>\n",
       "      <th>cpi_index</th>\n",
       "      <th>gdp</th>\n",
       "      <th>cluster</th>\n",
       "    </tr>\n",
       "  </thead>\n",
       "  <tbody>\n",
       "    <tr>\n",
       "      <th>count</th>\n",
       "      <td>56.000000</td>\n",
       "      <td>56.000000</td>\n",
       "      <td>56.000000</td>\n",
       "      <td>56.000000</td>\n",
       "      <td>56.000000</td>\n",
       "      <td>56.000000</td>\n",
       "      <td>56.000000</td>\n",
       "      <td>5.600000e+01</td>\n",
       "      <td>56.0</td>\n",
       "    </tr>\n",
       "    <tr>\n",
       "      <th>mean</th>\n",
       "      <td>945.628375</td>\n",
       "      <td>554.371036</td>\n",
       "      <td>391.257339</td>\n",
       "      <td>5.378036</td>\n",
       "      <td>0.694821</td>\n",
       "      <td>0.688946</td>\n",
       "      <td>38.125000</td>\n",
       "      <td>4.905298e+11</td>\n",
       "      <td>0.0</td>\n",
       "    </tr>\n",
       "    <tr>\n",
       "      <th>std</th>\n",
       "      <td>1043.240403</td>\n",
       "      <td>604.778808</td>\n",
       "      <td>479.113144</td>\n",
       "      <td>1.643333</td>\n",
       "      <td>0.104394</td>\n",
       "      <td>0.089684</td>\n",
       "      <td>9.702975</td>\n",
       "      <td>1.985287e+12</td>\n",
       "      <td>0.0</td>\n",
       "    </tr>\n",
       "    <tr>\n",
       "      <th>min</th>\n",
       "      <td>3.221000</td>\n",
       "      <td>0.001000</td>\n",
       "      <td>0.305000</td>\n",
       "      <td>1.940000</td>\n",
       "      <td>0.470000</td>\n",
       "      <td>0.499000</td>\n",
       "      <td>17.000000</td>\n",
       "      <td>3.807923e+09</td>\n",
       "      <td>0.0</td>\n",
       "    </tr>\n",
       "    <tr>\n",
       "      <th>25%</th>\n",
       "      <td>223.709500</td>\n",
       "      <td>134.438750</td>\n",
       "      <td>80.872000</td>\n",
       "      <td>4.062500</td>\n",
       "      <td>0.600000</td>\n",
       "      <td>0.647000</td>\n",
       "      <td>32.500000</td>\n",
       "      <td>2.097738e+10</td>\n",
       "      <td>0.0</td>\n",
       "    </tr>\n",
       "    <tr>\n",
       "      <th>50%</th>\n",
       "      <td>567.371000</td>\n",
       "      <td>381.183500</td>\n",
       "      <td>215.088000</td>\n",
       "      <td>6.055000</td>\n",
       "      <td>0.715000</td>\n",
       "      <td>0.685500</td>\n",
       "      <td>38.000000</td>\n",
       "      <td>6.468167e+10</td>\n",
       "      <td>0.0</td>\n",
       "    </tr>\n",
       "    <tr>\n",
       "      <th>75%</th>\n",
       "      <td>1366.942750</td>\n",
       "      <td>783.044500</td>\n",
       "      <td>516.997750</td>\n",
       "      <td>6.560000</td>\n",
       "      <td>0.762500</td>\n",
       "      <td>0.741500</td>\n",
       "      <td>44.000000</td>\n",
       "      <td>2.543734e+11</td>\n",
       "      <td>0.0</td>\n",
       "    </tr>\n",
       "    <tr>\n",
       "      <th>max</th>\n",
       "      <td>5860.454000</td>\n",
       "      <td>3037.743000</td>\n",
       "      <td>2822.711000</td>\n",
       "      <td>7.620000</td>\n",
       "      <td>0.890000</td>\n",
       "      <td>0.862000</td>\n",
       "      <td>63.000000</td>\n",
       "      <td>1.472273e+13</td>\n",
       "      <td>0.0</td>\n",
       "    </tr>\n",
       "  </tbody>\n",
       "</table>\n",
       "</div>"
      ],
      "text/plain": [
       "       total_deaths_per_million  deaths_2021  deaths_2020  democracy_index  \\\n",
       "count                 56.000000    56.000000    56.000000        56.000000   \n",
       "mean                 945.628375   554.371036   391.257339         5.378036   \n",
       "std                 1043.240403   604.778808   479.113144         1.643333   \n",
       "min                    3.221000     0.001000     0.305000         1.940000   \n",
       "25%                  223.709500   134.438750    80.872000         4.062500   \n",
       "50%                  567.371000   381.183500   215.088000         6.055000   \n",
       "75%                 1366.942750   783.044500   516.997750         6.560000   \n",
       "max                 5860.454000  3037.743000  2822.711000         7.620000   \n",
       "\n",
       "       health_index  education_index  cpi_index           gdp  cluster  \n",
       "count     56.000000        56.000000  56.000000  5.600000e+01     56.0  \n",
       "mean       0.694821         0.688946  38.125000  4.905298e+11      0.0  \n",
       "std        0.104394         0.089684   9.702975  1.985287e+12      0.0  \n",
       "min        0.470000         0.499000  17.000000  3.807923e+09      0.0  \n",
       "25%        0.600000         0.647000  32.500000  2.097738e+10      0.0  \n",
       "50%        0.715000         0.685500  38.000000  6.468167e+10      0.0  \n",
       "75%        0.762500         0.741500  44.000000  2.543734e+11      0.0  \n",
       "max        0.890000         0.862000  63.000000  1.472273e+13      0.0  "
      ]
     },
     "execution_count": 155,
     "metadata": {},
     "output_type": "execute_result"
    }
   ],
   "source": [
    "df[df['cluster'] == 0].describe()"
   ]
  },
  {
   "cell_type": "code",
   "execution_count": 156,
   "metadata": {},
   "outputs": [
    {
     "data": {
      "text/html": [
       "<div>\n",
       "<style scoped>\n",
       "    .dataframe tbody tr th:only-of-type {\n",
       "        vertical-align: middle;\n",
       "    }\n",
       "\n",
       "    .dataframe tbody tr th {\n",
       "        vertical-align: top;\n",
       "    }\n",
       "\n",
       "    .dataframe thead th {\n",
       "        text-align: right;\n",
       "    }\n",
       "</style>\n",
       "<table border=\"1\" class=\"dataframe\">\n",
       "  <thead>\n",
       "    <tr style=\"text-align: right;\">\n",
       "      <th></th>\n",
       "      <th>total_deaths_per_million</th>\n",
       "      <th>deaths_2021</th>\n",
       "      <th>deaths_2020</th>\n",
       "      <th>democracy_index</th>\n",
       "      <th>health_index</th>\n",
       "      <th>education_index</th>\n",
       "      <th>cpi_index</th>\n",
       "      <th>gdp</th>\n",
       "      <th>cluster</th>\n",
       "    </tr>\n",
       "  </thead>\n",
       "  <tbody>\n",
       "    <tr>\n",
       "      <th>count</th>\n",
       "      <td>36.000000</td>\n",
       "      <td>36.000000</td>\n",
       "      <td>36.000000</td>\n",
       "      <td>36.000000</td>\n",
       "      <td>36.000000</td>\n",
       "      <td>36.000000</td>\n",
       "      <td>36.000000</td>\n",
       "      <td>3.600000e+01</td>\n",
       "      <td>36.0</td>\n",
       "    </tr>\n",
       "    <tr>\n",
       "      <th>mean</th>\n",
       "      <td>62.238111</td>\n",
       "      <td>40.883444</td>\n",
       "      <td>21.354667</td>\n",
       "      <td>3.891667</td>\n",
       "      <td>0.166389</td>\n",
       "      <td>0.432694</td>\n",
       "      <td>29.222222</td>\n",
       "      <td>4.257939e+10</td>\n",
       "      <td>1.0</td>\n",
       "    </tr>\n",
       "    <tr>\n",
       "      <th>std</th>\n",
       "      <td>65.550256</td>\n",
       "      <td>53.194508</td>\n",
       "      <td>20.685882</td>\n",
       "      <td>1.364483</td>\n",
       "      <td>0.150298</td>\n",
       "      <td>0.086491</td>\n",
       "      <td>8.485655</td>\n",
       "      <td>8.220852e+10</td>\n",
       "      <td>0.0</td>\n",
       "    </tr>\n",
       "    <tr>\n",
       "      <th>min</th>\n",
       "      <td>0.673000</td>\n",
       "      <td>0.505000</td>\n",
       "      <td>0.168000</td>\n",
       "      <td>1.320000</td>\n",
       "      <td>0.000000</td>\n",
       "      <td>0.249000</td>\n",
       "      <td>16.000000</td>\n",
       "      <td>1.219690e+09</td>\n",
       "      <td>1.0</td>\n",
       "    </tr>\n",
       "    <tr>\n",
       "      <th>25%</th>\n",
       "      <td>18.853500</td>\n",
       "      <td>7.700000</td>\n",
       "      <td>6.311500</td>\n",
       "      <td>2.992500</td>\n",
       "      <td>0.000000</td>\n",
       "      <td>0.353750</td>\n",
       "      <td>25.000000</td>\n",
       "      <td>9.461024e+09</td>\n",
       "      <td>1.0</td>\n",
       "    </tr>\n",
       "    <tr>\n",
       "      <th>50%</th>\n",
       "      <td>39.542000</td>\n",
       "      <td>22.569000</td>\n",
       "      <td>12.683500</td>\n",
       "      <td>3.695000</td>\n",
       "      <td>0.170000</td>\n",
       "      <td>0.447500</td>\n",
       "      <td>28.000000</td>\n",
       "      <td>1.566630e+10</td>\n",
       "      <td>1.0</td>\n",
       "    </tr>\n",
       "    <tr>\n",
       "      <th>75%</th>\n",
       "      <td>75.042500</td>\n",
       "      <td>41.800000</td>\n",
       "      <td>26.128750</td>\n",
       "      <td>4.967500</td>\n",
       "      <td>0.272500</td>\n",
       "      <td>0.499250</td>\n",
       "      <td>32.250000</td>\n",
       "      <td>3.458589e+10</td>\n",
       "      <td>1.0</td>\n",
       "    </tr>\n",
       "    <tr>\n",
       "      <th>max</th>\n",
       "      <td>321.312000</td>\n",
       "      <td>257.613000</td>\n",
       "      <td>74.629000</td>\n",
       "      <td>6.500000</td>\n",
       "      <td>0.450000</td>\n",
       "      <td>0.587000</td>\n",
       "      <td>54.000000</td>\n",
       "      <td>4.322938e+11</td>\n",
       "      <td>1.0</td>\n",
       "    </tr>\n",
       "  </tbody>\n",
       "</table>\n",
       "</div>"
      ],
      "text/plain": [
       "       total_deaths_per_million  deaths_2021  deaths_2020  democracy_index  \\\n",
       "count                 36.000000    36.000000    36.000000        36.000000   \n",
       "mean                  62.238111    40.883444    21.354667         3.891667   \n",
       "std                   65.550256    53.194508    20.685882         1.364483   \n",
       "min                    0.673000     0.505000     0.168000         1.320000   \n",
       "25%                   18.853500     7.700000     6.311500         2.992500   \n",
       "50%                   39.542000    22.569000    12.683500         3.695000   \n",
       "75%                   75.042500    41.800000    26.128750         4.967500   \n",
       "max                  321.312000   257.613000    74.629000         6.500000   \n",
       "\n",
       "       health_index  education_index  cpi_index           gdp  cluster  \n",
       "count     36.000000        36.000000  36.000000  3.600000e+01     36.0  \n",
       "mean       0.166389         0.432694  29.222222  4.257939e+10      1.0  \n",
       "std        0.150298         0.086491   8.485655  8.220852e+10      0.0  \n",
       "min        0.000000         0.249000  16.000000  1.219690e+09      1.0  \n",
       "25%        0.000000         0.353750  25.000000  9.461024e+09      1.0  \n",
       "50%        0.170000         0.447500  28.000000  1.566630e+10      1.0  \n",
       "75%        0.272500         0.499250  32.250000  3.458589e+10      1.0  \n",
       "max        0.450000         0.587000  54.000000  4.322938e+11      1.0  "
      ]
     },
     "execution_count": 156,
     "metadata": {},
     "output_type": "execute_result"
    }
   ],
   "source": [
    "df[df['cluster'] == 1].describe()"
   ]
  },
  {
   "cell_type": "code",
   "execution_count": 157,
   "metadata": {},
   "outputs": [
    {
     "data": {
      "text/html": [
       "<div>\n",
       "<style scoped>\n",
       "    .dataframe tbody tr th:only-of-type {\n",
       "        vertical-align: middle;\n",
       "    }\n",
       "\n",
       "    .dataframe tbody tr th {\n",
       "        vertical-align: top;\n",
       "    }\n",
       "\n",
       "    .dataframe thead th {\n",
       "        text-align: right;\n",
       "    }\n",
       "</style>\n",
       "<table border=\"1\" class=\"dataframe\">\n",
       "  <thead>\n",
       "    <tr style=\"text-align: right;\">\n",
       "      <th></th>\n",
       "      <th>total_deaths_per_million</th>\n",
       "      <th>deaths_2021</th>\n",
       "      <th>deaths_2020</th>\n",
       "      <th>democracy_index</th>\n",
       "      <th>health_index</th>\n",
       "      <th>education_index</th>\n",
       "      <th>cpi_index</th>\n",
       "      <th>gdp</th>\n",
       "      <th>cluster</th>\n",
       "    </tr>\n",
       "  </thead>\n",
       "  <tbody>\n",
       "    <tr>\n",
       "      <th>count</th>\n",
       "      <td>35.000000</td>\n",
       "      <td>35.000000</td>\n",
       "      <td>35.000000</td>\n",
       "      <td>35.000000</td>\n",
       "      <td>35.000000</td>\n",
       "      <td>35.000000</td>\n",
       "      <td>35.000000</td>\n",
       "      <td>3.500000e+01</td>\n",
       "      <td>35.0</td>\n",
       "    </tr>\n",
       "    <tr>\n",
       "      <th>mean</th>\n",
       "      <td>1108.740429</td>\n",
       "      <td>550.112686</td>\n",
       "      <td>558.627743</td>\n",
       "      <td>8.245714</td>\n",
       "      <td>0.888571</td>\n",
       "      <td>0.867457</td>\n",
       "      <td>70.285714</td>\n",
       "      <td>1.239987e+12</td>\n",
       "      <td>2.0</td>\n",
       "    </tr>\n",
       "    <tr>\n",
       "      <th>std</th>\n",
       "      <td>692.339482</td>\n",
       "      <td>387.068632</td>\n",
       "      <td>433.448495</td>\n",
       "      <td>0.834130</td>\n",
       "      <td>0.042158</td>\n",
       "      <td>0.060222</td>\n",
       "      <td>11.873281</td>\n",
       "      <td>3.540848e+12</td>\n",
       "      <td>0.0</td>\n",
       "    </tr>\n",
       "    <tr>\n",
       "      <th>min</th>\n",
       "      <td>5.392000</td>\n",
       "      <td>0.000000</td>\n",
       "      <td>4.957000</td>\n",
       "      <td>6.030000</td>\n",
       "      <td>0.760000</td>\n",
       "      <td>0.726000</td>\n",
       "      <td>50.000000</td>\n",
       "      <td>1.091407e+10</td>\n",
       "      <td>2.0</td>\n",
       "    </tr>\n",
       "    <tr>\n",
       "      <th>25%</th>\n",
       "      <td>568.856500</td>\n",
       "      <td>287.743500</td>\n",
       "      <td>153.319000</td>\n",
       "      <td>7.710000</td>\n",
       "      <td>0.860000</td>\n",
       "      <td>0.826000</td>\n",
       "      <td>60.000000</td>\n",
       "      <td>5.870397e+10</td>\n",
       "      <td>2.0</td>\n",
       "    </tr>\n",
       "    <tr>\n",
       "      <th>50%</th>\n",
       "      <td>1190.598000</td>\n",
       "      <td>517.592000</td>\n",
       "      <td>464.163000</td>\n",
       "      <td>8.160000</td>\n",
       "      <td>0.900000</td>\n",
       "      <td>0.883000</td>\n",
       "      <td>72.000000</td>\n",
       "      <td>3.551840e+11</td>\n",
       "      <td>2.0</td>\n",
       "    </tr>\n",
       "    <tr>\n",
       "      <th>75%</th>\n",
       "      <td>1676.705500</td>\n",
       "      <td>797.782000</td>\n",
       "      <td>866.457000</td>\n",
       "      <td>8.960000</td>\n",
       "      <td>0.920000</td>\n",
       "      <td>0.919000</td>\n",
       "      <td>80.000000</td>\n",
       "      <td>8.301055e+11</td>\n",
       "      <td>2.0</td>\n",
       "    </tr>\n",
       "    <tr>\n",
       "      <th>max</th>\n",
       "      <td>2174.188000</td>\n",
       "      <td>1619.587000</td>\n",
       "      <td>1684.957000</td>\n",
       "      <td>9.810000</td>\n",
       "      <td>0.940000</td>\n",
       "      <td>0.943000</td>\n",
       "      <td>88.000000</td>\n",
       "      <td>2.093660e+13</td>\n",
       "      <td>2.0</td>\n",
       "    </tr>\n",
       "  </tbody>\n",
       "</table>\n",
       "</div>"
      ],
      "text/plain": [
       "       total_deaths_per_million  deaths_2021  deaths_2020  democracy_index  \\\n",
       "count                 35.000000    35.000000    35.000000        35.000000   \n",
       "mean                1108.740429   550.112686   558.627743         8.245714   \n",
       "std                  692.339482   387.068632   433.448495         0.834130   \n",
       "min                    5.392000     0.000000     4.957000         6.030000   \n",
       "25%                  568.856500   287.743500   153.319000         7.710000   \n",
       "50%                 1190.598000   517.592000   464.163000         8.160000   \n",
       "75%                 1676.705500   797.782000   866.457000         8.960000   \n",
       "max                 2174.188000  1619.587000  1684.957000         9.810000   \n",
       "\n",
       "       health_index  education_index  cpi_index           gdp  cluster  \n",
       "count     35.000000        35.000000  35.000000  3.500000e+01     35.0  \n",
       "mean       0.888571         0.867457  70.285714  1.239987e+12      2.0  \n",
       "std        0.042158         0.060222  11.873281  3.540848e+12      0.0  \n",
       "min        0.760000         0.726000  50.000000  1.091407e+10      2.0  \n",
       "25%        0.860000         0.826000  60.000000  5.870397e+10      2.0  \n",
       "50%        0.900000         0.883000  72.000000  3.551840e+11      2.0  \n",
       "75%        0.920000         0.919000  80.000000  8.301055e+11      2.0  \n",
       "max        0.940000         0.943000  88.000000  2.093660e+13      2.0  "
      ]
     },
     "execution_count": 157,
     "metadata": {},
     "output_type": "execute_result"
    }
   ],
   "source": [
    "df[df['cluster'] == 2].describe()"
   ]
  }
 ],
 "metadata": {
  "colab": {
   "collapsed_sections": [],
   "name": "Performance of the Vaccination and Coping Programs against Covid-19.ipynb",
   "provenance": []
  },
  "kernelspec": {
   "display_name": "Python 3",
   "language": "python",
   "name": "python3"
  },
  "language_info": {
   "codemirror_mode": {
    "name": "ipython",
    "version": 3
   },
   "file_extension": ".py",
   "mimetype": "text/x-python",
   "name": "python",
   "nbconvert_exporter": "python",
   "pygments_lexer": "ipython3",
   "version": "3.8.5"
  }
 },
 "nbformat": 4,
 "nbformat_minor": 1
}
